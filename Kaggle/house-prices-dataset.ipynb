{
 "cells": [
  {
   "cell_type": "code",
   "execution_count": 1,
   "id": "a959943e",
   "metadata": {
    "_cell_guid": "b1076dfc-b9ad-4769-8c92-a6c4dae69d19",
    "_uuid": "8f2839f25d086af736a60e9eeb907d3b93b6e0e5",
    "execution": {
     "iopub.execute_input": "2022-04-03T01:54:34.317228Z",
     "iopub.status.busy": "2022-04-03T01:54:34.316025Z",
     "iopub.status.idle": "2022-04-03T01:54:34.328859Z",
     "shell.execute_reply": "2022-04-03T01:54:34.329651Z",
     "shell.execute_reply.started": "2022-03-25T23:29:21.895265Z"
    },
    "papermill": {
     "duration": 0.058524,
     "end_time": "2022-04-03T01:54:34.330112",
     "exception": false,
     "start_time": "2022-04-03T01:54:34.271588",
     "status": "completed"
    },
    "tags": []
   },
   "outputs": [
    {
     "name": "stdout",
     "output_type": "stream",
     "text": [
      "/kaggle/input/house-prices-advanced-regression-techniques/sample_submission.csv\n",
      "/kaggle/input/house-prices-advanced-regression-techniques/data_description.txt\n",
      "/kaggle/input/house-prices-advanced-regression-techniques/train.csv\n",
      "/kaggle/input/house-prices-advanced-regression-techniques/test.csv\n"
     ]
    }
   ],
   "source": [
    "# This Python 3 environment comes with many helpful analytics libraries installed\n",
    "# It is defined by the kaggle/python Docker image: https://github.com/kaggle/docker-python\n",
    "# For example, here's several helpful packages to load\n",
    "\n",
    "import numpy as np # linear algebra\n",
    "import pandas as pd # data processing, CSV file I/O (e.g. pd.read_csv)\n",
    "\n",
    "# Input data files are available in the read-only \"../input/\" directory\n",
    "# For example, running this (by clicking run or pressing Shift+Enter) will list all files under the input directory\n",
    "\n",
    "import os\n",
    "for dirname, _, filenames in os.walk('/kaggle/input'):\n",
    "    for filename in filenames:\n",
    "        print(os.path.join(dirname, filename))\n",
    "\n",
    "# You can write up to 20GB to the current directory (/kaggle/working/) that gets preserved as output when you create a version using \"Save & Run All\" \n",
    "# You can also write temporary files to /kaggle/temp/, but they won't be saved outside of the current session"
   ]
  },
  {
   "cell_type": "code",
   "execution_count": 2,
   "id": "712cf3b7",
   "metadata": {
    "execution": {
     "iopub.execute_input": "2022-04-03T01:54:34.402092Z",
     "iopub.status.busy": "2022-04-03T01:54:34.401171Z",
     "iopub.status.idle": "2022-04-03T01:54:35.733647Z",
     "shell.execute_reply": "2022-04-03T01:54:35.734206Z",
     "shell.execute_reply.started": "2022-03-25T23:29:22.368705Z"
    },
    "papermill": {
     "duration": 1.370123,
     "end_time": "2022-04-03T01:54:35.734422",
     "exception": false,
     "start_time": "2022-04-03T01:54:34.364299",
     "status": "completed"
    },
    "tags": []
   },
   "outputs": [],
   "source": [
    "from sklearn.preprocessing import OneHotEncoder, StandardScaler\n",
    "from sklearn.impute import SimpleImputer\n",
    "from sklearn.pipeline import Pipeline\n",
    "from sklearn.compose import ColumnTransformer"
   ]
  },
  {
   "cell_type": "code",
   "execution_count": 3,
   "id": "4828c972",
   "metadata": {
    "execution": {
     "iopub.execute_input": "2022-04-03T01:54:35.802481Z",
     "iopub.status.busy": "2022-04-03T01:54:35.801734Z",
     "iopub.status.idle": "2022-04-03T01:54:35.893842Z",
     "shell.execute_reply": "2022-04-03T01:54:35.893273Z",
     "shell.execute_reply.started": "2022-03-25T23:29:23.710206Z"
    },
    "papermill": {
     "duration": 0.127599,
     "end_time": "2022-04-03T01:54:35.894058",
     "exception": false,
     "start_time": "2022-04-03T01:54:35.766459",
     "status": "completed"
    },
    "tags": []
   },
   "outputs": [],
   "source": [
    "sample_submission = pd.read_csv('/kaggle/input/house-prices-advanced-regression-techniques/sample_submission.csv')\n",
    "train_set = pd.read_csv('/kaggle/input/house-prices-advanced-regression-techniques/train.csv')\n",
    "test_set = pd.read_csv('/kaggle/input/house-prices-advanced-regression-techniques/test.csv')"
   ]
  },
  {
   "cell_type": "code",
   "execution_count": 4,
   "id": "c350a54a",
   "metadata": {
    "execution": {
     "iopub.execute_input": "2022-04-03T01:54:35.965555Z",
     "iopub.status.busy": "2022-04-03T01:54:35.964871Z",
     "iopub.status.idle": "2022-04-03T01:54:35.974905Z",
     "shell.execute_reply": "2022-04-03T01:54:35.975380Z",
     "shell.execute_reply.started": "2022-03-25T23:29:23.871188Z"
    },
    "papermill": {
     "duration": 0.045143,
     "end_time": "2022-04-03T01:54:35.975577",
     "exception": false,
     "start_time": "2022-04-03T01:54:35.930434",
     "status": "completed"
    },
    "tags": []
   },
   "outputs": [],
   "source": [
    "y_train = train_set['SalePrice'].copy()"
   ]
  },
  {
   "cell_type": "code",
   "execution_count": 5,
   "id": "61aa74d5",
   "metadata": {
    "execution": {
     "iopub.execute_input": "2022-04-03T01:54:36.049551Z",
     "iopub.status.busy": "2022-04-03T01:54:36.048826Z",
     "iopub.status.idle": "2022-04-03T01:54:36.085004Z",
     "shell.execute_reply": "2022-04-03T01:54:36.085497Z",
     "shell.execute_reply.started": "2022-03-25T23:29:23.883599Z"
    },
    "papermill": {
     "duration": 0.078803,
     "end_time": "2022-04-03T01:54:36.085670",
     "exception": false,
     "start_time": "2022-04-03T01:54:36.006867",
     "status": "completed"
    },
    "tags": []
   },
   "outputs": [
    {
     "data": {
      "text/html": [
       "<div>\n",
       "<style scoped>\n",
       "    .dataframe tbody tr th:only-of-type {\n",
       "        vertical-align: middle;\n",
       "    }\n",
       "\n",
       "    .dataframe tbody tr th {\n",
       "        vertical-align: top;\n",
       "    }\n",
       "\n",
       "    .dataframe thead th {\n",
       "        text-align: right;\n",
       "    }\n",
       "</style>\n",
       "<table border=\"1\" class=\"dataframe\">\n",
       "  <thead>\n",
       "    <tr style=\"text-align: right;\">\n",
       "      <th></th>\n",
       "      <th>Id</th>\n",
       "      <th>MSSubClass</th>\n",
       "      <th>MSZoning</th>\n",
       "      <th>LotFrontage</th>\n",
       "      <th>LotArea</th>\n",
       "      <th>Street</th>\n",
       "      <th>Alley</th>\n",
       "      <th>LotShape</th>\n",
       "      <th>LandContour</th>\n",
       "      <th>Utilities</th>\n",
       "      <th>...</th>\n",
       "      <th>PoolArea</th>\n",
       "      <th>PoolQC</th>\n",
       "      <th>Fence</th>\n",
       "      <th>MiscFeature</th>\n",
       "      <th>MiscVal</th>\n",
       "      <th>MoSold</th>\n",
       "      <th>YrSold</th>\n",
       "      <th>SaleType</th>\n",
       "      <th>SaleCondition</th>\n",
       "      <th>SalePrice</th>\n",
       "    </tr>\n",
       "  </thead>\n",
       "  <tbody>\n",
       "    <tr>\n",
       "      <th>0</th>\n",
       "      <td>1</td>\n",
       "      <td>60</td>\n",
       "      <td>RL</td>\n",
       "      <td>65.0</td>\n",
       "      <td>8450</td>\n",
       "      <td>Pave</td>\n",
       "      <td>NaN</td>\n",
       "      <td>Reg</td>\n",
       "      <td>Lvl</td>\n",
       "      <td>AllPub</td>\n",
       "      <td>...</td>\n",
       "      <td>0</td>\n",
       "      <td>NaN</td>\n",
       "      <td>NaN</td>\n",
       "      <td>NaN</td>\n",
       "      <td>0</td>\n",
       "      <td>2</td>\n",
       "      <td>2008</td>\n",
       "      <td>WD</td>\n",
       "      <td>Normal</td>\n",
       "      <td>208500</td>\n",
       "    </tr>\n",
       "    <tr>\n",
       "      <th>1</th>\n",
       "      <td>2</td>\n",
       "      <td>20</td>\n",
       "      <td>RL</td>\n",
       "      <td>80.0</td>\n",
       "      <td>9600</td>\n",
       "      <td>Pave</td>\n",
       "      <td>NaN</td>\n",
       "      <td>Reg</td>\n",
       "      <td>Lvl</td>\n",
       "      <td>AllPub</td>\n",
       "      <td>...</td>\n",
       "      <td>0</td>\n",
       "      <td>NaN</td>\n",
       "      <td>NaN</td>\n",
       "      <td>NaN</td>\n",
       "      <td>0</td>\n",
       "      <td>5</td>\n",
       "      <td>2007</td>\n",
       "      <td>WD</td>\n",
       "      <td>Normal</td>\n",
       "      <td>181500</td>\n",
       "    </tr>\n",
       "    <tr>\n",
       "      <th>2</th>\n",
       "      <td>3</td>\n",
       "      <td>60</td>\n",
       "      <td>RL</td>\n",
       "      <td>68.0</td>\n",
       "      <td>11250</td>\n",
       "      <td>Pave</td>\n",
       "      <td>NaN</td>\n",
       "      <td>IR1</td>\n",
       "      <td>Lvl</td>\n",
       "      <td>AllPub</td>\n",
       "      <td>...</td>\n",
       "      <td>0</td>\n",
       "      <td>NaN</td>\n",
       "      <td>NaN</td>\n",
       "      <td>NaN</td>\n",
       "      <td>0</td>\n",
       "      <td>9</td>\n",
       "      <td>2008</td>\n",
       "      <td>WD</td>\n",
       "      <td>Normal</td>\n",
       "      <td>223500</td>\n",
       "    </tr>\n",
       "    <tr>\n",
       "      <th>3</th>\n",
       "      <td>4</td>\n",
       "      <td>70</td>\n",
       "      <td>RL</td>\n",
       "      <td>60.0</td>\n",
       "      <td>9550</td>\n",
       "      <td>Pave</td>\n",
       "      <td>NaN</td>\n",
       "      <td>IR1</td>\n",
       "      <td>Lvl</td>\n",
       "      <td>AllPub</td>\n",
       "      <td>...</td>\n",
       "      <td>0</td>\n",
       "      <td>NaN</td>\n",
       "      <td>NaN</td>\n",
       "      <td>NaN</td>\n",
       "      <td>0</td>\n",
       "      <td>2</td>\n",
       "      <td>2006</td>\n",
       "      <td>WD</td>\n",
       "      <td>Abnorml</td>\n",
       "      <td>140000</td>\n",
       "    </tr>\n",
       "    <tr>\n",
       "      <th>4</th>\n",
       "      <td>5</td>\n",
       "      <td>60</td>\n",
       "      <td>RL</td>\n",
       "      <td>84.0</td>\n",
       "      <td>14260</td>\n",
       "      <td>Pave</td>\n",
       "      <td>NaN</td>\n",
       "      <td>IR1</td>\n",
       "      <td>Lvl</td>\n",
       "      <td>AllPub</td>\n",
       "      <td>...</td>\n",
       "      <td>0</td>\n",
       "      <td>NaN</td>\n",
       "      <td>NaN</td>\n",
       "      <td>NaN</td>\n",
       "      <td>0</td>\n",
       "      <td>12</td>\n",
       "      <td>2008</td>\n",
       "      <td>WD</td>\n",
       "      <td>Normal</td>\n",
       "      <td>250000</td>\n",
       "    </tr>\n",
       "    <tr>\n",
       "      <th>...</th>\n",
       "      <td>...</td>\n",
       "      <td>...</td>\n",
       "      <td>...</td>\n",
       "      <td>...</td>\n",
       "      <td>...</td>\n",
       "      <td>...</td>\n",
       "      <td>...</td>\n",
       "      <td>...</td>\n",
       "      <td>...</td>\n",
       "      <td>...</td>\n",
       "      <td>...</td>\n",
       "      <td>...</td>\n",
       "      <td>...</td>\n",
       "      <td>...</td>\n",
       "      <td>...</td>\n",
       "      <td>...</td>\n",
       "      <td>...</td>\n",
       "      <td>...</td>\n",
       "      <td>...</td>\n",
       "      <td>...</td>\n",
       "      <td>...</td>\n",
       "    </tr>\n",
       "    <tr>\n",
       "      <th>1455</th>\n",
       "      <td>1456</td>\n",
       "      <td>60</td>\n",
       "      <td>RL</td>\n",
       "      <td>62.0</td>\n",
       "      <td>7917</td>\n",
       "      <td>Pave</td>\n",
       "      <td>NaN</td>\n",
       "      <td>Reg</td>\n",
       "      <td>Lvl</td>\n",
       "      <td>AllPub</td>\n",
       "      <td>...</td>\n",
       "      <td>0</td>\n",
       "      <td>NaN</td>\n",
       "      <td>NaN</td>\n",
       "      <td>NaN</td>\n",
       "      <td>0</td>\n",
       "      <td>8</td>\n",
       "      <td>2007</td>\n",
       "      <td>WD</td>\n",
       "      <td>Normal</td>\n",
       "      <td>175000</td>\n",
       "    </tr>\n",
       "    <tr>\n",
       "      <th>1456</th>\n",
       "      <td>1457</td>\n",
       "      <td>20</td>\n",
       "      <td>RL</td>\n",
       "      <td>85.0</td>\n",
       "      <td>13175</td>\n",
       "      <td>Pave</td>\n",
       "      <td>NaN</td>\n",
       "      <td>Reg</td>\n",
       "      <td>Lvl</td>\n",
       "      <td>AllPub</td>\n",
       "      <td>...</td>\n",
       "      <td>0</td>\n",
       "      <td>NaN</td>\n",
       "      <td>MnPrv</td>\n",
       "      <td>NaN</td>\n",
       "      <td>0</td>\n",
       "      <td>2</td>\n",
       "      <td>2010</td>\n",
       "      <td>WD</td>\n",
       "      <td>Normal</td>\n",
       "      <td>210000</td>\n",
       "    </tr>\n",
       "    <tr>\n",
       "      <th>1457</th>\n",
       "      <td>1458</td>\n",
       "      <td>70</td>\n",
       "      <td>RL</td>\n",
       "      <td>66.0</td>\n",
       "      <td>9042</td>\n",
       "      <td>Pave</td>\n",
       "      <td>NaN</td>\n",
       "      <td>Reg</td>\n",
       "      <td>Lvl</td>\n",
       "      <td>AllPub</td>\n",
       "      <td>...</td>\n",
       "      <td>0</td>\n",
       "      <td>NaN</td>\n",
       "      <td>GdPrv</td>\n",
       "      <td>Shed</td>\n",
       "      <td>2500</td>\n",
       "      <td>5</td>\n",
       "      <td>2010</td>\n",
       "      <td>WD</td>\n",
       "      <td>Normal</td>\n",
       "      <td>266500</td>\n",
       "    </tr>\n",
       "    <tr>\n",
       "      <th>1458</th>\n",
       "      <td>1459</td>\n",
       "      <td>20</td>\n",
       "      <td>RL</td>\n",
       "      <td>68.0</td>\n",
       "      <td>9717</td>\n",
       "      <td>Pave</td>\n",
       "      <td>NaN</td>\n",
       "      <td>Reg</td>\n",
       "      <td>Lvl</td>\n",
       "      <td>AllPub</td>\n",
       "      <td>...</td>\n",
       "      <td>0</td>\n",
       "      <td>NaN</td>\n",
       "      <td>NaN</td>\n",
       "      <td>NaN</td>\n",
       "      <td>0</td>\n",
       "      <td>4</td>\n",
       "      <td>2010</td>\n",
       "      <td>WD</td>\n",
       "      <td>Normal</td>\n",
       "      <td>142125</td>\n",
       "    </tr>\n",
       "    <tr>\n",
       "      <th>1459</th>\n",
       "      <td>1460</td>\n",
       "      <td>20</td>\n",
       "      <td>RL</td>\n",
       "      <td>75.0</td>\n",
       "      <td>9937</td>\n",
       "      <td>Pave</td>\n",
       "      <td>NaN</td>\n",
       "      <td>Reg</td>\n",
       "      <td>Lvl</td>\n",
       "      <td>AllPub</td>\n",
       "      <td>...</td>\n",
       "      <td>0</td>\n",
       "      <td>NaN</td>\n",
       "      <td>NaN</td>\n",
       "      <td>NaN</td>\n",
       "      <td>0</td>\n",
       "      <td>6</td>\n",
       "      <td>2008</td>\n",
       "      <td>WD</td>\n",
       "      <td>Normal</td>\n",
       "      <td>147500</td>\n",
       "    </tr>\n",
       "  </tbody>\n",
       "</table>\n",
       "<p>1460 rows × 81 columns</p>\n",
       "</div>"
      ],
      "text/plain": [
       "        Id  MSSubClass MSZoning  LotFrontage  LotArea Street Alley LotShape  \\\n",
       "0        1          60       RL         65.0     8450   Pave   NaN      Reg   \n",
       "1        2          20       RL         80.0     9600   Pave   NaN      Reg   \n",
       "2        3          60       RL         68.0    11250   Pave   NaN      IR1   \n",
       "3        4          70       RL         60.0     9550   Pave   NaN      IR1   \n",
       "4        5          60       RL         84.0    14260   Pave   NaN      IR1   \n",
       "...    ...         ...      ...          ...      ...    ...   ...      ...   \n",
       "1455  1456          60       RL         62.0     7917   Pave   NaN      Reg   \n",
       "1456  1457          20       RL         85.0    13175   Pave   NaN      Reg   \n",
       "1457  1458          70       RL         66.0     9042   Pave   NaN      Reg   \n",
       "1458  1459          20       RL         68.0     9717   Pave   NaN      Reg   \n",
       "1459  1460          20       RL         75.0     9937   Pave   NaN      Reg   \n",
       "\n",
       "     LandContour Utilities  ... PoolArea PoolQC  Fence MiscFeature MiscVal  \\\n",
       "0            Lvl    AllPub  ...        0    NaN    NaN         NaN       0   \n",
       "1            Lvl    AllPub  ...        0    NaN    NaN         NaN       0   \n",
       "2            Lvl    AllPub  ...        0    NaN    NaN         NaN       0   \n",
       "3            Lvl    AllPub  ...        0    NaN    NaN         NaN       0   \n",
       "4            Lvl    AllPub  ...        0    NaN    NaN         NaN       0   \n",
       "...          ...       ...  ...      ...    ...    ...         ...     ...   \n",
       "1455         Lvl    AllPub  ...        0    NaN    NaN         NaN       0   \n",
       "1456         Lvl    AllPub  ...        0    NaN  MnPrv         NaN       0   \n",
       "1457         Lvl    AllPub  ...        0    NaN  GdPrv        Shed    2500   \n",
       "1458         Lvl    AllPub  ...        0    NaN    NaN         NaN       0   \n",
       "1459         Lvl    AllPub  ...        0    NaN    NaN         NaN       0   \n",
       "\n",
       "     MoSold YrSold  SaleType  SaleCondition  SalePrice  \n",
       "0         2   2008        WD         Normal     208500  \n",
       "1         5   2007        WD         Normal     181500  \n",
       "2         9   2008        WD         Normal     223500  \n",
       "3         2   2006        WD        Abnorml     140000  \n",
       "4        12   2008        WD         Normal     250000  \n",
       "...     ...    ...       ...            ...        ...  \n",
       "1455      8   2007        WD         Normal     175000  \n",
       "1456      2   2010        WD         Normal     210000  \n",
       "1457      5   2010        WD         Normal     266500  \n",
       "1458      4   2010        WD         Normal     142125  \n",
       "1459      6   2008        WD         Normal     147500  \n",
       "\n",
       "[1460 rows x 81 columns]"
      ]
     },
     "execution_count": 5,
     "metadata": {},
     "output_type": "execute_result"
    }
   ],
   "source": [
    "train_set"
   ]
  },
  {
   "cell_type": "code",
   "execution_count": 6,
   "id": "35438db5",
   "metadata": {
    "execution": {
     "iopub.execute_input": "2022-04-03T01:54:36.159558Z",
     "iopub.status.busy": "2022-04-03T01:54:36.158855Z",
     "iopub.status.idle": "2022-04-03T01:54:36.166069Z",
     "shell.execute_reply": "2022-04-03T01:54:36.166531Z",
     "shell.execute_reply.started": "2022-03-25T23:29:23.933399Z"
    },
    "papermill": {
     "duration": 0.048429,
     "end_time": "2022-04-03T01:54:36.166701",
     "exception": false,
     "start_time": "2022-04-03T01:54:36.118272",
     "status": "completed"
    },
    "tags": []
   },
   "outputs": [],
   "source": [
    "train_set.drop(['Alley', 'PoolQC', 'MiscFeature'], axis=1, inplace=True)\n",
    "\n",
    "test_set.drop(['Alley', 'PoolQC', 'MiscFeature'], axis=1, inplace=True)"
   ]
  },
  {
   "cell_type": "code",
   "execution_count": 7,
   "id": "fce55ae8",
   "metadata": {
    "execution": {
     "iopub.execute_input": "2022-04-03T01:54:36.235995Z",
     "iopub.status.busy": "2022-04-03T01:54:36.235313Z",
     "iopub.status.idle": "2022-04-03T01:54:36.241971Z",
     "shell.execute_reply": "2022-04-03T01:54:36.242488Z",
     "shell.execute_reply.started": "2022-03-25T23:29:23.946729Z"
    },
    "papermill": {
     "duration": 0.042709,
     "end_time": "2022-04-03T01:54:36.242662",
     "exception": false,
     "start_time": "2022-04-03T01:54:36.199953",
     "status": "completed"
    },
    "tags": []
   },
   "outputs": [],
   "source": [
    "train_set.drop(['SalePrice'], axis=1, inplace=True)"
   ]
  },
  {
   "cell_type": "code",
   "execution_count": 8,
   "id": "dec39ddd",
   "metadata": {
    "execution": {
     "iopub.execute_input": "2022-04-03T01:54:36.313762Z",
     "iopub.status.busy": "2022-04-03T01:54:36.313119Z",
     "iopub.status.idle": "2022-04-03T01:54:36.347363Z",
     "shell.execute_reply": "2022-04-03T01:54:36.348476Z",
     "shell.execute_reply.started": "2022-03-25T23:29:23.964351Z"
    },
    "papermill": {
     "duration": 0.073254,
     "end_time": "2022-04-03T01:54:36.348831",
     "exception": false,
     "start_time": "2022-04-03T01:54:36.275577",
     "status": "completed"
    },
    "tags": []
   },
   "outputs": [
    {
     "name": "stdout",
     "output_type": "stream",
     "text": [
      "<class 'pandas.core.frame.DataFrame'>\n",
      "RangeIndex: 1460 entries, 0 to 1459\n",
      "Data columns (total 77 columns):\n",
      " #   Column         Non-Null Count  Dtype  \n",
      "---  ------         --------------  -----  \n",
      " 0   Id             1460 non-null   int64  \n",
      " 1   MSSubClass     1460 non-null   int64  \n",
      " 2   MSZoning       1460 non-null   object \n",
      " 3   LotFrontage    1201 non-null   float64\n",
      " 4   LotArea        1460 non-null   int64  \n",
      " 5   Street         1460 non-null   object \n",
      " 6   LotShape       1460 non-null   object \n",
      " 7   LandContour    1460 non-null   object \n",
      " 8   Utilities      1460 non-null   object \n",
      " 9   LotConfig      1460 non-null   object \n",
      " 10  LandSlope      1460 non-null   object \n",
      " 11  Neighborhood   1460 non-null   object \n",
      " 12  Condition1     1460 non-null   object \n",
      " 13  Condition2     1460 non-null   object \n",
      " 14  BldgType       1460 non-null   object \n",
      " 15  HouseStyle     1460 non-null   object \n",
      " 16  OverallQual    1460 non-null   int64  \n",
      " 17  OverallCond    1460 non-null   int64  \n",
      " 18  YearBuilt      1460 non-null   int64  \n",
      " 19  YearRemodAdd   1460 non-null   int64  \n",
      " 20  RoofStyle      1460 non-null   object \n",
      " 21  RoofMatl       1460 non-null   object \n",
      " 22  Exterior1st    1460 non-null   object \n",
      " 23  Exterior2nd    1460 non-null   object \n",
      " 24  MasVnrType     1452 non-null   object \n",
      " 25  MasVnrArea     1452 non-null   float64\n",
      " 26  ExterQual      1460 non-null   object \n",
      " 27  ExterCond      1460 non-null   object \n",
      " 28  Foundation     1460 non-null   object \n",
      " 29  BsmtQual       1423 non-null   object \n",
      " 30  BsmtCond       1423 non-null   object \n",
      " 31  BsmtExposure   1422 non-null   object \n",
      " 32  BsmtFinType1   1423 non-null   object \n",
      " 33  BsmtFinSF1     1460 non-null   int64  \n",
      " 34  BsmtFinType2   1422 non-null   object \n",
      " 35  BsmtFinSF2     1460 non-null   int64  \n",
      " 36  BsmtUnfSF      1460 non-null   int64  \n",
      " 37  TotalBsmtSF    1460 non-null   int64  \n",
      " 38  Heating        1460 non-null   object \n",
      " 39  HeatingQC      1460 non-null   object \n",
      " 40  CentralAir     1460 non-null   object \n",
      " 41  Electrical     1459 non-null   object \n",
      " 42  1stFlrSF       1460 non-null   int64  \n",
      " 43  2ndFlrSF       1460 non-null   int64  \n",
      " 44  LowQualFinSF   1460 non-null   int64  \n",
      " 45  GrLivArea      1460 non-null   int64  \n",
      " 46  BsmtFullBath   1460 non-null   int64  \n",
      " 47  BsmtHalfBath   1460 non-null   int64  \n",
      " 48  FullBath       1460 non-null   int64  \n",
      " 49  HalfBath       1460 non-null   int64  \n",
      " 50  BedroomAbvGr   1460 non-null   int64  \n",
      " 51  KitchenAbvGr   1460 non-null   int64  \n",
      " 52  KitchenQual    1460 non-null   object \n",
      " 53  TotRmsAbvGrd   1460 non-null   int64  \n",
      " 54  Functional     1460 non-null   object \n",
      " 55  Fireplaces     1460 non-null   int64  \n",
      " 56  FireplaceQu    770 non-null    object \n",
      " 57  GarageType     1379 non-null   object \n",
      " 58  GarageYrBlt    1379 non-null   float64\n",
      " 59  GarageFinish   1379 non-null   object \n",
      " 60  GarageCars     1460 non-null   int64  \n",
      " 61  GarageArea     1460 non-null   int64  \n",
      " 62  GarageQual     1379 non-null   object \n",
      " 63  GarageCond     1379 non-null   object \n",
      " 64  PavedDrive     1460 non-null   object \n",
      " 65  WoodDeckSF     1460 non-null   int64  \n",
      " 66  OpenPorchSF    1460 non-null   int64  \n",
      " 67  EnclosedPorch  1460 non-null   int64  \n",
      " 68  3SsnPorch      1460 non-null   int64  \n",
      " 69  ScreenPorch    1460 non-null   int64  \n",
      " 70  PoolArea       1460 non-null   int64  \n",
      " 71  Fence          281 non-null    object \n",
      " 72  MiscVal        1460 non-null   int64  \n",
      " 73  MoSold         1460 non-null   int64  \n",
      " 74  YrSold         1460 non-null   int64  \n",
      " 75  SaleType       1460 non-null   object \n",
      " 76  SaleCondition  1460 non-null   object \n",
      "dtypes: float64(3), int64(34), object(40)\n",
      "memory usage: 878.4+ KB\n"
     ]
    }
   ],
   "source": [
    "train_set.info()"
   ]
  },
  {
   "cell_type": "code",
   "execution_count": 9,
   "id": "6fea585c",
   "metadata": {
    "execution": {
     "iopub.execute_input": "2022-04-03T01:54:36.433823Z",
     "iopub.status.busy": "2022-04-03T01:54:36.428295Z",
     "iopub.status.idle": "2022-04-03T01:54:36.487304Z",
     "shell.execute_reply": "2022-04-03T01:54:36.486749Z",
     "shell.execute_reply.started": "2022-03-25T23:29:24.001845Z"
    },
    "papermill": {
     "duration": 0.103856,
     "end_time": "2022-04-03T01:54:36.487465",
     "exception": false,
     "start_time": "2022-04-03T01:54:36.383609",
     "status": "completed"
    },
    "tags": []
   },
   "outputs": [],
   "source": [
    "num_pipeline = Pipeline([\n",
    "    ('imputer', SimpleImputer(strategy='median')),\n",
    "    ('std_scaler', StandardScaler())\n",
    "])\n",
    "num_attribs = list(train_set.select_dtypes(exclude=['object']))\n",
    "cat_attribs = list(train_set.select_dtypes(include=['object']))\n",
    "full_pipeline = ColumnTransformer([\n",
    "    ('num', num_pipeline, num_attribs),\n",
    "    ('cat', OneHotEncoder(handle_unknown='ignore'), cat_attribs)\n",
    "])\n",
    "housing_prepared = full_pipeline.fit_transform(train_set)"
   ]
  },
  {
   "cell_type": "code",
   "execution_count": 10,
   "id": "ff3f6acc",
   "metadata": {
    "execution": {
     "iopub.execute_input": "2022-04-03T01:54:36.558506Z",
     "iopub.status.busy": "2022-04-03T01:54:36.557554Z",
     "iopub.status.idle": "2022-04-03T01:54:36.564124Z",
     "shell.execute_reply": "2022-04-03T01:54:36.563478Z",
     "shell.execute_reply.started": "2022-03-25T23:29:24.077489Z"
    },
    "papermill": {
     "duration": 0.043757,
     "end_time": "2022-04-03T01:54:36.564263",
     "exception": false,
     "start_time": "2022-04-03T01:54:36.520506",
     "status": "completed"
    },
    "tags": []
   },
   "outputs": [
    {
     "data": {
      "text/plain": [
       "<1460x293 sparse matrix of type '<class 'numpy.float64'>'\n",
       "\twith 112420 stored elements in Compressed Sparse Row format>"
      ]
     },
     "execution_count": 10,
     "metadata": {},
     "output_type": "execute_result"
    }
   ],
   "source": [
    "housing_prepared"
   ]
  },
  {
   "cell_type": "code",
   "execution_count": 11,
   "id": "b853a29e",
   "metadata": {
    "execution": {
     "iopub.execute_input": "2022-04-03T01:54:36.637674Z",
     "iopub.status.busy": "2022-04-03T01:54:36.636968Z",
     "iopub.status.idle": "2022-04-03T01:54:36.944968Z",
     "shell.execute_reply": "2022-04-03T01:54:36.944445Z",
     "shell.execute_reply.started": "2022-03-25T23:29:24.087194Z"
    },
    "papermill": {
     "duration": 0.34705,
     "end_time": "2022-04-03T01:54:36.945113",
     "exception": false,
     "start_time": "2022-04-03T01:54:36.598063",
     "status": "completed"
    },
    "tags": []
   },
   "outputs": [
    {
     "data": {
      "text/plain": [
       "array([206587.53044441, 205688.56739047, 205073.06583248, 165128.73628504,\n",
       "       291231.20891256])"
      ]
     },
     "execution_count": 11,
     "metadata": {},
     "output_type": "execute_result"
    }
   ],
   "source": [
    "#Linear Regression\n",
    "from sklearn.linear_model import LinearRegression\n",
    "lin_reg = LinearRegression()\n",
    "lin_reg.fit(housing_prepared, y_train)\n",
    "some_data = train_set.iloc[:5]\n",
    "some_labels = y_train.iloc[:5]\n",
    "some_data_prepared = full_pipeline.transform(some_data)\n",
    "lin_reg.predict(some_data_prepared)"
   ]
  },
  {
   "cell_type": "code",
   "execution_count": 12,
   "id": "b93c3579",
   "metadata": {
    "execution": {
     "iopub.execute_input": "2022-04-03T01:54:37.016550Z",
     "iopub.status.busy": "2022-04-03T01:54:37.015908Z",
     "iopub.status.idle": "2022-04-03T01:54:37.022549Z",
     "shell.execute_reply": "2022-04-03T01:54:37.023153Z",
     "shell.execute_reply.started": "2022-03-25T23:29:24.406223Z"
    },
    "papermill": {
     "duration": 0.044467,
     "end_time": "2022-04-03T01:54:37.023337",
     "exception": false,
     "start_time": "2022-04-03T01:54:36.978870",
     "status": "completed"
    },
    "tags": []
   },
   "outputs": [
    {
     "data": {
      "text/plain": [
       "20744.162237893146"
      ]
     },
     "execution_count": 12,
     "metadata": {},
     "output_type": "execute_result"
    }
   ],
   "source": [
    "from sklearn.metrics import mean_squared_error\n",
    "housing_predictions = lin_reg.predict(housing_prepared)\n",
    "lin_mse = mean_squared_error(y_train, housing_predictions)\n",
    "lin_rmse = np.sqrt(lin_mse)\n",
    "lin_rmse"
   ]
  },
  {
   "cell_type": "code",
   "execution_count": 13,
   "id": "b7beb9c8",
   "metadata": {
    "execution": {
     "iopub.execute_input": "2022-04-03T01:54:37.096142Z",
     "iopub.status.busy": "2022-04-03T01:54:37.095455Z",
     "iopub.status.idle": "2022-04-03T01:54:37.331831Z",
     "shell.execute_reply": "2022-04-03T01:54:37.331281Z",
     "shell.execute_reply.started": "2022-03-25T23:29:24.416422Z"
    },
    "papermill": {
     "duration": 0.273665,
     "end_time": "2022-04-03T01:54:37.331985",
     "exception": false,
     "start_time": "2022-04-03T01:54:37.058320",
     "status": "completed"
    },
    "tags": []
   },
   "outputs": [
    {
     "data": {
      "text/plain": [
       "20744.162237893146"
      ]
     },
     "execution_count": 13,
     "metadata": {},
     "output_type": "execute_result"
    }
   ],
   "source": [
    "from sklearn.tree import DecisionTreeRegressor\n",
    "tree_reg = DecisionTreeRegressor()\n",
    "tree_reg.fit(housing_prepared, y_train)\n",
    "tree_predictions = tree_reg.predict(housing_prepared)\n",
    "tree_mse = mean_squared_error(y_train, housing_predictions)\n",
    "tree_rsme = np.sqrt(tree_mse)\n",
    "tree_rsme"
   ]
  },
  {
   "cell_type": "code",
   "execution_count": 14,
   "id": "8b613d78",
   "metadata": {
    "execution": {
     "iopub.execute_input": "2022-04-03T01:54:37.405467Z",
     "iopub.status.busy": "2022-04-03T01:54:37.404516Z",
     "iopub.status.idle": "2022-04-03T01:54:37.741944Z",
     "shell.execute_reply": "2022-04-03T01:54:37.741413Z",
     "shell.execute_reply.started": "2022-03-25T23:29:24.657545Z"
    },
    "papermill": {
     "duration": 0.375417,
     "end_time": "2022-04-03T01:54:37.742094",
     "exception": false,
     "start_time": "2022-04-03T01:54:37.366677",
     "status": "completed"
    },
    "tags": []
   },
   "outputs": [
    {
     "data": {
      "text/plain": [
       "array([38410.55602121, 42416.22113714, 49896.28455236])"
      ]
     },
     "execution_count": 14,
     "metadata": {},
     "output_type": "execute_result"
    }
   ],
   "source": [
    "from sklearn.model_selection import cross_val_score\n",
    "scores = cross_val_score(tree_reg, housing_prepared, y_train, scoring='neg_mean_squared_error', cv=3)\n",
    "tree_rmse_scores = np.sqrt(-scores)\n",
    "tree_rmse_scores"
   ]
  },
  {
   "cell_type": "code",
   "execution_count": 15,
   "id": "f2846d25",
   "metadata": {
    "execution": {
     "iopub.execute_input": "2022-04-03T01:54:37.820514Z",
     "iopub.status.busy": "2022-04-03T01:54:37.819505Z",
     "iopub.status.idle": "2022-04-03T01:54:37.825752Z",
     "shell.execute_reply": "2022-04-03T01:54:37.826463Z",
     "shell.execute_reply.started": "2022-03-25T23:29:25.004159Z"
    },
    "papermill": {
     "duration": 0.047672,
     "end_time": "2022-04-03T01:54:37.826696",
     "exception": false,
     "start_time": "2022-04-03T01:54:37.779024",
     "status": "completed"
    },
    "tags": []
   },
   "outputs": [
    {
     "name": "stdout",
     "output_type": "stream",
     "text": [
      "Mean:  43574.35390356628\n",
      "Standard deviation: 4760.00305331252\n"
     ]
    }
   ],
   "source": [
    "print(\"Mean: \", tree_rmse_scores.mean())\n",
    "print(\"Standard deviation:\", tree_rmse_scores.std())"
   ]
  },
  {
   "cell_type": "code",
   "execution_count": 16,
   "id": "341212e4",
   "metadata": {
    "execution": {
     "iopub.execute_input": "2022-04-03T01:54:37.905449Z",
     "iopub.status.busy": "2022-04-03T01:54:37.903156Z",
     "iopub.status.idle": "2022-04-03T01:54:38.566526Z",
     "shell.execute_reply": "2022-04-03T01:54:38.566999Z",
     "shell.execute_reply.started": "2022-03-25T23:29:25.012791Z"
    },
    "papermill": {
     "duration": 0.702236,
     "end_time": "2022-04-03T01:54:38.567188",
     "exception": false,
     "start_time": "2022-04-03T01:54:37.864952",
     "status": "completed"
    },
    "tags": []
   },
   "outputs": [
    {
     "data": {
      "text/plain": [
       "array([26189.09143006, 33571.61408934, 39835.61056508])"
      ]
     },
     "execution_count": 16,
     "metadata": {},
     "output_type": "execute_result"
    }
   ],
   "source": [
    "lin_scores = cross_val_score(lin_reg, housing_prepared, y_train, scoring='neg_mean_squared_error', cv=3)\n",
    "lin_rmse_scores = np.sqrt(-lin_scores)\n",
    "lin_rmse_scores"
   ]
  },
  {
   "cell_type": "code",
   "execution_count": 17,
   "id": "d522d51d",
   "metadata": {
    "execution": {
     "iopub.execute_input": "2022-04-03T01:54:38.645389Z",
     "iopub.status.busy": "2022-04-03T01:54:38.644683Z",
     "iopub.status.idle": "2022-04-03T01:54:38.651902Z",
     "shell.execute_reply": "2022-04-03T01:54:38.651148Z",
     "shell.execute_reply.started": "2022-03-25T23:29:25.687193Z"
    },
    "papermill": {
     "duration": 0.04732,
     "end_time": "2022-04-03T01:54:38.652069",
     "exception": false,
     "start_time": "2022-04-03T01:54:38.604749",
     "status": "completed"
    },
    "tags": []
   },
   "outputs": [
    {
     "name": "stdout",
     "output_type": "stream",
     "text": [
      "Mean:  33198.772028161744\n",
      "Standard deviation: 5577.40259305557\n"
     ]
    }
   ],
   "source": [
    "print(\"Mean: \", lin_rmse_scores.mean())\n",
    "print(\"Standard deviation:\", lin_rmse_scores.std())"
   ]
  },
  {
   "cell_type": "code",
   "execution_count": 18,
   "id": "29ff24aa",
   "metadata": {
    "execution": {
     "iopub.execute_input": "2022-04-03T01:54:38.731375Z",
     "iopub.status.busy": "2022-04-03T01:54:38.730655Z",
     "iopub.status.idle": "2022-04-03T01:54:52.097674Z",
     "shell.execute_reply": "2022-04-03T01:54:52.097154Z",
     "shell.execute_reply.started": "2022-03-25T23:29:25.69532Z"
    },
    "papermill": {
     "duration": 13.409116,
     "end_time": "2022-04-03T01:54:52.097829",
     "exception": false,
     "start_time": "2022-04-03T01:54:38.688713",
     "status": "completed"
    },
    "tags": []
   },
   "outputs": [
    {
     "data": {
      "text/plain": [
       "20744.162237893146"
      ]
     },
     "execution_count": 18,
     "metadata": {},
     "output_type": "execute_result"
    }
   ],
   "source": [
    "from sklearn.ensemble import RandomForestRegressor\n",
    "forest_reg = RandomForestRegressor()\n",
    "forest_reg.fit(housing_prepared, y_train)\n",
    "forest_predictions = forest_reg.predict(housing_prepared)\n",
    "forest_mse = mean_squared_error(y_train, housing_predictions)\n",
    "forest_rsme = np.sqrt(forest_mse)\n",
    "forest_rsme"
   ]
  },
  {
   "cell_type": "code",
   "execution_count": 19,
   "id": "f1369704",
   "metadata": {
    "execution": {
     "iopub.execute_input": "2022-04-03T01:54:52.177512Z",
     "iopub.status.busy": "2022-04-03T01:54:52.176785Z",
     "iopub.status.idle": "2022-04-03T01:55:14.242844Z",
     "shell.execute_reply": "2022-04-03T01:55:14.243481Z",
     "shell.execute_reply.started": "2022-03-25T23:29:39.184663Z"
    },
    "papermill": {
     "duration": 22.108917,
     "end_time": "2022-04-03T01:55:14.243659",
     "exception": false,
     "start_time": "2022-04-03T01:54:52.134742",
     "status": "completed"
    },
    "tags": []
   },
   "outputs": [
    {
     "data": {
      "text/plain": [
       "array([25969.61088469, 31877.69069806, 33348.73025966])"
      ]
     },
     "execution_count": 19,
     "metadata": {},
     "output_type": "execute_result"
    }
   ],
   "source": [
    "forest_scores = cross_val_score(forest_reg, housing_prepared, y_train, scoring='neg_mean_squared_error', cv=3)\n",
    "forest_rmse_scores = np.sqrt(-forest_scores)\n",
    "forest_rmse_scores"
   ]
  },
  {
   "cell_type": "code",
   "execution_count": 20,
   "id": "56ae49a3",
   "metadata": {
    "execution": {
     "iopub.execute_input": "2022-04-03T01:55:14.327065Z",
     "iopub.status.busy": "2022-04-03T01:55:14.326109Z",
     "iopub.status.idle": "2022-04-03T01:55:14.329385Z",
     "shell.execute_reply": "2022-04-03T01:55:14.329894Z",
     "shell.execute_reply.started": "2022-03-25T23:30:02.378551Z"
    },
    "papermill": {
     "duration": 0.047541,
     "end_time": "2022-04-03T01:55:14.330075",
     "exception": false,
     "start_time": "2022-04-03T01:55:14.282534",
     "status": "completed"
    },
    "tags": []
   },
   "outputs": [
    {
     "name": "stdout",
     "output_type": "stream",
     "text": [
      "Mean:  30398.677280803462\n",
      "Standard deviation: 3188.882897798385\n"
     ]
    }
   ],
   "source": [
    "print(\"Mean: \", forest_rmse_scores.mean())\n",
    "print(\"Standard deviation:\", forest_rmse_scores.std())"
   ]
  },
  {
   "cell_type": "code",
   "execution_count": 21,
   "id": "acc1662e",
   "metadata": {
    "execution": {
     "iopub.execute_input": "2022-04-03T01:55:14.414061Z",
     "iopub.status.busy": "2022-04-03T01:55:14.412628Z",
     "iopub.status.idle": "2022-04-03T01:55:23.147428Z",
     "shell.execute_reply": "2022-04-03T01:55:23.146744Z",
     "shell.execute_reply.started": "2022-03-25T23:30:02.388241Z"
    },
    "papermill": {
     "duration": 8.780506,
     "end_time": "2022-04-03T01:55:23.147565",
     "exception": false,
     "start_time": "2022-04-03T01:55:14.367059",
     "status": "completed"
    },
    "tags": []
   },
   "outputs": [
    {
     "data": {
      "text/plain": [
       "GridSearchCV(cv=5, estimator=RandomForestRegressor(),\n",
       "             param_grid=[{'max_features': [2, 4, 6, 8],\n",
       "                          'n_estimators': [3, 10, 30]},\n",
       "                         {'bootstrap': [False], 'max_features': [2, 3, 4],\n",
       "                          'n_estimators': [3, 10]}],\n",
       "             return_train_score=True, scoring='neg_mean_squared_error')"
      ]
     },
     "execution_count": 21,
     "metadata": {},
     "output_type": "execute_result"
    }
   ],
   "source": [
    "from sklearn.model_selection import GridSearchCV\n",
    "param_grid = [\n",
    "    {'n_estimators':[3,10,30], 'max_features':[2,4,6,8]},\n",
    "    {'bootstrap':[False], 'n_estimators':[3,10], 'max_features':[2,3,4]}\n",
    "]\n",
    "forest_reg = RandomForestRegressor()\n",
    "grid_search = GridSearchCV(forest_reg, param_grid, cv=5, scoring = 'neg_mean_squared_error', return_train_score=True)\n",
    "grid_search.fit(housing_prepared, y_train)"
   ]
  },
  {
   "cell_type": "code",
   "execution_count": 22,
   "id": "5dae50d7",
   "metadata": {
    "execution": {
     "iopub.execute_input": "2022-04-03T01:55:23.228138Z",
     "iopub.status.busy": "2022-04-03T01:55:23.227454Z",
     "iopub.status.idle": "2022-04-03T01:55:23.232969Z",
     "shell.execute_reply": "2022-04-03T01:55:23.233513Z",
     "shell.execute_reply.started": "2022-03-25T23:30:12.234946Z"
    },
    "papermill": {
     "duration": 0.046969,
     "end_time": "2022-04-03T01:55:23.233688",
     "exception": false,
     "start_time": "2022-04-03T01:55:23.186719",
     "status": "completed"
    },
    "tags": []
   },
   "outputs": [
    {
     "data": {
      "text/plain": [
       "RandomForestRegressor(max_features=8, n_estimators=30)"
      ]
     },
     "execution_count": 22,
     "metadata": {},
     "output_type": "execute_result"
    }
   ],
   "source": [
    "grid_search.best_estimator_"
   ]
  },
  {
   "cell_type": "code",
   "execution_count": 23,
   "id": "cf678c64",
   "metadata": {
    "execution": {
     "iopub.execute_input": "2022-04-03T01:55:23.317898Z",
     "iopub.status.busy": "2022-04-03T01:55:23.316943Z",
     "iopub.status.idle": "2022-04-03T01:55:23.323909Z",
     "shell.execute_reply": "2022-04-03T01:55:23.324437Z",
     "shell.execute_reply.started": "2022-03-25T23:30:12.245382Z"
    },
    "papermill": {
     "duration": 0.051844,
     "end_time": "2022-04-03T01:55:23.324621",
     "exception": false,
     "start_time": "2022-04-03T01:55:23.272777",
     "status": "completed"
    },
    "tags": []
   },
   "outputs": [
    {
     "name": "stdout",
     "output_type": "stream",
     "text": [
      "45949.437928147825 {'max_features': 2, 'n_estimators': 3}\n",
      "39871.38391077049 {'max_features': 2, 'n_estimators': 10}\n",
      "37513.69498446592 {'max_features': 2, 'n_estimators': 30}\n",
      "45750.02070092519 {'max_features': 4, 'n_estimators': 3}\n",
      "38559.607958976085 {'max_features': 4, 'n_estimators': 10}\n",
      "36369.51191377811 {'max_features': 4, 'n_estimators': 30}\n",
      "42721.92984457187 {'max_features': 6, 'n_estimators': 3}\n",
      "36246.69602603405 {'max_features': 6, 'n_estimators': 10}\n",
      "34657.49578288605 {'max_features': 6, 'n_estimators': 30}\n",
      "41559.26777902299 {'max_features': 8, 'n_estimators': 3}\n",
      "35210.71781821018 {'max_features': 8, 'n_estimators': 10}\n",
      "33670.86677615714 {'max_features': 8, 'n_estimators': 30}\n",
      "46467.11623199826 {'bootstrap': False, 'max_features': 2, 'n_estimators': 3}\n",
      "38113.42302301273 {'bootstrap': False, 'max_features': 2, 'n_estimators': 10}\n",
      "44433.95209675631 {'bootstrap': False, 'max_features': 3, 'n_estimators': 3}\n",
      "38029.94827770176 {'bootstrap': False, 'max_features': 3, 'n_estimators': 10}\n",
      "46866.36141198322 {'bootstrap': False, 'max_features': 4, 'n_estimators': 3}\n",
      "37093.683181694214 {'bootstrap': False, 'max_features': 4, 'n_estimators': 10}\n"
     ]
    }
   ],
   "source": [
    "cvres = grid_search.cv_results_\n",
    "for mean_score, params in zip(cvres['mean_test_score'], cvres['params']):\n",
    "    print(np.sqrt(-mean_score), params)"
   ]
  },
  {
   "cell_type": "code",
   "execution_count": 24,
   "id": "dda270c8",
   "metadata": {
    "execution": {
     "iopub.execute_input": "2022-04-03T01:55:23.417167Z",
     "iopub.status.busy": "2022-04-03T01:55:23.416412Z",
     "iopub.status.idle": "2022-04-03T01:55:23.419474Z",
     "shell.execute_reply": "2022-04-03T01:55:23.419975Z",
     "shell.execute_reply.started": "2022-03-25T23:30:12.268225Z"
    },
    "papermill": {
     "duration": 0.057159,
     "end_time": "2022-04-03T01:55:23.420145",
     "exception": false,
     "start_time": "2022-04-03T01:55:23.362986",
     "status": "completed"
    },
    "tags": []
   },
   "outputs": [
    {
     "data": {
      "text/plain": [
       "array([5.56225907e-03, 6.26946689e-03, 1.31974311e-02, 3.18168145e-02,\n",
       "       5.72794887e-02, 2.77399339e-03, 2.09215690e-02, 1.76818068e-02,\n",
       "       2.04934189e-02, 2.79367641e-02, 1.30123570e-03, 8.22236193e-03,\n",
       "       3.35446815e-02, 3.68515364e-02, 2.62119224e-02, 5.94027111e-04,\n",
       "       5.49379288e-02, 4.27177427e-03, 3.70810437e-04, 1.36905887e-02,\n",
       "       3.83317882e-03, 7.30042099e-03, 7.66023706e-04, 1.85324712e-02,\n",
       "       1.43453635e-02, 2.24317766e-02, 2.56025400e-02, 2.18093235e-02,\n",
       "       8.63654579e-03, 9.11573729e-03, 2.14732576e-03, 2.05814003e-04,\n",
       "       1.99194978e-03, 1.11857599e-03, 8.26800803e-04, 5.67541058e-03,\n",
       "       2.80787455e-03, 2.95547875e-04, 8.33956505e-04, 8.79623777e-05,\n",
       "       2.55779140e-03, 2.58811210e-03, 4.01571813e-05, 6.54961255e-05,\n",
       "       3.28410176e-03, 1.54296994e-03, 2.80514510e-04, 2.17034881e-03,\n",
       "       5.02123590e-04, 9.34660857e-04, 4.37662519e-04, 2.16449835e-03,\n",
       "       0.00000000e+00, 1.56508224e-06, 1.58312100e-03, 1.00413970e-03,\n",
       "       1.36122449e-04, 1.09058877e-04, 1.51065300e-03, 1.16318708e-03,\n",
       "       6.22991914e-04, 6.11404114e-04, 1.72734545e-04, 1.91278565e-06,\n",
       "       1.44463540e-04, 1.48325599e-03, 6.25394397e-04, 8.40349090e-04,\n",
       "       1.78239336e-03, 1.19771772e-03, 6.14775615e-04, 4.93693945e-04,\n",
       "       1.96487605e-04, 3.09381422e-04, 5.38541470e-04, 1.78018527e-04,\n",
       "       5.62847168e-04, 8.93681617e-03, 1.75181103e-02, 1.65951048e-03,\n",
       "       1.44374194e-04, 1.89063254e-04, 4.69088456e-04, 1.11700891e-03,\n",
       "       1.38775454e-03, 7.15206410e-04, 1.16888090e-04, 2.14170334e-04,\n",
       "       8.31612356e-04, 5.85878891e-04, 4.71511834e-05, 4.76023787e-04,\n",
       "       6.82615288e-05, 6.01156807e-04, 9.79919286e-07, 3.06972602e-05,\n",
       "       1.27941567e-05, 6.28595041e-06, 1.13369146e-04, 1.29119741e-04,\n",
       "       4.02246810e-06, 6.93391799e-06, 6.07538833e-08, 6.06521578e-07,\n",
       "       1.60669751e-03, 7.50712904e-05, 2.15368249e-04, 4.70848635e-04,\n",
       "       1.18927471e-03, 5.60534875e-04, 1.83493424e-05, 2.65103309e-03,\n",
       "       3.17794945e-04, 1.91020392e-05, 4.79699115e-03, 9.29781629e-05,\n",
       "       5.08616076e-04, 1.37118478e-04, 6.67073157e-03, 8.75480652e-05,\n",
       "       7.41129038e-03, 6.16303785e-06, 1.64558210e-05, 2.20653315e-04,\n",
       "       3.22952715e-04, 1.36627704e-04, 4.31352330e-06, 7.79480076e-07,\n",
       "       9.12436565e-05, 1.65280370e-04, 4.88090768e-04, 2.60931704e-04,\n",
       "       2.37034674e-06, 1.88516377e-05, 1.25431567e-03, 0.00000000e+00,\n",
       "       1.06661995e-03, 8.38965070e-04, 4.83430321e-06, 7.62637338e-04,\n",
       "       3.58199035e-04, 6.58689779e-05, 1.47205759e-04, 1.66700334e-03,\n",
       "       1.29959983e-03, 2.32564774e-04, 1.20893592e-04, 2.82667688e-05,\n",
       "       3.65800660e-05, 3.53268153e-04, 2.74728436e-06, 2.16600070e-03,\n",
       "       2.03996809e-03, 2.64596186e-03, 1.18226405e-03, 6.79305298e-05,\n",
       "       3.88052078e-04, 3.28809332e-05, 3.30293958e-04, 3.33639072e-03,\n",
       "       9.41963493e-04, 6.47129982e-04, 1.12704506e-04, 1.10733517e-03,\n",
       "       6.79670287e-03, 2.06874499e-03, 8.76082119e-05, 1.42609625e-02,\n",
       "       1.10267305e-04, 9.01792833e-03, 1.73737334e-02, 1.19818806e-04,\n",
       "       4.92099731e-04, 5.52412503e-04, 0.00000000e+00, 1.00319071e-03,\n",
       "       6.47412342e-04, 1.41312356e-03, 1.53410110e-02, 9.70838677e-05,\n",
       "       5.27357358e-05, 1.86668776e-06, 3.12152477e-02, 3.18820516e-04,\n",
       "       1.15377732e-02, 5.32400348e-03, 3.07824208e-04, 1.04900037e-03,\n",
       "       5.67602232e-04, 0.00000000e+00, 8.36624779e-04, 4.89937629e-04,\n",
       "       1.26791270e-03, 5.83439301e-03, 1.26459776e-03, 2.85985754e-03,\n",
       "       3.33983627e-04, 5.93052560e-04, 4.71249386e-04, 7.79886935e-03,\n",
       "       4.78252308e-04, 1.57975691e-03, 2.09678814e-03, 9.64585842e-04,\n",
       "       2.14727338e-04, 1.74588851e-04, 4.03585525e-04, 1.16181573e-04,\n",
       "       3.79025556e-04, 1.19484171e-03, 2.54586336e-04, 0.00000000e+00,\n",
       "       1.81726252e-04, 3.51442231e-04, 1.31990872e-04, 0.00000000e+00,\n",
       "       4.55524401e-08, 6.47853860e-03, 8.97657990e-04, 9.85423650e-04,\n",
       "       2.59983185e-06, 1.04689413e-02, 1.12936670e-03, 4.32064955e-03,\n",
       "       4.76111978e-04, 4.50694067e-04, 2.17761132e-06, 3.84037282e-06,\n",
       "       5.01270022e-04, 9.03447592e-06, 2.59268722e-02, 1.10605814e-04,\n",
       "       1.46377065e-02, 2.68405419e-02, 2.22732807e-04, 2.15091610e-05,\n",
       "       1.59125290e-04, 1.16419501e-04, 7.18205642e-04, 1.30447423e-05,\n",
       "       5.44411368e-04, 7.99039962e-04, 1.40639765e-04, 7.42706395e-03,\n",
       "       5.38691741e-05, 2.74558949e-03, 5.95800918e-03, 4.23501427e-04,\n",
       "       6.73222757e-03, 6.42067399e-04, 5.22397279e-03, 5.14613250e-06,\n",
       "       3.42029444e-03, 2.74723111e-03, 1.01139403e-02, 1.47193482e-03,\n",
       "       1.94756350e-02, 1.62437424e-03, 6.61809466e-06, 1.87982091e-04,\n",
       "       3.23872147e-04, 2.43354622e-05, 1.30708008e-03, 3.72615135e-03,\n",
       "       2.07767879e-07, 1.14523794e-04, 1.50916115e-04, 4.12087333e-05,\n",
       "       5.72780820e-03, 1.13553908e-03, 1.26922022e-03, 1.06658659e-04,\n",
       "       3.12250748e-03, 4.83694403e-04, 1.91977633e-04, 3.91609868e-04,\n",
       "       8.58430663e-06, 9.43207890e-04, 1.36501420e-04, 1.77937816e-04,\n",
       "       3.89624414e-05, 5.36764098e-05, 3.20749566e-05, 2.62400153e-05,\n",
       "       2.95202545e-03, 4.13157319e-05, 1.58918811e-03, 2.55064310e-03,\n",
       "       7.02598418e-06, 1.55516622e-04, 2.80244227e-04, 1.68121100e-03,\n",
       "       5.00955696e-03])"
      ]
     },
     "execution_count": 24,
     "metadata": {},
     "output_type": "execute_result"
    }
   ],
   "source": [
    "feature_importances = grid_search.best_estimator_.feature_importances_\n",
    "feature_importances"
   ]
  },
  {
   "cell_type": "code",
   "execution_count": 25,
   "id": "28a7b349",
   "metadata": {
    "execution": {
     "iopub.execute_input": "2022-04-03T01:55:23.503489Z",
     "iopub.status.busy": "2022-04-03T01:55:23.502775Z",
     "iopub.status.idle": "2022-04-03T01:55:23.512615Z",
     "shell.execute_reply": "2022-04-03T01:55:23.512079Z",
     "shell.execute_reply.started": "2022-03-25T23:30:12.295616Z"
    },
    "papermill": {
     "duration": 0.053656,
     "end_time": "2022-04-03T01:55:23.512753",
     "exception": false,
     "start_time": "2022-04-03T01:55:23.459097",
     "status": "completed"
    },
    "tags": []
   },
   "outputs": [
    {
     "data": {
      "text/plain": [
       "[(0.05727948871327229, 'OverallQual'),\n",
       " (0.0549379287590244, 'GrLivArea'),\n",
       " (0.036851536397949664, '1stFlrSF'),\n",
       " (0.033544681516570134, 'TotalBsmtSF'),\n",
       " (0.03181681448586311, 'LotArea'),\n",
       " (0.02793676413628692, 'BsmtFinSF1'),\n",
       " (0.026211922408442622, '2ndFlrSF'),\n",
       " (0.025602539965787992, 'GarageCars'),\n",
       " (0.022431776612095153, 'GarageYrBlt'),\n",
       " (0.021809323495545443, 'GarageArea'),\n",
       " (0.02092156899338216, 'YearBuilt'),\n",
       " (0.020493418940507085, 'MasVnrArea'),\n",
       " (0.01853247115998215, 'TotRmsAbvGrd'),\n",
       " (0.017681806752819575, 'YearRemodAdd'),\n",
       " (0.014345363466291627, 'Fireplaces'),\n",
       " (0.013690588699352468, 'FullBath'),\n",
       " (0.013197431076826789, 'LotFrontage'),\n",
       " (0.009115737287147223, 'OpenPorchSF'),\n",
       " (0.008636545786867227, 'WoodDeckSF'),\n",
       " (0.008222361927866276, 'BsmtUnfSF'),\n",
       " (0.007300420987478966, 'BedroomAbvGr'),\n",
       " (0.006269466887833161, 'MSSubClass'),\n",
       " (0.005675410575374169, 'MoSold'),\n",
       " (0.005562259072746986, 'Id'),\n",
       " (0.00427177427499193, 'BsmtFullBath'),\n",
       " (0.003833178819969211, 'HalfBath'),\n",
       " (0.0028078745466560188, 'YrSold'),\n",
       " (0.0027739933852757143, 'OverallCond'),\n",
       " (0.0025881120966891307, 'RM'),\n",
       " (0.0025577914035160854, 'RL'),\n",
       " (0.0021473257594159423, 'EnclosedPorch'),\n",
       " (0.001991949777853587, 'ScreenPorch'),\n",
       " (0.001301235702482311, 'BsmtFinSF2'),\n",
       " (0.0011185759917873013, 'PoolArea'),\n",
       " (0.0008339565048901719, 'FV'),\n",
       " (0.000826800802940328, 'MiscVal'),\n",
       " (0.0007660237057684883, 'KitchenAbvGr'),\n",
       " (0.0005940271111862719, 'LowQualFinSF'),\n",
       " (0.0003708104369518883, 'BsmtHalfBath'),\n",
       " (0.0002955478754720489, 'C (all)'),\n",
       " (0.0002058140026433539, '3SsnPorch'),\n",
       " (8.796237766177213e-05, 'RH')]"
      ]
     },
     "execution_count": 25,
     "metadata": {},
     "output_type": "execute_result"
    }
   ],
   "source": [
    "cat_encoder = full_pipeline.named_transformers_['cat']\n",
    "cat_one_hot_attribs = list(cat_encoder.categories_[0])\n",
    "attributes = num_attribs + cat_one_hot_attribs\n",
    "sorted(zip(feature_importances, attributes), reverse=True)\n",
    "# maybe drop less useful features"
   ]
  },
  {
   "cell_type": "code",
   "execution_count": 26,
   "id": "947465ec",
   "metadata": {
    "execution": {
     "iopub.execute_input": "2022-04-03T01:55:23.597195Z",
     "iopub.status.busy": "2022-04-03T01:55:23.596382Z",
     "iopub.status.idle": "2022-04-03T01:55:23.599158Z",
     "shell.execute_reply": "2022-04-03T01:55:23.599642Z",
     "shell.execute_reply.started": "2022-03-25T23:30:12.308836Z"
    },
    "papermill": {
     "duration": 0.047379,
     "end_time": "2022-04-03T01:55:23.599815",
     "exception": false,
     "start_time": "2022-04-03T01:55:23.552436",
     "status": "completed"
    },
    "tags": []
   },
   "outputs": [],
   "source": [
    "final_model = grid_search.best_estimator_\n",
    "X_test= test_set.copy()"
   ]
  },
  {
   "cell_type": "code",
   "execution_count": 27,
   "id": "4e984758",
   "metadata": {
    "execution": {
     "iopub.execute_input": "2022-04-03T01:55:23.682001Z",
     "iopub.status.busy": "2022-04-03T01:55:23.681365Z",
     "iopub.status.idle": "2022-04-03T01:55:23.704338Z",
     "shell.execute_reply": "2022-04-03T01:55:23.704848Z",
     "shell.execute_reply.started": "2022-03-25T23:30:12.332348Z"
    },
    "papermill": {
     "duration": 0.065682,
     "end_time": "2022-04-03T01:55:23.705063",
     "exception": false,
     "start_time": "2022-04-03T01:55:23.639381",
     "status": "completed"
    },
    "tags": []
   },
   "outputs": [
    {
     "name": "stdout",
     "output_type": "stream",
     "text": [
      "<class 'pandas.core.frame.DataFrame'>\n",
      "RangeIndex: 1459 entries, 0 to 1458\n",
      "Data columns (total 77 columns):\n",
      " #   Column         Non-Null Count  Dtype  \n",
      "---  ------         --------------  -----  \n",
      " 0   Id             1459 non-null   int64  \n",
      " 1   MSSubClass     1459 non-null   int64  \n",
      " 2   MSZoning       1455 non-null   object \n",
      " 3   LotFrontage    1232 non-null   float64\n",
      " 4   LotArea        1459 non-null   int64  \n",
      " 5   Street         1459 non-null   object \n",
      " 6   LotShape       1459 non-null   object \n",
      " 7   LandContour    1459 non-null   object \n",
      " 8   Utilities      1457 non-null   object \n",
      " 9   LotConfig      1459 non-null   object \n",
      " 10  LandSlope      1459 non-null   object \n",
      " 11  Neighborhood   1459 non-null   object \n",
      " 12  Condition1     1459 non-null   object \n",
      " 13  Condition2     1459 non-null   object \n",
      " 14  BldgType       1459 non-null   object \n",
      " 15  HouseStyle     1459 non-null   object \n",
      " 16  OverallQual    1459 non-null   int64  \n",
      " 17  OverallCond    1459 non-null   int64  \n",
      " 18  YearBuilt      1459 non-null   int64  \n",
      " 19  YearRemodAdd   1459 non-null   int64  \n",
      " 20  RoofStyle      1459 non-null   object \n",
      " 21  RoofMatl       1459 non-null   object \n",
      " 22  Exterior1st    1458 non-null   object \n",
      " 23  Exterior2nd    1458 non-null   object \n",
      " 24  MasVnrType     1443 non-null   object \n",
      " 25  MasVnrArea     1444 non-null   float64\n",
      " 26  ExterQual      1459 non-null   object \n",
      " 27  ExterCond      1459 non-null   object \n",
      " 28  Foundation     1459 non-null   object \n",
      " 29  BsmtQual       1415 non-null   object \n",
      " 30  BsmtCond       1414 non-null   object \n",
      " 31  BsmtExposure   1415 non-null   object \n",
      " 32  BsmtFinType1   1417 non-null   object \n",
      " 33  BsmtFinSF1     1458 non-null   float64\n",
      " 34  BsmtFinType2   1417 non-null   object \n",
      " 35  BsmtFinSF2     1458 non-null   float64\n",
      " 36  BsmtUnfSF      1458 non-null   float64\n",
      " 37  TotalBsmtSF    1458 non-null   float64\n",
      " 38  Heating        1459 non-null   object \n",
      " 39  HeatingQC      1459 non-null   object \n",
      " 40  CentralAir     1459 non-null   object \n",
      " 41  Electrical     1459 non-null   object \n",
      " 42  1stFlrSF       1459 non-null   int64  \n",
      " 43  2ndFlrSF       1459 non-null   int64  \n",
      " 44  LowQualFinSF   1459 non-null   int64  \n",
      " 45  GrLivArea      1459 non-null   int64  \n",
      " 46  BsmtFullBath   1457 non-null   float64\n",
      " 47  BsmtHalfBath   1457 non-null   float64\n",
      " 48  FullBath       1459 non-null   int64  \n",
      " 49  HalfBath       1459 non-null   int64  \n",
      " 50  BedroomAbvGr   1459 non-null   int64  \n",
      " 51  KitchenAbvGr   1459 non-null   int64  \n",
      " 52  KitchenQual    1458 non-null   object \n",
      " 53  TotRmsAbvGrd   1459 non-null   int64  \n",
      " 54  Functional     1457 non-null   object \n",
      " 55  Fireplaces     1459 non-null   int64  \n",
      " 56  FireplaceQu    729 non-null    object \n",
      " 57  GarageType     1383 non-null   object \n",
      " 58  GarageYrBlt    1381 non-null   float64\n",
      " 59  GarageFinish   1381 non-null   object \n",
      " 60  GarageCars     1458 non-null   float64\n",
      " 61  GarageArea     1458 non-null   float64\n",
      " 62  GarageQual     1381 non-null   object \n",
      " 63  GarageCond     1381 non-null   object \n",
      " 64  PavedDrive     1459 non-null   object \n",
      " 65  WoodDeckSF     1459 non-null   int64  \n",
      " 66  OpenPorchSF    1459 non-null   int64  \n",
      " 67  EnclosedPorch  1459 non-null   int64  \n",
      " 68  3SsnPorch      1459 non-null   int64  \n",
      " 69  ScreenPorch    1459 non-null   int64  \n",
      " 70  PoolArea       1459 non-null   int64  \n",
      " 71  Fence          290 non-null    object \n",
      " 72  MiscVal        1459 non-null   int64  \n",
      " 73  MoSold         1459 non-null   int64  \n",
      " 74  YrSold         1459 non-null   int64  \n",
      " 75  SaleType       1458 non-null   object \n",
      " 76  SaleCondition  1459 non-null   object \n",
      "dtypes: float64(11), int64(26), object(40)\n",
      "memory usage: 877.8+ KB\n"
     ]
    }
   ],
   "source": [
    "X_test.info()"
   ]
  },
  {
   "cell_type": "code",
   "execution_count": 28,
   "id": "13bac02a",
   "metadata": {
    "execution": {
     "iopub.execute_input": "2022-04-03T01:55:23.789281Z",
     "iopub.status.busy": "2022-04-03T01:55:23.788625Z",
     "iopub.status.idle": "2022-04-03T01:55:23.850632Z",
     "shell.execute_reply": "2022-04-03T01:55:23.850073Z",
     "shell.execute_reply.started": "2022-03-25T23:30:12.375382Z"
    },
    "papermill": {
     "duration": 0.104855,
     "end_time": "2022-04-03T01:55:23.850789",
     "exception": false,
     "start_time": "2022-04-03T01:55:23.745934",
     "status": "completed"
    },
    "tags": []
   },
   "outputs": [
    {
     "data": {
      "text/plain": [
       "array([124948.16666667, 148251.66666667, 180342.9       , ...,\n",
       "       157096.66666667, 116488.33333333, 221921.46666667])"
      ]
     },
     "execution_count": 28,
     "metadata": {},
     "output_type": "execute_result"
    }
   ],
   "source": [
    "\n",
    "\n",
    "X_test_prepared = full_pipeline.transform(X_test)\n",
    "final_predictions = final_model.predict(X_test_prepared)\n",
    "final_predictions"
   ]
  },
  {
   "cell_type": "code",
   "execution_count": 29,
   "id": "3dfea16f",
   "metadata": {
    "execution": {
     "iopub.execute_input": "2022-04-03T01:55:23.948621Z",
     "iopub.status.busy": "2022-04-03T01:55:23.947789Z",
     "iopub.status.idle": "2022-04-03T01:55:23.950717Z",
     "shell.execute_reply": "2022-04-03T01:55:23.951219Z",
     "shell.execute_reply.started": "2022-03-25T23:31:53.143588Z"
    },
    "papermill": {
     "duration": 0.059592,
     "end_time": "2022-04-03T01:55:23.951388",
     "exception": false,
     "start_time": "2022-04-03T01:55:23.891796",
     "status": "completed"
    },
    "tags": []
   },
   "outputs": [
    {
     "data": {
      "text/html": [
       "<div>\n",
       "<style scoped>\n",
       "    .dataframe tbody tr th:only-of-type {\n",
       "        vertical-align: middle;\n",
       "    }\n",
       "\n",
       "    .dataframe tbody tr th {\n",
       "        vertical-align: top;\n",
       "    }\n",
       "\n",
       "    .dataframe thead th {\n",
       "        text-align: right;\n",
       "    }\n",
       "</style>\n",
       "<table border=\"1\" class=\"dataframe\">\n",
       "  <thead>\n",
       "    <tr style=\"text-align: right;\">\n",
       "      <th></th>\n",
       "      <th>Id</th>\n",
       "      <th>SalePrice</th>\n",
       "    </tr>\n",
       "  </thead>\n",
       "  <tbody>\n",
       "    <tr>\n",
       "      <th>0</th>\n",
       "      <td>1461</td>\n",
       "      <td>124948.166667</td>\n",
       "    </tr>\n",
       "    <tr>\n",
       "      <th>1</th>\n",
       "      <td>1462</td>\n",
       "      <td>148251.666667</td>\n",
       "    </tr>\n",
       "    <tr>\n",
       "      <th>2</th>\n",
       "      <td>1463</td>\n",
       "      <td>180342.900000</td>\n",
       "    </tr>\n",
       "    <tr>\n",
       "      <th>3</th>\n",
       "      <td>1464</td>\n",
       "      <td>194248.000000</td>\n",
       "    </tr>\n",
       "    <tr>\n",
       "      <th>4</th>\n",
       "      <td>1465</td>\n",
       "      <td>192073.333333</td>\n",
       "    </tr>\n",
       "    <tr>\n",
       "      <th>...</th>\n",
       "      <td>...</td>\n",
       "      <td>...</td>\n",
       "    </tr>\n",
       "    <tr>\n",
       "      <th>1454</th>\n",
       "      <td>2915</td>\n",
       "      <td>93923.333333</td>\n",
       "    </tr>\n",
       "    <tr>\n",
       "      <th>1455</th>\n",
       "      <td>2916</td>\n",
       "      <td>97706.666667</td>\n",
       "    </tr>\n",
       "    <tr>\n",
       "      <th>1456</th>\n",
       "      <td>2917</td>\n",
       "      <td>157096.666667</td>\n",
       "    </tr>\n",
       "    <tr>\n",
       "      <th>1457</th>\n",
       "      <td>2918</td>\n",
       "      <td>116488.333333</td>\n",
       "    </tr>\n",
       "    <tr>\n",
       "      <th>1458</th>\n",
       "      <td>2919</td>\n",
       "      <td>221921.466667</td>\n",
       "    </tr>\n",
       "  </tbody>\n",
       "</table>\n",
       "<p>1459 rows × 2 columns</p>\n",
       "</div>"
      ],
      "text/plain": [
       "        Id      SalePrice\n",
       "0     1461  124948.166667\n",
       "1     1462  148251.666667\n",
       "2     1463  180342.900000\n",
       "3     1464  194248.000000\n",
       "4     1465  192073.333333\n",
       "...    ...            ...\n",
       "1454  2915   93923.333333\n",
       "1455  2916   97706.666667\n",
       "1456  2917  157096.666667\n",
       "1457  2918  116488.333333\n",
       "1458  2919  221921.466667\n",
       "\n",
       "[1459 rows x 2 columns]"
      ]
     },
     "execution_count": 29,
     "metadata": {},
     "output_type": "execute_result"
    }
   ],
   "source": [
    "test_ID = test_set['Id']\n",
    "sub = pd.DataFrame({'Id':test_ID, 'SalePrice':final_predictions})\n",
    "sub"
   ]
  },
  {
   "cell_type": "code",
   "execution_count": 30,
   "id": "575666f4",
   "metadata": {
    "execution": {
     "iopub.execute_input": "2022-04-03T01:55:24.039491Z",
     "iopub.status.busy": "2022-04-03T01:55:24.038770Z",
     "iopub.status.idle": "2022-04-03T01:55:24.048463Z",
     "shell.execute_reply": "2022-04-03T01:55:24.048967Z",
     "shell.execute_reply.started": "2022-03-25T23:31:55.760611Z"
    },
    "papermill": {
     "duration": 0.056061,
     "end_time": "2022-04-03T01:55:24.049153",
     "exception": false,
     "start_time": "2022-04-03T01:55:23.993092",
     "status": "completed"
    },
    "tags": []
   },
   "outputs": [],
   "source": [
    "sub.to_csv('submission.csv', index=False)"
   ]
  },
  {
   "cell_type": "code",
   "execution_count": null,
   "id": "bcb97e85",
   "metadata": {
    "papermill": {
     "duration": 0.040934,
     "end_time": "2022-04-03T01:55:24.131520",
     "exception": false,
     "start_time": "2022-04-03T01:55:24.090586",
     "status": "completed"
    },
    "tags": []
   },
   "outputs": [],
   "source": []
  }
 ],
 "metadata": {
  "kernelspec": {
   "display_name": "Python 3",
   "language": "python",
   "name": "python3"
  },
  "language_info": {
   "codemirror_mode": {
    "name": "ipython",
    "version": 3
   },
   "file_extension": ".py",
   "mimetype": "text/x-python",
   "name": "python",
   "nbconvert_exporter": "python",
   "pygments_lexer": "ipython3",
   "version": "3.7.12"
  },
  "papermill": {
   "default_parameters": {},
   "duration": 61.311596,
   "end_time": "2022-04-03T01:55:24.983996",
   "environment_variables": {},
   "exception": null,
   "input_path": "__notebook__.ipynb",
   "output_path": "__notebook__.ipynb",
   "parameters": {},
   "start_time": "2022-04-03T01:54:23.672400",
   "version": "2.3.3"
  }
 },
 "nbformat": 4,
 "nbformat_minor": 5
}
