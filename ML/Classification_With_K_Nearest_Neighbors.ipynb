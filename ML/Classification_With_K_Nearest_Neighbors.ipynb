{
 "cells": [
  {
   "cell_type": "code",
   "execution_count": 4,
   "metadata": {},
   "outputs": [],
   "source": [
    "import numpy as np\n",
    "from sklearn import preprocessing, neighbors\n",
    "from sklearn.model_selection import train_test_split\n",
    "import pandas as pd"
   ]
  },
  {
   "cell_type": "code",
   "execution_count": 1,
   "metadata": {},
   "outputs": [],
   "source": [
    "# Classification is using a dataset to create a model that identifies patterns or groups on graphs based features\n",
    "# New input is usually classified based on proximity to labelled data\n",
    "\n",
    "# K Nearest Neighbors algorithm looks at closest points to new unknown input and then categorizes/classfies the input based labelled data around it\n",
    "# K is controlled to determine the number of closest points to analyze\n",
    "# If K = 3 and the closest points are labelled: DOG, DOG, CAT then the input is classified as DOG because it is the majority\n",
    "# It can also have include a degree of confidence for each input/unknown point labelled\n",
    "\n",
    "# Downfalls of K Nearest Neighbors: Finding closest points requires finding Euclidean distance of all points and selecting the lowest K, which can consume lots of time and power when dealing with large datasets"
   ]
  },
  {
   "cell_type": "code",
   "execution_count": 53,
   "metadata": {},
   "outputs": [
    {
     "name": "stderr",
     "output_type": "stream",
     "text": [
      "/var/folders/bl/nm33gwcs1xg4szyjqn1k3plm0000gn/T/ipykernel_91081/1915837814.py:6: FutureWarning: In a future version of pandas all arguments of DataFrame.drop except for the argument 'labels' will be keyword-only.\n",
      "  df.drop(['id'], 1, inplace=True)\n",
      "/var/folders/bl/nm33gwcs1xg4szyjqn1k3plm0000gn/T/ipykernel_91081/1915837814.py:8: FutureWarning: In a future version of pandas all arguments of DataFrame.drop except for the argument 'labels' will be keyword-only.\n",
      "  X = np.array(df.drop(['class'],1)) # does not permanently remove 'class' but it is the y / predicted value so it should not be in X\n",
      "/var/folders/bl/nm33gwcs1xg4szyjqn1k3plm0000gn/T/ipykernel_91081/1915837814.py:6: FutureWarning: In a future version of pandas all arguments of DataFrame.drop except for the argument 'labels' will be keyword-only.\n",
      "  df.drop(['id'], 1, inplace=True)\n",
      "/var/folders/bl/nm33gwcs1xg4szyjqn1k3plm0000gn/T/ipykernel_91081/1915837814.py:8: FutureWarning: In a future version of pandas all arguments of DataFrame.drop except for the argument 'labels' will be keyword-only.\n",
      "  X = np.array(df.drop(['class'],1)) # does not permanently remove 'class' but it is the y / predicted value so it should not be in X\n",
      "/var/folders/bl/nm33gwcs1xg4szyjqn1k3plm0000gn/T/ipykernel_91081/1915837814.py:6: FutureWarning: In a future version of pandas all arguments of DataFrame.drop except for the argument 'labels' will be keyword-only.\n",
      "  df.drop(['id'], 1, inplace=True)\n",
      "/var/folders/bl/nm33gwcs1xg4szyjqn1k3plm0000gn/T/ipykernel_91081/1915837814.py:8: FutureWarning: In a future version of pandas all arguments of DataFrame.drop except for the argument 'labels' will be keyword-only.\n",
      "  X = np.array(df.drop(['class'],1)) # does not permanently remove 'class' but it is the y / predicted value so it should not be in X\n",
      "/var/folders/bl/nm33gwcs1xg4szyjqn1k3plm0000gn/T/ipykernel_91081/1915837814.py:6: FutureWarning: In a future version of pandas all arguments of DataFrame.drop except for the argument 'labels' will be keyword-only.\n",
      "  df.drop(['id'], 1, inplace=True)\n",
      "/var/folders/bl/nm33gwcs1xg4szyjqn1k3plm0000gn/T/ipykernel_91081/1915837814.py:8: FutureWarning: In a future version of pandas all arguments of DataFrame.drop except for the argument 'labels' will be keyword-only.\n",
      "  X = np.array(df.drop(['class'],1)) # does not permanently remove 'class' but it is the y / predicted value so it should not be in X\n",
      "/var/folders/bl/nm33gwcs1xg4szyjqn1k3plm0000gn/T/ipykernel_91081/1915837814.py:6: FutureWarning: In a future version of pandas all arguments of DataFrame.drop except for the argument 'labels' will be keyword-only.\n",
      "  df.drop(['id'], 1, inplace=True)\n",
      "/var/folders/bl/nm33gwcs1xg4szyjqn1k3plm0000gn/T/ipykernel_91081/1915837814.py:8: FutureWarning: In a future version of pandas all arguments of DataFrame.drop except for the argument 'labels' will be keyword-only.\n",
      "  X = np.array(df.drop(['class'],1)) # does not permanently remove 'class' but it is the y / predicted value so it should not be in X\n",
      "/var/folders/bl/nm33gwcs1xg4szyjqn1k3plm0000gn/T/ipykernel_91081/1915837814.py:6: FutureWarning: In a future version of pandas all arguments of DataFrame.drop except for the argument 'labels' will be keyword-only.\n",
      "  df.drop(['id'], 1, inplace=True)\n",
      "/var/folders/bl/nm33gwcs1xg4szyjqn1k3plm0000gn/T/ipykernel_91081/1915837814.py:8: FutureWarning: In a future version of pandas all arguments of DataFrame.drop except for the argument 'labels' will be keyword-only.\n",
      "  X = np.array(df.drop(['class'],1)) # does not permanently remove 'class' but it is the y / predicted value so it should not be in X\n",
      "/var/folders/bl/nm33gwcs1xg4szyjqn1k3plm0000gn/T/ipykernel_91081/1915837814.py:6: FutureWarning: In a future version of pandas all arguments of DataFrame.drop except for the argument 'labels' will be keyword-only.\n",
      "  df.drop(['id'], 1, inplace=True)\n",
      "/var/folders/bl/nm33gwcs1xg4szyjqn1k3plm0000gn/T/ipykernel_91081/1915837814.py:8: FutureWarning: In a future version of pandas all arguments of DataFrame.drop except for the argument 'labels' will be keyword-only.\n",
      "  X = np.array(df.drop(['class'],1)) # does not permanently remove 'class' but it is the y / predicted value so it should not be in X\n",
      "/var/folders/bl/nm33gwcs1xg4szyjqn1k3plm0000gn/T/ipykernel_91081/1915837814.py:6: FutureWarning: In a future version of pandas all arguments of DataFrame.drop except for the argument 'labels' will be keyword-only.\n",
      "  df.drop(['id'], 1, inplace=True)\n",
      "/var/folders/bl/nm33gwcs1xg4szyjqn1k3plm0000gn/T/ipykernel_91081/1915837814.py:8: FutureWarning: In a future version of pandas all arguments of DataFrame.drop except for the argument 'labels' will be keyword-only.\n",
      "  X = np.array(df.drop(['class'],1)) # does not permanently remove 'class' but it is the y / predicted value so it should not be in X\n",
      "/var/folders/bl/nm33gwcs1xg4szyjqn1k3plm0000gn/T/ipykernel_91081/1915837814.py:6: FutureWarning: In a future version of pandas all arguments of DataFrame.drop except for the argument 'labels' will be keyword-only.\n",
      "  df.drop(['id'], 1, inplace=True)\n",
      "/var/folders/bl/nm33gwcs1xg4szyjqn1k3plm0000gn/T/ipykernel_91081/1915837814.py:8: FutureWarning: In a future version of pandas all arguments of DataFrame.drop except for the argument 'labels' will be keyword-only.\n",
      "  X = np.array(df.drop(['class'],1)) # does not permanently remove 'class' but it is the y / predicted value so it should not be in X\n"
     ]
    },
    {
     "name": "stdout",
     "output_type": "stream",
     "text": [
      "0.9714285714285714\n",
      "0.9714285714285714\n",
      "0.9571428571428572\n",
      "0.9642857142857143\n",
      "0.9714285714285714\n",
      "0.9571428571428572\n",
      "0.9642857142857143\n",
      "0.9642857142857143\n",
      "0.9785714285714285\n",
      "0.9857142857142858\n",
      "0.9857142857142858\n",
      "0.9642857142857143\n",
      "0.9785714285714285\n",
      "0.9857142857142858\n",
      "0.9714285714285714\n",
      "0.9785714285714285\n",
      "1.0\n",
      "0.9857142857142858\n",
      "0.9714285714285714\n",
      "0.9285714285714286\n",
      "0.9928571428571429\n",
      "0.9714285714285714\n",
      "0.9785714285714285\n",
      "0.9285714285714286\n",
      "0.9571428571428572\n",
      "Average accuracy 0.9705714285714283\n"
     ]
    },
    {
     "name": "stderr",
     "output_type": "stream",
     "text": [
      "/var/folders/bl/nm33gwcs1xg4szyjqn1k3plm0000gn/T/ipykernel_91081/1915837814.py:6: FutureWarning: In a future version of pandas all arguments of DataFrame.drop except for the argument 'labels' will be keyword-only.\n",
      "  df.drop(['id'], 1, inplace=True)\n",
      "/var/folders/bl/nm33gwcs1xg4szyjqn1k3plm0000gn/T/ipykernel_91081/1915837814.py:8: FutureWarning: In a future version of pandas all arguments of DataFrame.drop except for the argument 'labels' will be keyword-only.\n",
      "  X = np.array(df.drop(['class'],1)) # does not permanently remove 'class' but it is the y / predicted value so it should not be in X\n",
      "/var/folders/bl/nm33gwcs1xg4szyjqn1k3plm0000gn/T/ipykernel_91081/1915837814.py:6: FutureWarning: In a future version of pandas all arguments of DataFrame.drop except for the argument 'labels' will be keyword-only.\n",
      "  df.drop(['id'], 1, inplace=True)\n",
      "/var/folders/bl/nm33gwcs1xg4szyjqn1k3plm0000gn/T/ipykernel_91081/1915837814.py:8: FutureWarning: In a future version of pandas all arguments of DataFrame.drop except for the argument 'labels' will be keyword-only.\n",
      "  X = np.array(df.drop(['class'],1)) # does not permanently remove 'class' but it is the y / predicted value so it should not be in X\n",
      "/var/folders/bl/nm33gwcs1xg4szyjqn1k3plm0000gn/T/ipykernel_91081/1915837814.py:6: FutureWarning: In a future version of pandas all arguments of DataFrame.drop except for the argument 'labels' will be keyword-only.\n",
      "  df.drop(['id'], 1, inplace=True)\n",
      "/var/folders/bl/nm33gwcs1xg4szyjqn1k3plm0000gn/T/ipykernel_91081/1915837814.py:8: FutureWarning: In a future version of pandas all arguments of DataFrame.drop except for the argument 'labels' will be keyword-only.\n",
      "  X = np.array(df.drop(['class'],1)) # does not permanently remove 'class' but it is the y / predicted value so it should not be in X\n",
      "/var/folders/bl/nm33gwcs1xg4szyjqn1k3plm0000gn/T/ipykernel_91081/1915837814.py:6: FutureWarning: In a future version of pandas all arguments of DataFrame.drop except for the argument 'labels' will be keyword-only.\n",
      "  df.drop(['id'], 1, inplace=True)\n",
      "/var/folders/bl/nm33gwcs1xg4szyjqn1k3plm0000gn/T/ipykernel_91081/1915837814.py:8: FutureWarning: In a future version of pandas all arguments of DataFrame.drop except for the argument 'labels' will be keyword-only.\n",
      "  X = np.array(df.drop(['class'],1)) # does not permanently remove 'class' but it is the y / predicted value so it should not be in X\n",
      "/var/folders/bl/nm33gwcs1xg4szyjqn1k3plm0000gn/T/ipykernel_91081/1915837814.py:6: FutureWarning: In a future version of pandas all arguments of DataFrame.drop except for the argument 'labels' will be keyword-only.\n",
      "  df.drop(['id'], 1, inplace=True)\n",
      "/var/folders/bl/nm33gwcs1xg4szyjqn1k3plm0000gn/T/ipykernel_91081/1915837814.py:8: FutureWarning: In a future version of pandas all arguments of DataFrame.drop except for the argument 'labels' will be keyword-only.\n",
      "  X = np.array(df.drop(['class'],1)) # does not permanently remove 'class' but it is the y / predicted value so it should not be in X\n",
      "/var/folders/bl/nm33gwcs1xg4szyjqn1k3plm0000gn/T/ipykernel_91081/1915837814.py:6: FutureWarning: In a future version of pandas all arguments of DataFrame.drop except for the argument 'labels' will be keyword-only.\n",
      "  df.drop(['id'], 1, inplace=True)\n",
      "/var/folders/bl/nm33gwcs1xg4szyjqn1k3plm0000gn/T/ipykernel_91081/1915837814.py:8: FutureWarning: In a future version of pandas all arguments of DataFrame.drop except for the argument 'labels' will be keyword-only.\n",
      "  X = np.array(df.drop(['class'],1)) # does not permanently remove 'class' but it is the y / predicted value so it should not be in X\n",
      "/var/folders/bl/nm33gwcs1xg4szyjqn1k3plm0000gn/T/ipykernel_91081/1915837814.py:6: FutureWarning: In a future version of pandas all arguments of DataFrame.drop except for the argument 'labels' will be keyword-only.\n",
      "  df.drop(['id'], 1, inplace=True)\n",
      "/var/folders/bl/nm33gwcs1xg4szyjqn1k3plm0000gn/T/ipykernel_91081/1915837814.py:8: FutureWarning: In a future version of pandas all arguments of DataFrame.drop except for the argument 'labels' will be keyword-only.\n",
      "  X = np.array(df.drop(['class'],1)) # does not permanently remove 'class' but it is the y / predicted value so it should not be in X\n",
      "/var/folders/bl/nm33gwcs1xg4szyjqn1k3plm0000gn/T/ipykernel_91081/1915837814.py:6: FutureWarning: In a future version of pandas all arguments of DataFrame.drop except for the argument 'labels' will be keyword-only.\n",
      "  df.drop(['id'], 1, inplace=True)\n",
      "/var/folders/bl/nm33gwcs1xg4szyjqn1k3plm0000gn/T/ipykernel_91081/1915837814.py:8: FutureWarning: In a future version of pandas all arguments of DataFrame.drop except for the argument 'labels' will be keyword-only.\n",
      "  X = np.array(df.drop(['class'],1)) # does not permanently remove 'class' but it is the y / predicted value so it should not be in X\n",
      "/var/folders/bl/nm33gwcs1xg4szyjqn1k3plm0000gn/T/ipykernel_91081/1915837814.py:6: FutureWarning: In a future version of pandas all arguments of DataFrame.drop except for the argument 'labels' will be keyword-only.\n",
      "  df.drop(['id'], 1, inplace=True)\n",
      "/var/folders/bl/nm33gwcs1xg4szyjqn1k3plm0000gn/T/ipykernel_91081/1915837814.py:8: FutureWarning: In a future version of pandas all arguments of DataFrame.drop except for the argument 'labels' will be keyword-only.\n",
      "  X = np.array(df.drop(['class'],1)) # does not permanently remove 'class' but it is the y / predicted value so it should not be in X\n",
      "/var/folders/bl/nm33gwcs1xg4szyjqn1k3plm0000gn/T/ipykernel_91081/1915837814.py:6: FutureWarning: In a future version of pandas all arguments of DataFrame.drop except for the argument 'labels' will be keyword-only.\n",
      "  df.drop(['id'], 1, inplace=True)\n",
      "/var/folders/bl/nm33gwcs1xg4szyjqn1k3plm0000gn/T/ipykernel_91081/1915837814.py:8: FutureWarning: In a future version of pandas all arguments of DataFrame.drop except for the argument 'labels' will be keyword-only.\n",
      "  X = np.array(df.drop(['class'],1)) # does not permanently remove 'class' but it is the y / predicted value so it should not be in X\n",
      "/var/folders/bl/nm33gwcs1xg4szyjqn1k3plm0000gn/T/ipykernel_91081/1915837814.py:6: FutureWarning: In a future version of pandas all arguments of DataFrame.drop except for the argument 'labels' will be keyword-only.\n",
      "  df.drop(['id'], 1, inplace=True)\n",
      "/var/folders/bl/nm33gwcs1xg4szyjqn1k3plm0000gn/T/ipykernel_91081/1915837814.py:8: FutureWarning: In a future version of pandas all arguments of DataFrame.drop except for the argument 'labels' will be keyword-only.\n",
      "  X = np.array(df.drop(['class'],1)) # does not permanently remove 'class' but it is the y / predicted value so it should not be in X\n",
      "/var/folders/bl/nm33gwcs1xg4szyjqn1k3plm0000gn/T/ipykernel_91081/1915837814.py:6: FutureWarning: In a future version of pandas all arguments of DataFrame.drop except for the argument 'labels' will be keyword-only.\n",
      "  df.drop(['id'], 1, inplace=True)\n",
      "/var/folders/bl/nm33gwcs1xg4szyjqn1k3plm0000gn/T/ipykernel_91081/1915837814.py:8: FutureWarning: In a future version of pandas all arguments of DataFrame.drop except for the argument 'labels' will be keyword-only.\n",
      "  X = np.array(df.drop(['class'],1)) # does not permanently remove 'class' but it is the y / predicted value so it should not be in X\n",
      "/var/folders/bl/nm33gwcs1xg4szyjqn1k3plm0000gn/T/ipykernel_91081/1915837814.py:6: FutureWarning: In a future version of pandas all arguments of DataFrame.drop except for the argument 'labels' will be keyword-only.\n",
      "  df.drop(['id'], 1, inplace=True)\n",
      "/var/folders/bl/nm33gwcs1xg4szyjqn1k3plm0000gn/T/ipykernel_91081/1915837814.py:8: FutureWarning: In a future version of pandas all arguments of DataFrame.drop except for the argument 'labels' will be keyword-only.\n",
      "  X = np.array(df.drop(['class'],1)) # does not permanently remove 'class' but it is the y / predicted value so it should not be in X\n",
      "/var/folders/bl/nm33gwcs1xg4szyjqn1k3plm0000gn/T/ipykernel_91081/1915837814.py:6: FutureWarning: In a future version of pandas all arguments of DataFrame.drop except for the argument 'labels' will be keyword-only.\n",
      "  df.drop(['id'], 1, inplace=True)\n",
      "/var/folders/bl/nm33gwcs1xg4szyjqn1k3plm0000gn/T/ipykernel_91081/1915837814.py:8: FutureWarning: In a future version of pandas all arguments of DataFrame.drop except for the argument 'labels' will be keyword-only.\n",
      "  X = np.array(df.drop(['class'],1)) # does not permanently remove 'class' but it is the y / predicted value so it should not be in X\n",
      "/var/folders/bl/nm33gwcs1xg4szyjqn1k3plm0000gn/T/ipykernel_91081/1915837814.py:6: FutureWarning: In a future version of pandas all arguments of DataFrame.drop except for the argument 'labels' will be keyword-only.\n",
      "  df.drop(['id'], 1, inplace=True)\n",
      "/var/folders/bl/nm33gwcs1xg4szyjqn1k3plm0000gn/T/ipykernel_91081/1915837814.py:8: FutureWarning: In a future version of pandas all arguments of DataFrame.drop except for the argument 'labels' will be keyword-only.\n",
      "  X = np.array(df.drop(['class'],1)) # does not permanently remove 'class' but it is the y / predicted value so it should not be in X\n",
      "/var/folders/bl/nm33gwcs1xg4szyjqn1k3plm0000gn/T/ipykernel_91081/1915837814.py:6: FutureWarning: In a future version of pandas all arguments of DataFrame.drop except for the argument 'labels' will be keyword-only.\n",
      "  df.drop(['id'], 1, inplace=True)\n",
      "/var/folders/bl/nm33gwcs1xg4szyjqn1k3plm0000gn/T/ipykernel_91081/1915837814.py:8: FutureWarning: In a future version of pandas all arguments of DataFrame.drop except for the argument 'labels' will be keyword-only.\n",
      "  X = np.array(df.drop(['class'],1)) # does not permanently remove 'class' but it is the y / predicted value so it should not be in X\n"
     ]
    }
   ],
   "source": [
    "accuracies = []\n",
    "for i in range(25):\n",
    "    df = pd.read_csv('breast-cancer-wisconsin.data')\n",
    "    df.replace('?', -99999, inplace=True)\n",
    "    # in classification it is important to eliminate useless features such as id because it has no real life impact on class but its effects on classification algorithms are immense\n",
    "    df.drop(['id'], 1, inplace=True)\n",
    "\n",
    "    X = np.array(df.drop(['class'],1)) # does not permanently remove 'class' but it is the y / predicted value so it should not be in X\n",
    "    y = np.array(df['class'])\n",
    "\n",
    "    X_train, X_test, y_train, y_test = train_test_split(X,y, test_size=0.2)\n",
    "\n",
    "    clf = neighbors.KNeighborsClassifier()\n",
    "    clf.fit(X_train, y_train)\n",
    "\n",
    "    accuracy = clf.score(X_test, y_test)\n",
    "    print(accuracy)\n",
    "    accuracies.append(accuracy)\n",
    "    # NOT REMOVING 'id' FEATURE RESULTS IN ACCURACY OF 0.57\n",
    "print('Average accuracy', sum(accuracies)/len(accuracies))"
   ]
  },
  {
   "cell_type": "code",
   "execution_count": 48,
   "metadata": {},
   "outputs": [
    {
     "name": "stdout",
     "output_type": "stream",
     "text": [
      "[2 2]\n"
     ]
    }
   ],
   "source": [
    "# testing out the classifier with made up data\n",
    "example_measures = np.array([[4,2,1,1,1,2,3,2,1], [4,2,1,2,2,2,3,2,1]])\n",
    "example_measures = example_measures.reshape(len(example_measures),-1) # 1st param = number of samples\n",
    "\n",
    "\n",
    "prediction = clf.predict(example_measures)\n",
    "print(prediction)"
   ]
  },
  {
   "cell_type": "code",
   "execution_count": null,
   "metadata": {},
   "outputs": [],
   "source": []
  }
 ],
 "metadata": {
  "kernelspec": {
   "display_name": "base",
   "language": "python",
   "name": "python3"
  },
  "language_info": {
   "codemirror_mode": {
    "name": "ipython",
    "version": 3
   },
   "file_extension": ".py",
   "mimetype": "text/x-python",
   "name": "python",
   "nbconvert_exporter": "python",
   "pygments_lexer": "ipython3",
   "version": "3.10.9"
  },
  "orig_nbformat": 4,
  "vscode": {
   "interpreter": {
    "hash": "1b90d9c1bd2daac4c8b1854437fad283dcd369f65c62fc6d014873e2646cc9dd"
   }
  }
 },
 "nbformat": 4,
 "nbformat_minor": 2
}
