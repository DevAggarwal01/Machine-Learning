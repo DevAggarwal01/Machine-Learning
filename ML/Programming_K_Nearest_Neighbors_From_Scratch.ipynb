{
 "cells": [
  {
   "cell_type": "code",
   "execution_count": 16,
   "metadata": {},
   "outputs": [],
   "source": [
    "import numpy as np\n",
    "from math import sqrt\n",
    "import matplotlib.pyplot as plt\n",
    "import warnings\n",
    "from matplotlib import style\n",
    "from collections import Counter\n",
    "import pandas as pd\n",
    "import random\n",
    "style.use('fivethirtyeight') # a type of styling for matplotlib\n"
   ]
  },
  {
   "cell_type": "code",
   "execution_count": 61,
   "metadata": {},
   "outputs": [
    {
     "name": "stdout",
     "output_type": "stream",
     "text": [
      "r\n",
      "1.0\n"
     ]
    }
   ],
   "source": [
    "dataset = {'k':[[1,2],[2,3],[3,1]], 'r': [[6,5],[7,7],[8,6]]}\n",
    "\n",
    "new_features = [5,7] # should be classified as type 'r'\n",
    "\n",
    "def k_nearest_neighbors(data, predict, k=3):\n",
    "    if len(data) >= k:\n",
    "        warnings.warn('K is set to a value less than total voting groups!')\n",
    "    \n",
    "    distances = []\n",
    "    for group in data:\n",
    "        for features in data[group]:\n",
    "            euclidean_distance = np.linalg.norm(np.array(features)-np.array(predict))\n",
    "            distances.append([euclidean_distance, group])\n",
    "    \n",
    "    votes = [i[1] for i in sorted(distances)[:k]]\n",
    "    vote_result = Counter(votes).most_common(1)[0][0]\n",
    "    confidence = Counter(votes).most_common(1)[0][1] / k\n",
    "\n",
    "    return vote_result, confidence\n",
    "\n",
    "result, conf = k_nearest_neighbors(dataset, new_features,k=3)\n",
    "print(result)\n",
    "print(conf)"
   ]
  },
  {
   "cell_type": "code",
   "execution_count": 53,
   "metadata": {},
   "outputs": [
    {
     "data": {
      "image/png": "[encoded data removed]",
      "text/plain": [
       "<Figure size 640x480 with 1 Axes>"
      ]
     },
     "metadata": {},
     "output_type": "display_data"
    }
   ],
   "source": [
    "[[plt.scatter(ii[0], ii[1], s=100, color=i) for ii in dataset[i]] for i in dataset] # has inner foreloop, but is a one liner\n",
    "plt.scatter(new_features[0], new_features[1], color='orange')\n",
    "plt.show()"
   ]
  },
  {
   "cell_type": "code",
   "execution_count": 65,
   "metadata": {},
   "outputs": [
    {
     "name": "stderr",
     "output_type": "stream",
     "text": [
      "/var/folders/bl/nm33gwcs1xg4szyjqn1k3plm0000gn/T/ipykernel_95816/3162063263.py:6: FutureWarning: In a future version of pandas all arguments of DataFrame.drop except for the argument 'labels' will be keyword-only.\n",
      "  df.drop(['id'], 1, inplace=True)\n"
     ]
    },
    {
     "name": "stdout",
     "output_type": "stream",
     "text": [
      "0.6\n",
      "1.0\n",
      "0.8\n",
      "0.8\n",
      "1.0\n",
      "0.6\n",
      "Accuracy 0.9568345323741008\n",
      "Confidence 0.8\n",
      "0.8\n"
     ]
    },
    {
     "name": "stderr",
     "output_type": "stream",
     "text": [
      "/var/folders/bl/nm33gwcs1xg4szyjqn1k3plm0000gn/T/ipykernel_95816/3162063263.py:6: FutureWarning: In a future version of pandas all arguments of DataFrame.drop except for the argument 'labels' will be keyword-only.\n",
      "  df.drop(['id'], 1, inplace=True)\n"
     ]
    },
    {
     "name": "stdout",
     "output_type": "stream",
     "text": [
      "1.0\n",
      "0.8\n",
      "Accuracy 0.9784172661870504\n",
      "Confidence 0.8\n"
     ]
    },
    {
     "name": "stderr",
     "output_type": "stream",
     "text": [
      "/var/folders/bl/nm33gwcs1xg4szyjqn1k3plm0000gn/T/ipykernel_95816/3162063263.py:6: FutureWarning: In a future version of pandas all arguments of DataFrame.drop except for the argument 'labels' will be keyword-only.\n",
      "  df.drop(['id'], 1, inplace=True)\n"
     ]
    },
    {
     "name": "stdout",
     "output_type": "stream",
     "text": [
      "1.0\n",
      "0.8\n",
      "0.8\n",
      "1.0\n",
      "Accuracy 0.9712230215827338\n",
      "Confidence 0.6\n",
      "0.8\n"
     ]
    },
    {
     "name": "stderr",
     "output_type": "stream",
     "text": [
      "/var/folders/bl/nm33gwcs1xg4szyjqn1k3plm0000gn/T/ipykernel_95816/3162063263.py:6: FutureWarning: In a future version of pandas all arguments of DataFrame.drop except for the argument 'labels' will be keyword-only.\n",
      "  df.drop(['id'], 1, inplace=True)\n"
     ]
    },
    {
     "name": "stdout",
     "output_type": "stream",
     "text": [
      "0.6\n",
      "1.0\n",
      "0.6\n",
      "1.0\n",
      "0.6\n",
      "Accuracy 0.9568345323741008\n",
      "Confidence 1.0\n",
      "0.6\n"
     ]
    },
    {
     "name": "stderr",
     "output_type": "stream",
     "text": [
      "/var/folders/bl/nm33gwcs1xg4szyjqn1k3plm0000gn/T/ipykernel_95816/3162063263.py:6: FutureWarning: In a future version of pandas all arguments of DataFrame.drop except for the argument 'labels' will be keyword-only.\n",
      "  df.drop(['id'], 1, inplace=True)\n"
     ]
    },
    {
     "name": "stdout",
     "output_type": "stream",
     "text": [
      "0.8\n",
      "0.6\n",
      "0.8\n",
      "Accuracy 0.9712230215827338\n",
      "Confidence 1.0\n"
     ]
    },
    {
     "name": "stderr",
     "output_type": "stream",
     "text": [
      "/var/folders/bl/nm33gwcs1xg4szyjqn1k3plm0000gn/T/ipykernel_95816/3162063263.py:6: FutureWarning: In a future version of pandas all arguments of DataFrame.drop except for the argument 'labels' will be keyword-only.\n",
      "  df.drop(['id'], 1, inplace=True)\n"
     ]
    },
    {
     "name": "stdout",
     "output_type": "stream",
     "text": [
      "0.6\n",
      "Accuracy 0.9928057553956835\n",
      "Confidence 0.8\n",
      "0.8\n"
     ]
    },
    {
     "name": "stderr",
     "output_type": "stream",
     "text": [
      "/var/folders/bl/nm33gwcs1xg4szyjqn1k3plm0000gn/T/ipykernel_95816/3162063263.py:6: FutureWarning: In a future version of pandas all arguments of DataFrame.drop except for the argument 'labels' will be keyword-only.\n",
      "  df.drop(['id'], 1, inplace=True)\n"
     ]
    },
    {
     "name": "stdout",
     "output_type": "stream",
     "text": [
      "0.8\n",
      "1.0\n",
      "0.6\n",
      "1.0\n",
      "Accuracy 0.9640287769784173\n",
      "Confidence 0.8\n"
     ]
    },
    {
     "name": "stderr",
     "output_type": "stream",
     "text": [
      "/var/folders/bl/nm33gwcs1xg4szyjqn1k3plm0000gn/T/ipykernel_95816/3162063263.py:6: FutureWarning: In a future version of pandas all arguments of DataFrame.drop except for the argument 'labels' will be keyword-only.\n",
      "  df.drop(['id'], 1, inplace=True)\n"
     ]
    },
    {
     "name": "stdout",
     "output_type": "stream",
     "text": [
      "0.6\n",
      "0.8\n",
      "0.8\n",
      "0.6\n",
      "Accuracy 0.9712230215827338\n",
      "Confidence 1.0\n",
      "0.6\n"
     ]
    },
    {
     "name": "stderr",
     "output_type": "stream",
     "text": [
      "/var/folders/bl/nm33gwcs1xg4szyjqn1k3plm0000gn/T/ipykernel_95816/3162063263.py:6: FutureWarning: In a future version of pandas all arguments of DataFrame.drop except for the argument 'labels' will be keyword-only.\n",
      "  df.drop(['id'], 1, inplace=True)\n"
     ]
    },
    {
     "name": "stdout",
     "output_type": "stream",
     "text": [
      "0.8\n",
      "0.6\n",
      "0.6\n",
      "0.6\n",
      "1.0\n",
      "Accuracy 0.9568345323741008\n",
      "Confidence 1.0\n"
     ]
    },
    {
     "name": "stderr",
     "output_type": "stream",
     "text": [
      "/var/folders/bl/nm33gwcs1xg4szyjqn1k3plm0000gn/T/ipykernel_95816/3162063263.py:6: FutureWarning: In a future version of pandas all arguments of DataFrame.drop except for the argument 'labels' will be keyword-only.\n",
      "  df.drop(['id'], 1, inplace=True)\n"
     ]
    },
    {
     "name": "stdout",
     "output_type": "stream",
     "text": [
      "0.6\n",
      "0.6\n",
      "1.0\n",
      "0.6\n",
      "Accuracy 0.9712230215827338\n",
      "Confidence 1.0\n",
      "0.8\n"
     ]
    },
    {
     "name": "stderr",
     "output_type": "stream",
     "text": [
      "/var/folders/bl/nm33gwcs1xg4szyjqn1k3plm0000gn/T/ipykernel_95816/3162063263.py:6: FutureWarning: In a future version of pandas all arguments of DataFrame.drop except for the argument 'labels' will be keyword-only.\n",
      "  df.drop(['id'], 1, inplace=True)\n"
     ]
    },
    {
     "name": "stdout",
     "output_type": "stream",
     "text": [
      "0.6\n",
      "Accuracy 0.9856115107913669\n",
      "Confidence 1.0\n",
      "0.6\n"
     ]
    },
    {
     "name": "stderr",
     "output_type": "stream",
     "text": [
      "/var/folders/bl/nm33gwcs1xg4szyjqn1k3plm0000gn/T/ipykernel_95816/3162063263.py:6: FutureWarning: In a future version of pandas all arguments of DataFrame.drop except for the argument 'labels' will be keyword-only.\n",
      "  df.drop(['id'], 1, inplace=True)\n"
     ]
    },
    {
     "name": "stdout",
     "output_type": "stream",
     "text": [
      "0.8\n",
      "0.8\n",
      "0.6\n",
      "0.8\n",
      "Accuracy 0.9640287769784173\n",
      "Confidence 1.0\n",
      "1.0\n"
     ]
    },
    {
     "name": "stderr",
     "output_type": "stream",
     "text": [
      "/var/folders/bl/nm33gwcs1xg4szyjqn1k3plm0000gn/T/ipykernel_95816/3162063263.py:6: FutureWarning: In a future version of pandas all arguments of DataFrame.drop except for the argument 'labels' will be keyword-only.\n",
      "  df.drop(['id'], 1, inplace=True)\n"
     ]
    },
    {
     "name": "stdout",
     "output_type": "stream",
     "text": [
      "0.8\n",
      "1.0\n",
      "0.6\n",
      "1.0\n",
      "1.0\n",
      "Accuracy 0.9568345323741008\n",
      "Confidence 1.0\n"
     ]
    },
    {
     "name": "stderr",
     "output_type": "stream",
     "text": [
      "/var/folders/bl/nm33gwcs1xg4szyjqn1k3plm0000gn/T/ipykernel_95816/3162063263.py:6: FutureWarning: In a future version of pandas all arguments of DataFrame.drop except for the argument 'labels' will be keyword-only.\n",
      "  df.drop(['id'], 1, inplace=True)\n"
     ]
    },
    {
     "name": "stdout",
     "output_type": "stream",
     "text": [
      "0.6\n",
      "0.6\n",
      "0.6\n",
      "Accuracy 0.9784172661870504\n",
      "Confidence 1.0\n",
      "0.6\n"
     ]
    },
    {
     "name": "stderr",
     "output_type": "stream",
     "text": [
      "/var/folders/bl/nm33gwcs1xg4szyjqn1k3plm0000gn/T/ipykernel_95816/3162063263.py:6: FutureWarning: In a future version of pandas all arguments of DataFrame.drop except for the argument 'labels' will be keyword-only.\n",
      "  df.drop(['id'], 1, inplace=True)\n"
     ]
    },
    {
     "name": "stdout",
     "output_type": "stream",
     "text": [
      "0.8\n",
      "0.6\n",
      "0.8\n",
      "Accuracy 0.9712230215827338\n",
      "Confidence 1.0\n",
      "0.6\n",
      "0.8\n",
      "1.0\n"
     ]
    },
    {
     "name": "stderr",
     "output_type": "stream",
     "text": [
      "/var/folders/bl/nm33gwcs1xg4szyjqn1k3plm0000gn/T/ipykernel_95816/3162063263.py:6: FutureWarning: In a future version of pandas all arguments of DataFrame.drop except for the argument 'labels' will be keyword-only.\n",
      "  df.drop(['id'], 1, inplace=True)\n"
     ]
    },
    {
     "name": "stdout",
     "output_type": "stream",
     "text": [
      "0.8\n",
      "0.6\n",
      "0.6\n",
      "Accuracy 0.9568345323741008\n",
      "Confidence 1.0\n"
     ]
    },
    {
     "name": "stderr",
     "output_type": "stream",
     "text": [
      "/var/folders/bl/nm33gwcs1xg4szyjqn1k3plm0000gn/T/ipykernel_95816/3162063263.py:6: FutureWarning: In a future version of pandas all arguments of DataFrame.drop except for the argument 'labels' will be keyword-only.\n",
      "  df.drop(['id'], 1, inplace=True)\n"
     ]
    },
    {
     "name": "stdout",
     "output_type": "stream",
     "text": [
      "0.8\n",
      "1.0\n",
      "0.8\n",
      "1.0\n",
      "0.6\n",
      "1.0\n",
      "Accuracy 0.9568345323741008\n",
      "Confidence 1.0\n",
      "0.8\n",
      "1.0\n"
     ]
    },
    {
     "name": "stderr",
     "output_type": "stream",
     "text": [
      "/var/folders/bl/nm33gwcs1xg4szyjqn1k3plm0000gn/T/ipykernel_95816/3162063263.py:6: FutureWarning: In a future version of pandas all arguments of DataFrame.drop except for the argument 'labels' will be keyword-only.\n",
      "  df.drop(['id'], 1, inplace=True)\n"
     ]
    },
    {
     "name": "stdout",
     "output_type": "stream",
     "text": [
      "1.0\n",
      "0.6\n",
      "0.8\n",
      "1.0\n",
      "0.6\n",
      "Accuracy 0.9496402877697842\n",
      "Confidence 1.0\n",
      "1.0\n"
     ]
    },
    {
     "name": "stderr",
     "output_type": "stream",
     "text": [
      "/var/folders/bl/nm33gwcs1xg4szyjqn1k3plm0000gn/T/ipykernel_95816/3162063263.py:6: FutureWarning: In a future version of pandas all arguments of DataFrame.drop except for the argument 'labels' will be keyword-only.\n",
      "  df.drop(['id'], 1, inplace=True)\n"
     ]
    },
    {
     "name": "stdout",
     "output_type": "stream",
     "text": [
      "Accuracy 0.9928057553956835\n",
      "Confidence 1.0\n",
      "0.8\n"
     ]
    },
    {
     "name": "stderr",
     "output_type": "stream",
     "text": [
      "/var/folders/bl/nm33gwcs1xg4szyjqn1k3plm0000gn/T/ipykernel_95816/3162063263.py:6: FutureWarning: In a future version of pandas all arguments of DataFrame.drop except for the argument 'labels' will be keyword-only.\n",
      "  df.drop(['id'], 1, inplace=True)\n"
     ]
    },
    {
     "name": "stdout",
     "output_type": "stream",
     "text": [
      "0.6\n",
      "1.0\n",
      "0.6\n",
      "1.0\n",
      "0.6\n",
      "Accuracy 0.9568345323741008\n",
      "Confidence 1.0\n"
     ]
    },
    {
     "name": "stderr",
     "output_type": "stream",
     "text": [
      "/var/folders/bl/nm33gwcs1xg4szyjqn1k3plm0000gn/T/ipykernel_95816/3162063263.py:6: FutureWarning: In a future version of pandas all arguments of DataFrame.drop except for the argument 'labels' will be keyword-only.\n",
      "  df.drop(['id'], 1, inplace=True)\n"
     ]
    },
    {
     "name": "stdout",
     "output_type": "stream",
     "text": [
      "0.6\n",
      "1.0\n",
      "0.8\n",
      "0.6\n",
      "Accuracy 0.9712230215827338\n",
      "Confidence 1.0\n",
      "0.6\n"
     ]
    },
    {
     "name": "stderr",
     "output_type": "stream",
     "text": [
      "/var/folders/bl/nm33gwcs1xg4szyjqn1k3plm0000gn/T/ipykernel_95816/3162063263.py:6: FutureWarning: In a future version of pandas all arguments of DataFrame.drop except for the argument 'labels' will be keyword-only.\n",
      "  df.drop(['id'], 1, inplace=True)\n"
     ]
    },
    {
     "name": "stdout",
     "output_type": "stream",
     "text": [
      "0.6\n",
      "1.0\n",
      "0.6\n",
      "1.0\n",
      "1.0\n",
      "Accuracy 0.9568345323741008\n",
      "Confidence 0.6\n",
      "0.6\n"
     ]
    },
    {
     "name": "stderr",
     "output_type": "stream",
     "text": [
      "/var/folders/bl/nm33gwcs1xg4szyjqn1k3plm0000gn/T/ipykernel_95816/3162063263.py:6: FutureWarning: In a future version of pandas all arguments of DataFrame.drop except for the argument 'labels' will be keyword-only.\n",
      "  df.drop(['id'], 1, inplace=True)\n"
     ]
    },
    {
     "name": "stdout",
     "output_type": "stream",
     "text": [
      "1.0\n",
      "1.0\n",
      "0.8\n",
      "1.0\n",
      "0.6\n",
      "1.0\n",
      "Accuracy 0.9496402877697842\n",
      "Confidence 1.0\n",
      "0.8\n"
     ]
    },
    {
     "name": "stderr",
     "output_type": "stream",
     "text": [
      "/var/folders/bl/nm33gwcs1xg4szyjqn1k3plm0000gn/T/ipykernel_95816/3162063263.py:6: FutureWarning: In a future version of pandas all arguments of DataFrame.drop except for the argument 'labels' will be keyword-only.\n",
      "  df.drop(['id'], 1, inplace=True)\n"
     ]
    },
    {
     "name": "stdout",
     "output_type": "stream",
     "text": [
      "0.8\n",
      "0.6\n",
      "0.6\n",
      "Accuracy 0.9712230215827338\n",
      "Confidence 0.8\n"
     ]
    },
    {
     "name": "stderr",
     "output_type": "stream",
     "text": [
      "/var/folders/bl/nm33gwcs1xg4szyjqn1k3plm0000gn/T/ipykernel_95816/3162063263.py:6: FutureWarning: In a future version of pandas all arguments of DataFrame.drop except for the argument 'labels' will be keyword-only.\n",
      "  df.drop(['id'], 1, inplace=True)\n"
     ]
    },
    {
     "name": "stdout",
     "output_type": "stream",
     "text": [
      "1.0\n",
      "1.0\n",
      "0.8\n",
      "0.8\n",
      "Accuracy 0.9712230215827338\n",
      "Confidence 1.0\n",
      "Average accuracy 0.9671942446043166\n"
     ]
    }
   ],
   "source": [
    "# testing on real dataset\n",
    "accuracies = []\n",
    "for i in range(25):\n",
    "    df = pd.read_csv(\"breast-cancer-wisconsin.data\")\n",
    "    df.replace('?', -99999, inplace=True)\n",
    "    df.drop(['id'], 1, inplace=True)\n",
    "    full_data = df.astype(float).values.tolist()\n",
    "    # print(full_data[:5])\n",
    "    random.shuffle(full_data)\n",
    "    # print(20*'#')\n",
    "    # print(full_data[:5])\n",
    "\n",
    "    # doing cross validation by self\n",
    "    test_size = 0.2\n",
    "    train_set = {2: [], 4:[]}\n",
    "    test_set = {2:[], 4:[]}\n",
    "    train_data = full_data[:-int(test_size*len(full_data))]\n",
    "    test_data = full_data[-int(test_size*len(full_data)):]\n",
    "\n",
    "    for i in train_data:\n",
    "        train_set[i[-1]].append(i[:-1])\n",
    "\n",
    "    for i in test_data:\n",
    "        test_set[i[-1]].append(i[:-1])\n",
    "\n",
    "    # run the algorithm, find accuracy\n",
    "    correct = 0\n",
    "    total = 0\n",
    "\n",
    "    for group in test_set:\n",
    "        for data in test_set[group]:\n",
    "            vote, confidence = k_nearest_neighbors(train_set, data, k=5)\n",
    "            if group == vote:\n",
    "                correct += 1\n",
    "            else:\n",
    "                print(confidence) # prints confidence of wrongly classified test data\n",
    "            total += 1\n",
    "\n",
    "    print('Accuracy', correct/total)\n",
    "    print('Confidence', confidence)\n",
    "    accuracies.append(correct/total)\n",
    "\n",
    "print('Average accuracy', sum(accuracies)/len(accuracies))\n",
    "\n",
    "# Very similar to accuracy of ski-kit learn's k nearest neighbors!\n",
    "# But slower in speed :()"
   ]
  },
  {
   "cell_type": "code",
   "execution_count": null,
   "metadata": {},
   "outputs": [],
   "source": []
  }
 ],
 "metadata": {
  "kernelspec": {
   "display_name": "base",
   "language": "python",
   "name": "python3"
  },
  "language_info": {
   "codemirror_mode": {
    "name": "ipython",
    "version": 3
   },
   "file_extension": ".py",
   "mimetype": "text/x-python",
   "name": "python",
   "nbconvert_exporter": "python",
   "pygments_lexer": "ipython3",
   "version": "3.10.9"
  },
  "orig_nbformat": 4,
  "vscode": {
   "interpreter": {
    "hash": "1b90d9c1bd2daac4c8b1854437fad283dcd369f65c62fc6d014873e2646cc9dd"
   }
  }
 },
 "nbformat": 4,
 "nbformat_minor": 2
}
