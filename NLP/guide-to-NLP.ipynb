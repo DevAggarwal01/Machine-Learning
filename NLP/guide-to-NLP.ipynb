{
 "cells": [
  {
   "cell_type": "code",
   "execution_count": 27,
   "metadata": {},
   "outputs": [
    {
     "name": "stderr",
     "output_type": "stream",
     "text": [
      "[nltk_data] Downloading package punkt to\n",
      "[nltk_data]     /Users/devaggarwal/nltk_data...\n",
      "[nltk_data]   Package punkt is already up-to-date!\n"
     ]
    }
   ],
   "source": [
    "# https://www.machinelearningplus.com/nlp/natural-language-processing-guide/\n",
    "import nltk\n",
    "nltk.download('punkt')\n",
    "import spacy\n",
    "nlp = spacy.load('en_core_web_sm')\n",
    "import gensim"
   ]
  },
  {
   "cell_type": "code",
   "execution_count": 28,
   "metadata": {},
   "outputs": [],
   "source": [
    "raw_text=\"Hey! What's up. It's been a while, hasn't it?\"\n",
    "text_doc = nlp(raw_text)"
   ]
  },
  {
   "cell_type": "code",
   "execution_count": 29,
   "metadata": {},
   "outputs": [
    {
     "name": "stdout",
     "output_type": "stream",
     "text": [
      "Hey\n",
      "!\n",
      "What\n",
      "'s\n",
      "up\n",
      ".\n",
      "It\n",
      "'s\n",
      "been\n",
      "a\n",
      "while\n",
      ",\n",
      "has\n",
      "n't\n",
      "it\n",
      "?\n"
     ]
    }
   ],
   "source": [
    "for token in text_doc:\n",
    "    print(token.text)"
   ]
  },
  {
   "cell_type": "code",
   "execution_count": 33,
   "metadata": {},
   "outputs": [
    {
     "name": "stdout",
     "output_type": "stream",
     "text": [
      "Text         Alpha Space Stop Punct\n",
      "-----------------------------------\n",
      "Hey        : True False False False\n",
      "!          : False False False True\n",
      "What       : True False True False\n",
      "'s         : False False True False\n",
      "up         : True False True False\n",
      ".          : False False False True\n",
      "It         : True False True False\n",
      "'s         : False False True False\n",
      "been       : True False True False\n",
      "a          : True False True False\n",
      "while      : True False True False\n",
      ",          : False False False True\n",
      "has        : True False True False\n",
      "n't        : False False True False\n",
      "it         : True False True False\n",
      "?          : False False False True\n"
     ]
    }
   ],
   "source": [
    "# Preprocessing method #1 - Tokenization\n",
    "# IMP - interesting thing I learned about is STOP words\n",
    "print(\"Text\".ljust(10), ' ', \"Alpha\", \"Space\", \"Stop\", \"Punct\")\n",
    "print('-'*35)\n",
    "for token in text_doc:\n",
    "    print(token.text.ljust(10), ':',token.is_alpha, token.is_space, token.is_stop, token.is_punct)"
   ]
  },
  {
   "cell_type": "code",
   "execution_count": 4,
   "metadata": {},
   "outputs": [
    {
     "name": "stdout",
     "output_type": "stream",
     "text": [
      "Amazon\n",
      "Alexa\n",
      ",\n",
      "also\n",
      "known\n",
      "simply\n",
      "as\n",
      "Alexa\n",
      ",\n",
      "is\n",
      "a\n",
      "virtual\n",
      "assistant\n",
      "AI\n",
      "technology\n",
      "developed\n",
      "by\n",
      "Amazon\n",
      ",\n",
      "first\n",
      "used\n",
      "in\n",
      "the\n",
      "Amazon\n",
      "Echo\n",
      "smart\n",
      "speakers\n",
      "developed\n",
      "by\n",
      "Amazon\n",
      "Lab126\n",
      ".\n",
      "It\n",
      "is\n",
      "capable\n",
      "of\n",
      "voice\n",
      "interaction\n",
      ",\n",
      "music\n",
      "playback\n",
      ",\n",
      "making\n",
      "to\n",
      "-\n",
      "do\n",
      "lists\n",
      ",\n",
      "setting\n",
      "alarms\n",
      ",\n",
      "streaming\n",
      "podcasts\n",
      ",\n",
      "playing\n",
      "audiobooks\n",
      ",\n",
      "and\n",
      "providing\n",
      "weather\n",
      ",\n",
      "traffic\n",
      ",\n",
      "sports\n",
      ",\n",
      "and\n",
      "other\n",
      "real\n",
      "-\n",
      "time\n",
      "information\n",
      ",\n",
      "such\n",
      "as\n",
      "news\n",
      ".\n",
      "Alexa\n",
      "can\n",
      "also\n",
      "control\n",
      "several\n",
      "smart\n",
      "devices\n",
      "using\n",
      "itself\n",
      "as\n",
      "a\n",
      "home\n",
      "automation\n",
      "system\n",
      ".\n",
      "Users\n",
      "are\n",
      "able\n",
      "to\n",
      "extend\n",
      "the\n",
      "Alexa\n",
      "capabilities\n",
      "by\n",
      "installing\n",
      "\"\n",
      "skills\n",
      "\"\n",
      "additional\n",
      "functionality\n",
      "developed\n",
      "by\n",
      "third\n",
      "-\n",
      "party\n",
      "vendors\n",
      ",\n",
      "in\n",
      "other\n",
      "settings\n",
      "more\n",
      "commonly\n",
      "called\n",
      "apps\n",
      "such\n",
      "as\n",
      "weather\n",
      "programs\n",
      "and\n",
      "audio\n",
      "features\n",
      ".\n",
      "Most\n",
      "devices\n",
      "with\n",
      "Alexa\n",
      "allow\n",
      "users\n",
      "to\n",
      "activate\n",
      "the\n",
      "device\n",
      "using\n",
      "a\n",
      "wake\n",
      "-\n",
      "word\n",
      "(\n",
      "such\n",
      "as\n",
      "Alexa\n",
      "or\n",
      "Amazon\n",
      ")\n",
      ";\n",
      "other\n",
      "devices\n",
      "(\n",
      "such\n",
      "as\n",
      "the\n",
      "Amazon\n",
      "mobile\n",
      "app\n",
      "on\n",
      "iOS\n",
      "or\n",
      "Android\n",
      "and\n",
      "Amazon\n",
      "Dash\n",
      "Wand\n",
      ")\n",
      "require\n",
      "the\n",
      "user\n",
      "to\n",
      "push\n",
      "a\n",
      "button\n",
      "to\n",
      "activate\n",
      "Alexa\n",
      "listening\n",
      "mode\n",
      ",\n",
      "although\n",
      ",\n",
      "some\n",
      "phones\n",
      "also\n",
      "allow\n",
      "a\n",
      "user\n",
      "to\n",
      "say\n",
      "a\n",
      "command\n",
      ",\n",
      "such\n",
      "as\n",
      "\"\n",
      "Alexa\n",
      "\"\n",
      "or\n",
      "\"\n",
      "Alexa\n",
      "wake\n",
      "\"\n",
      ".\n",
      "Currently\n",
      ",\n",
      "interaction\n",
      "and\n",
      "communication\n",
      "with\n",
      "Alexa\n",
      "are\n",
      "available\n",
      "only\n",
      "in\n",
      "English\n",
      ",\n",
      "German\n",
      ",\n",
      "French\n",
      ",\n",
      "Italian\n",
      ",\n",
      "Spanish\n",
      ",\n",
      "Portuguese\n",
      ",\n",
      "Japanese\n",
      ",\n",
      "and\n",
      "Hindi\n",
      ".\n",
      "In\n",
      "Canada\n",
      ",\n",
      "Alexa\n",
      "is\n",
      "available\n",
      "in\n",
      "English\n",
      "and\n",
      "French\n",
      "with\n",
      "the\n",
      "Quebec\n",
      "accent).[6][7]As\n",
      "of\n",
      "November\n",
      "2018\n",
      ",\n",
      "Amazon\n",
      "had\n",
      "more\n",
      "than\n",
      "10,000\n",
      "employees\n",
      "working\n",
      "on\n",
      "Alexa\n",
      "and\n",
      "related\n",
      "products.[8\n",
      "]\n",
      "In\n",
      "January\n",
      "2019\n",
      ",\n",
      "Amazons\n",
      "devices\n",
      "team\n",
      "announced\n",
      "that\n",
      "they\n",
      "had\n",
      "sold\n",
      "over\n",
      "100\n",
      "million\n",
      "Alexa\n",
      "-\n",
      "enabled\n",
      "devices.[9]In\n",
      "September\n",
      "2019\n",
      ",\n",
      "Amazon\n",
      "launched\n",
      "many\n",
      "new\n",
      "devices\n",
      "achieving\n",
      "many\n",
      "records\n",
      "while\n",
      "competing\n",
      "with\n",
      "the\n",
      "worlds\n",
      "smart\n",
      "home\n",
      "industry\n",
      ".\n",
      "The\n",
      "new\n",
      "Echo\n",
      "Studio\n",
      "became\n",
      "the\n",
      "first\n",
      "smart\n",
      "speaker\n",
      "with\n",
      "360\n",
      "sound\n",
      "and\n",
      "Dolby\n",
      "sound\n",
      ".\n",
      "Other\n",
      "new\n",
      "devices\n",
      "included\n",
      "an\n",
      "Echo\n",
      "dot\n",
      "with\n",
      "a\n",
      "clock\n",
      "behind\n",
      "the\n",
      "fabric\n",
      ",\n",
      "a\n",
      "new\n",
      "third\n",
      "-\n",
      "generation\n",
      "Amazon\n",
      "Echo\n",
      ",\n",
      "Echo\n",
      "Show\n",
      "8\n",
      ",\n",
      "a\n",
      "plug\n",
      "-\n",
      "in\n",
      "Echo\n",
      "device\n",
      ",\n",
      "Echo\n",
      "Flex\n",
      ",\n",
      "Alexa\n",
      "built\n",
      "-\n",
      "in\n",
      "wireless\n",
      "earphones\n",
      ",\n",
      "Echo\n",
      "buds\n",
      ",\n",
      "Alexa\n",
      "built\n",
      "-\n",
      "in\n",
      "spectacles\n",
      ",\n",
      "Echo\n",
      "frames\n",
      ",\n",
      "an\n",
      "Alexa\n",
      "built\n",
      "-\n",
      "in\n",
      "Ring\n",
      ",\n",
      "and\n",
      "Echo\n",
      "Loop\n",
      ".\n",
      "Alexa\n",
      "can\n",
      "perform\n",
      "a\n",
      "number\n",
      "of\n",
      "preset\n",
      "functions\n",
      "out\n",
      "-\n",
      "of\n",
      "-\n",
      "the\n",
      "-\n",
      "box\n",
      "such\n",
      "as\n",
      "set\n",
      "timers\n",
      ",\n",
      "share\n",
      "the\n",
      "current\n",
      "weather\n",
      ",\n",
      "create\n",
      "lists\n",
      ",\n",
      "access\n",
      "Wikipedia\n",
      "articles\n",
      ",\n",
      "and\n",
      "many\n",
      "more\n",
      "things\n",
      ".\n",
      "Users\n",
      "say\n",
      "a\n",
      "designated\n",
      "\"\n",
      "wake\n",
      "word\n",
      "\"\n",
      "(\n",
      "the\n",
      "default\n",
      "is\n",
      "simply\n",
      "\"\n",
      "Alexa\n",
      "\"\n",
      ")\n",
      "to\n",
      "alert\n",
      "an\n",
      "Alexa\n",
      "-\n",
      "enabled\n",
      "device\n",
      "of\n",
      "an\n",
      "ensuing\n",
      "function\n",
      "command\n",
      ".\n",
      "Alexa\n",
      "listens\n",
      "for\n",
      "the\n",
      "command\n",
      "and\n",
      "performs\n",
      "the\n",
      "appropriate\n",
      "function\n",
      ",\n",
      "or\n",
      "skill\n",
      ",\n",
      "to\n",
      "answer\n",
      "a\n",
      "question\n",
      "or\n",
      "command\n",
      ".\n",
      "Alexas\n",
      "question\n",
      "answering\n",
      "ability\n",
      "is\n",
      "partly\n",
      "powered\n",
      "by\n",
      "the\n",
      "Wolfram\n",
      "Language\n",
      ".\n",
      "When\n",
      "questions\n",
      "are\n",
      "asked\n",
      ",\n",
      "Alexa\n",
      "converts\n",
      "sound\n",
      "waves\n",
      "into\n",
      "text\n",
      "which\n",
      "allows\n",
      "it\n",
      "to\n",
      "gather\n",
      "information\n",
      "from\n",
      "various\n",
      "sources\n",
      ".\n",
      "Behind\n",
      "the\n",
      "scenes\n",
      ",\n",
      "the\n",
      "data\n",
      "gathered\n",
      "is\n",
      "then\n",
      "parsed\n",
      "by\n",
      "Wolfram\n",
      "technology\n",
      "to\n",
      "generate\n",
      "suitable\n",
      "and\n",
      "accurate\n",
      "answers\n",
      ".\n",
      "Alexa\n",
      "-\n",
      "supported\n",
      "devices\n",
      "can\n",
      "stream\n",
      "music\n",
      "from\n",
      "the\n",
      "owners\n",
      "Amazon\n",
      "Music\n",
      "accounts\n",
      "and\n",
      "have\n",
      "built\n",
      "-\n",
      "in\n",
      "support\n",
      "for\n",
      "Pandora\n",
      "and\n",
      "Spotify\n",
      "accounts\n",
      ".\n",
      "Alexa\n",
      "can\n",
      "play\n",
      "music\n",
      "from\n",
      "streaming\n",
      "services\n",
      "such\n",
      "as\n",
      "Apple\n",
      "Music\n",
      "and\n",
      "Google\n",
      "Play\n",
      "Music\n",
      "from\n",
      "a\n",
      "phone\n",
      "or\n",
      "tablet\n",
      ".\n",
      "In\n",
      "addition\n",
      "to\n",
      "performing\n",
      "pre\n",
      "-\n",
      "set\n",
      "functions\n",
      ",\n",
      "Alexa\n",
      "can\n",
      "also\n",
      "perform\n",
      "additional\n",
      "functions\n",
      "through\n",
      "third\n",
      "-\n",
      "party\n",
      "skills\n",
      "that\n",
      "users\n",
      "can\n",
      "enable\n",
      ".\n",
      "Some\n",
      "of\n",
      "the\n",
      "most\n",
      "popular\n",
      "Alexa\n",
      "skills\n",
      "in\n",
      "2018\n",
      "included\n",
      "\"\n",
      "Question\n",
      "of\n",
      "the\n",
      "Day\n",
      "\"\n",
      "and\n",
      "\"\n",
      "National\n",
      "Geographic\n",
      "Geo\n",
      "Quiz\n",
      "\"\n",
      "for\n",
      "trivia\n",
      ";\n",
      "\"\n",
      "TuneIn\n",
      "Live\n",
      "\"\n",
      "to\n",
      "listen\n",
      "to\n",
      "live\n",
      "sporting\n",
      "events\n",
      "and\n",
      "news\n",
      "stations\n",
      ";\n",
      "\"\n",
      "Big\n",
      "Sky\n",
      "\"\n",
      "for\n",
      "hyper\n",
      "local\n",
      "weather\n",
      "updates\n",
      ";\n",
      "\"\n",
      "Sleep\n",
      "and\n",
      "Relaxation\n",
      "Sounds\n",
      "\"\n",
      "for\n",
      "listening\n",
      "to\n",
      "calming\n",
      "sounds\n",
      ";\n",
      "\"\n",
      "Sesame\n",
      "Street\n",
      "\"\n",
      "for\n",
      "children\n",
      "entertainment\n",
      ";\n",
      "and\n",
      "\"\n",
      "Fitbit\n",
      "\"\n",
      "for\n",
      "Fitbit\n",
      "users\n",
      "who\n",
      "want\n",
      "to\n",
      "check\n",
      "in\n",
      "on\n",
      "their\n",
      "health\n",
      "stats\n",
      ".\n",
      "In\n",
      "2019\n",
      ",\n",
      "Apple\n",
      ",\n",
      "Google\n",
      ",\n",
      "Amazon\n",
      ",\n",
      "and\n",
      "Zigbee\n",
      "Alliance\n",
      "announced\n",
      "a\n",
      "partnership\n",
      "to\n",
      "make\n",
      "smart\n",
      "home\n",
      "products\n",
      "work\n",
      "together\n",
      ".\n",
      "# of original tokens: 708\n"
     ]
    }
   ],
   "source": [
    "raw_text= 'Amazon Alexa, also known simply as Alexa, is a virtual assistant AI technology developed by Amazon, first used in the Amazon Echo smart speakers developed by Amazon Lab126. It is capable of voice interaction, music playback, making to-do lists, setting alarms, streaming podcasts, playing audiobooks, and providing weather, traffic, sports, and other real-time information, such as news. Alexa can also control several smart devices using itself as a home automation system. Users are able to extend the Alexa capabilities by installing \"skills\" additional functionality developed by third-party vendors, in other settings more commonly called apps such as weather programs and audio features.Most devices with Alexa allow users to activate the device using a wake-word (such as Alexa or Amazon); other devices (such as the Amazon mobile app on iOS or Android and Amazon Dash Wand) require the user to push a button to activate Alexa listening mode, although, some phones also allow a user to say a command, such as \"Alexa\" or \"Alexa wake\". Currently, interaction and communication with Alexa are available only in English, German, French, Italian, Spanish, Portuguese, Japanese, and Hindi. In Canada, Alexa is available in English and French with the Quebec accent).[6][7]As of November 2018, Amazon had more than 10,000 employees working on Alexa and related products.[8] In January 2019, Amazons devices team announced that they had sold over 100 million Alexa-enabled devices.[9]In September 2019, Amazon launched many new devices achieving many records while competing with the worlds smart home industry. The new Echo Studio became the first smart speaker with 360 sound and Dolby sound. Other new devices included an Echo dot with a clock behind the fabric, a new third-generation Amazon Echo, Echo Show 8, a plug-in Echo device, Echo Flex, Alexa built-in wireless earphones, Echo buds, Alexa built-in spectacles, Echo frames, an Alexa built-in Ring, and Echo Loop.Alexa can perform a number of preset functions out-of-the-box such as set timers, share the current weather, create lists, access Wikipedia articles, and many more things. Users say a designated \"wake word\" (the default is simply \"Alexa\") to alert an Alexa-enabled device of an ensuing function command. Alexa listens for the command and performs the appropriate function, or skill, to answer a question or command. Alexas question answering ability is partly powered by the Wolfram Language. When questions are asked, Alexa converts sound waves into text which allows it to gather information from various sources. Behind the scenes, the data gathered is then parsed by Wolfram technology to generate suitable and accurate answers. Alexa-supported devices can stream music from the owners Amazon Music accounts and have built-in support for Pandora and Spotify accounts. Alexa can play music from streaming services such as Apple Music and Google Play Music from a phone or tablet.In addition to performing pre-set functions, Alexa can also perform additional functions through third-party skills that users can enable. Some of the most popular Alexa skills in 2018 included \"Question of the Day\" and \"National Geographic Geo Quiz\" for trivia; \"TuneIn Live\" to listen to live sporting events and news stations; \"Big Sky\" for hyper local weather updates; \"Sleep and Relaxation Sounds\" for listening to calming sounds; \"Sesame Street\" for children entertainment; and \"Fitbit\" for Fitbit users who want to check in on their health stats. In 2019, Apple, Google, Amazon, and Zigbee Alliance announced a partnership to make smart home products work together.'\n",
    "text_doc = nlp(raw_text)\n",
    "token_count=0\n",
    "for token in text_doc:\n",
    "    print(token.text)\n",
    "    token_count+=1\n",
    "\n",
    "print('# of original tokens:', token_count)"
   ]
  },
  {
   "cell_type": "code",
   "execution_count": 5,
   "metadata": {},
   "outputs": [
    {
     "name": "stdout",
     "output_type": "stream",
     "text": [
      "your\n",
      "was\n",
      "formerly\n",
      "too\n",
      "such\n",
      "also\n",
      "again\n"
     ]
    }
   ],
   "source": [
    "# Accessing the built-in stop words in Spacy\n",
    "stopwords = spacy.lang.en.stop_words.STOP_WORDS\n",
    "list_stopwords=list(stopwords)\n",
    "\n",
    "# printing a fraction of the list through indexing\n",
    "for word in list_stopwords[:7]:\n",
    "    print(word)"
   ]
  },
  {
   "cell_type": "code",
   "execution_count": 6,
   "metadata": {},
   "outputs": [
    {
     "name": "stdout",
     "output_type": "stream",
     "text": [
      "Amazon\n",
      "Alexa\n",
      "known\n",
      "simply\n",
      "Alexa\n",
      "virtual\n",
      "assistant\n",
      "AI\n",
      "technology\n",
      "developed\n",
      "Amazon\n",
      "Amazon\n",
      "Echo\n",
      "smart\n",
      "speakers\n",
      "developed\n",
      "Amazon\n",
      "Lab126\n",
      "capable\n",
      "voice\n",
      "interaction\n",
      "music\n",
      "playback\n",
      "making\n",
      "lists\n",
      "setting\n",
      "alarms\n",
      "streaming\n",
      "podcasts\n",
      "playing\n",
      "audiobooks\n",
      "providing\n",
      "weather\n",
      "traffic\n",
      "sports\n",
      "real\n",
      "time\n",
      "information\n",
      "news\n",
      "Alexa\n",
      "control\n",
      "smart\n",
      "devices\n",
      "home\n",
      "automation\n",
      "system\n",
      "Users\n",
      "able\n",
      "extend\n",
      "Alexa\n",
      "capabilities\n",
      "installing\n",
      "skills\n",
      "additional\n",
      "functionality\n",
      "developed\n",
      "party\n",
      "vendors\n",
      "settings\n",
      "commonly\n",
      "called\n",
      "apps\n",
      "weather\n",
      "programs\n",
      "audio\n",
      "features\n",
      "devices\n",
      "Alexa\n",
      "allow\n",
      "users\n",
      "activate\n",
      "device\n",
      "wake\n",
      "word\n",
      "Alexa\n",
      "Amazon\n",
      "devices\n",
      "Amazon\n",
      "mobile\n",
      "app\n",
      "iOS\n",
      "Android\n",
      "Amazon\n",
      "Dash\n",
      "Wand\n",
      "require\n",
      "user\n",
      "push\n",
      "button\n",
      "activate\n",
      "Alexa\n",
      "listening\n",
      "mode\n",
      "phones\n",
      "allow\n",
      "user\n",
      "command\n",
      "Alexa\n",
      "Alexa\n",
      "wake\n",
      "Currently\n",
      "interaction\n",
      "communication\n",
      "Alexa\n",
      "available\n",
      "English\n",
      "German\n",
      "French\n",
      "Italian\n",
      "Spanish\n",
      "Portuguese\n",
      "Japanese\n",
      "Hindi\n",
      "Canada\n",
      "Alexa\n",
      "available\n",
      "English\n",
      "French\n",
      "Quebec\n",
      "accent).[6][7]As\n",
      "November\n",
      "2018\n",
      "Amazon\n",
      "10,000\n",
      "employees\n",
      "working\n",
      "Alexa\n",
      "related\n",
      "products.[8\n",
      "January\n",
      "2019\n",
      "Amazons\n",
      "devices\n",
      "team\n",
      "announced\n",
      "sold\n",
      "100\n",
      "million\n",
      "Alexa\n",
      "enabled\n",
      "devices.[9]In\n",
      "September\n",
      "2019\n",
      "Amazon\n",
      "launched\n",
      "new\n",
      "devices\n",
      "achieving\n",
      "records\n",
      "competing\n",
      "worlds\n",
      "smart\n",
      "home\n",
      "industry\n",
      "new\n",
      "Echo\n",
      "Studio\n",
      "smart\n",
      "speaker\n",
      "360\n",
      "sound\n",
      "Dolby\n",
      "sound\n",
      "new\n",
      "devices\n",
      "included\n",
      "Echo\n",
      "dot\n",
      "clock\n",
      "fabric\n",
      "new\n",
      "generation\n",
      "Amazon\n",
      "Echo\n",
      "Echo\n",
      "8\n",
      "plug\n",
      "Echo\n",
      "device\n",
      "Echo\n",
      "Flex\n",
      "Alexa\n",
      "built\n",
      "wireless\n",
      "earphones\n",
      "Echo\n",
      "buds\n",
      "Alexa\n",
      "built\n",
      "spectacles\n",
      "Echo\n",
      "frames\n",
      "Alexa\n",
      "built\n",
      "Ring\n",
      "Echo\n",
      "Loop\n",
      "Alexa\n",
      "perform\n",
      "number\n",
      "preset\n",
      "functions\n",
      "box\n",
      "set\n",
      "timers\n",
      "share\n",
      "current\n",
      "weather\n",
      "create\n",
      "lists\n",
      "access\n",
      "Wikipedia\n",
      "articles\n",
      "things\n",
      "Users\n",
      "designated\n",
      "wake\n",
      "word\n",
      "default\n",
      "simply\n",
      "Alexa\n",
      "alert\n",
      "Alexa\n",
      "enabled\n",
      "device\n",
      "ensuing\n",
      "function\n",
      "command\n",
      "Alexa\n",
      "listens\n",
      "command\n",
      "performs\n",
      "appropriate\n",
      "function\n",
      "skill\n",
      "answer\n",
      "question\n",
      "command\n",
      "Alexas\n",
      "question\n",
      "answering\n",
      "ability\n",
      "partly\n",
      "powered\n",
      "Wolfram\n",
      "Language\n",
      "questions\n",
      "asked\n",
      "Alexa\n",
      "converts\n",
      "sound\n",
      "waves\n",
      "text\n",
      "allows\n",
      "gather\n",
      "information\n",
      "sources\n",
      "scenes\n",
      "data\n",
      "gathered\n",
      "parsed\n",
      "Wolfram\n",
      "technology\n",
      "generate\n",
      "suitable\n",
      "accurate\n",
      "answers\n",
      "Alexa\n",
      "supported\n",
      "devices\n",
      "stream\n",
      "music\n",
      "owners\n",
      "Amazon\n",
      "Music\n",
      "accounts\n",
      "built\n",
      "support\n",
      "Pandora\n",
      "Spotify\n",
      "accounts\n",
      "Alexa\n",
      "play\n",
      "music\n",
      "streaming\n",
      "services\n",
      "Apple\n",
      "Music\n",
      "Google\n",
      "Play\n",
      "Music\n",
      "phone\n",
      "tablet\n",
      "addition\n",
      "performing\n",
      "pre\n",
      "set\n",
      "functions\n",
      "Alexa\n",
      "perform\n",
      "additional\n",
      "functions\n",
      "party\n",
      "skills\n",
      "users\n",
      "enable\n",
      "popular\n",
      "Alexa\n",
      "skills\n",
      "2018\n",
      "included\n",
      "Question\n",
      "Day\n",
      "National\n",
      "Geographic\n",
      "Geo\n",
      "Quiz\n",
      "trivia\n",
      "TuneIn\n",
      "Live\n",
      "listen\n",
      "live\n",
      "sporting\n",
      "events\n",
      "news\n",
      "stations\n",
      "Big\n",
      "Sky\n",
      "hyper\n",
      "local\n",
      "weather\n",
      "updates\n",
      "Sleep\n",
      "Relaxation\n",
      "Sounds\n",
      "listening\n",
      "calming\n",
      "sounds\n",
      "Sesame\n",
      "Street\n",
      "children\n",
      "entertainment\n",
      "Fitbit\n",
      "Fitbit\n",
      "users\n",
      "want\n",
      "check\n",
      "health\n",
      "stats\n",
      "2019\n",
      "Apple\n",
      "Google\n",
      "Amazon\n",
      "Zigbee\n",
      "Alliance\n",
      "announced\n",
      "partnership\n",
      "smart\n",
      "home\n",
      "products\n",
      "work\n",
      "361\n"
     ]
    }
   ],
   "source": [
    "# IMP - filtering out stopwords or unnecessary words that do not give information and skew models inaccurately with misinformation\n",
    "raw_text= 'Amazon Alexa, also known simply as Alexa, is a virtual assistant AI technology developed by Amazon, first used in the Amazon Echo smart speakers developed by Amazon Lab126. It is capable of voice interaction, music playback, making to-do lists, setting alarms, streaming podcasts, playing audiobooks, and providing weather, traffic, sports, and other real-time information, such as news. Alexa can also control several smart devices using itself as a home automation system. Users are able to extend the Alexa capabilities by installing \"skills\" additional functionality developed by third-party vendors, in other settings more commonly called apps such as weather programs and audio features.Most devices with Alexa allow users to activate the device using a wake-word (such as Alexa or Amazon); other devices (such as the Amazon mobile app on iOS or Android and Amazon Dash Wand) require the user to push a button to activate Alexa listening mode, although, some phones also allow a user to say a command, such as \"Alexa\" or \"Alexa wake\". Currently, interaction and communication with Alexa are available only in English, German, French, Italian, Spanish, Portuguese, Japanese, and Hindi. In Canada, Alexa is available in English and French with the Quebec accent).[6][7]As of November 2018, Amazon had more than 10,000 employees working on Alexa and related products.[8] In January 2019, Amazons devices team announced that they had sold over 100 million Alexa-enabled devices.[9]In September 2019, Amazon launched many new devices achieving many records while competing with the worlds smart home industry. The new Echo Studio became the first smart speaker with 360 sound and Dolby sound. Other new devices included an Echo dot with a clock behind the fabric, a new third-generation Amazon Echo, Echo Show 8, a plug-in Echo device, Echo Flex, Alexa built-in wireless earphones, Echo buds, Alexa built-in spectacles, Echo frames, an Alexa built-in Ring, and Echo Loop.Alexa can perform a number of preset functions out-of-the-box such as set timers, share the current weather, create lists, access Wikipedia articles, and many more things. Users say a designated \"wake word\" (the default is simply \"Alexa\") to alert an Alexa-enabled device of an ensuing function command. Alexa listens for the command and performs the appropriate function, or skill, to answer a question or command. Alexas question answering ability is partly powered by the Wolfram Language. When questions are asked, Alexa converts sound waves into text which allows it to gather information from various sources. Behind the scenes, the data gathered is then parsed by Wolfram technology to generate suitable and accurate answers. Alexa-supported devices can stream music from the owners Amazon Music accounts and have built-in support for Pandora and Spotify accounts. Alexa can play music from streaming services such as Apple Music and Google Play Music from a phone or tablet.In addition to performing pre-set functions, Alexa can also perform additional functions through third-party skills that users can enable. Some of the most popular Alexa skills in 2018 included \"Question of the Day\" and \"National Geographic Geo Quiz\" for trivia; \"TuneIn Live\" to listen to live sporting events and news stations; \"Big Sky\" for hyper local weather updates; \"Sleep and Relaxation Sounds\" for listening to calming sounds; \"Sesame Street\" for children entertainment; and \"Fitbit\" for Fitbit users who want to check in on their health stats. In 2019, Apple, Google, Amazon, and Zigbee Alliance announced a partnership to make smart home products work together.'\n",
    "text_doc=nlp(raw_text)\n",
    "\n",
    "token_count_without_stopwords_or_punct=0\n",
    "filtered_text = [token for token in text_doc if not token.is_stop and not token.is_punct]\n",
    "\n",
    "for token in filtered_text:\n",
    "    print(token)\n",
    "    token_count_without_stopwords_or_punct+=1\n",
    "print(token_count_without_stopwords_or_punct)"
   ]
  },
  {
   "cell_type": "code",
   "execution_count": 42,
   "metadata": {},
   "outputs": [
    {
     "name": "stdout",
     "output_type": "stream",
     "text": [
      "dance    --------- danc\n",
      "dances   --------- danc\n",
      "dancing  --------- danc\n",
      "danced   --------- danc\n"
     ]
    }
   ],
   "source": [
    "# Preprocessing method #2 - Stemming\n",
    "# IMP - Stemming eliminates redundancy of words with similar forms\n",
    "# ie. calculator, calculating, calculation\n",
    "from nltk.stem import PorterStemmer\n",
    "ps = PorterStemmer()\n",
    "words = ['dance', 'dances', 'dancing', 'danced']\n",
    "\n",
    "for word in words:\n",
    "    print(word.ljust(8),'---------', ps.stem(word))\n",
    "\n",
    "# IMP - interesting in how it reduces word to base stem\n",
    "# IMP - but base stems themselves are not real words in the dictionary - not correct"
   ]
  },
  {
   "cell_type": "code",
   "execution_count": 45,
   "metadata": {},
   "outputs": [
    {
     "name": "stdout",
     "output_type": "stream",
     "text": [
      "NLTK:\n",
      "dance ------ dance\n",
      "dances ------ dance\n",
      "dancing ------ dancing\n",
      "danced ------ danced\n"
     ]
    },
    {
     "name": "stderr",
     "output_type": "stream",
     "text": [
      "[nltk_data] Downloading package omw-1.4 to\n",
      "[nltk_data]     /Users/devaggarwal/nltk_data...\n",
      "[nltk_data]   Package omw-1.4 is already up-to-date!\n"
     ]
    }
   ],
   "source": [
    "# IMP Lemmetization - converts word to meaningful root word\n",
    "import nltk\n",
    "nltk.download('omw-1.4')\n",
    "from nltk.stem import WordNetLemmatizer\n",
    "print('NLTK:')\n",
    "lemmatizer = WordNetLemmatizer()\n",
    "for word in words:\n",
    "    print(word, '------',lemmatizer.lemmatize(word))\n"
   ]
  },
  {
   "cell_type": "code",
   "execution_count": 9,
   "metadata": {},
   "outputs": [
    {
     "name": "stdout",
     "output_type": "stream",
     "text": [
      "The model AIM ha a performce accuracy of 87 % and it is redady to be released . The release is going to be held on day 12.3.2000 and it ha amzing performance recod.Model AIM2.0 ha accuracy of 89 % and better performing expectation are there.le u see how it performs\n"
     ]
    }
   ],
   "source": [
    "# Tokenize\n",
    "my_text='The model AIM has a performce accuracy of 87% and it is redady to be released. The release is going to be held on day 12.3.2000 and  it has amzing performance recod.Model AIM2.0 has accuracy of 89% and better performing expectations are there.le us see how it performs'\n",
    "words = nltk.word_tokenize(my_text)\n",
    "lemmatized_output = ' '.join([lemmatizer.lemmatize(w) for w in words])\n",
    "print(lemmatized_output)"
   ]
  },
  {
   "cell_type": "code",
   "execution_count": 46,
   "metadata": {},
   "outputs": [
    {
     "name": "stdout",
     "output_type": "stream",
     "text": [
      "spaCy\n",
      "dance ------ dance\n",
      "dances ------ dance\n",
      "dancing ------ dance\n",
      "danced ------ dance\n"
     ]
    }
   ],
   "source": [
    "# Lemmatization using spaCy\n",
    "text = 'dance dances dancing danced'\n",
    "print('spaCy')\n",
    "text_doc = nlp(text)\n",
    "for token in text_doc:\n",
    "    print(token.text, '------', token.lemma_)\n",
    "#IMP - Good results, better than NLTK\n",
    "# IMP - Higly preferred over stemming"
   ]
  },
  {
   "cell_type": "code",
   "execution_count": 11,
   "metadata": {},
   "outputs": [
    {
     "data": {
      "text/plain": [
       "'  I have calculate it wrong I be calculate the bill again'"
      ]
     },
     "execution_count": 11,
     "metadata": {},
     "output_type": "execute_result"
    }
   ],
   "source": [
    "# Converting text into lemmatized form\n",
    "text=' I had calculated it wrong.I am calculating the bill again.'\n",
    "text_doc = nlp(text)\n",
    "\n",
    "filter_text=[token for token in text_doc if not token.is_stop]\n",
    "filter_text=[token for token in text_doc if not token.is_punct]\n",
    "\" \".join([token.lemma_ for token in filter_text])"
   ]
  },
  {
   "cell_type": "code",
   "execution_count": 12,
   "metadata": {},
   "outputs": [
    {
     "name": "stdout",
     "output_type": "stream",
     "text": [
      "Counter({'birthday': 2, 'today': 1, 'party': 1, 'felt': 1, 'sad': 1})\n"
     ]
    }
   ],
   "source": [
    "# Word Frequency Analysis\n",
    "# * - Frequency of words can indicate meaning or purpose\n",
    "import collections\n",
    "from collections import Counter\n",
    "\n",
    "data='It is my birthday today. I could not have a birthday party. I felt sad'\n",
    "data_doc = nlp(data)\n",
    "list_of_tokens = [token.text for token in data_doc if not token.is_stop and not token.is_punct]\n",
    "token_frequency=Counter(list_of_tokens)\n",
    "print(token_frequency)"
   ]
  },
  {
   "cell_type": "code",
   "execution_count": 13,
   "metadata": {},
   "outputs": [
    {
     "name": "stdout",
     "output_type": "stream",
     "text": [
      "[('Gangtok', 18), ('capital', 9), ('Sikkim', 8), ('India', 8), ('state', 5), ('Indian', 4)]\n"
     ]
    }
   ],
   "source": [
    "# large text can have overwhelming list of frequencies\n",
    "data='Gangtok is a city, municipality, the capital and the largest town of the Indian state of Sikkim. It is also the headquarters of the East Sikkim district. Gangtok is in the eastern Himalayan range, at an elevation of 1,650. The towns population of 100000 are from different ethnicities such as Bhutia, Lepchas and Indian Gorkhas. Within the higher peaks of the Himalaya and with a year-round mild temperate climate, Gangtok is at the centre of Sikkims tourism industry.Gangtok rose to prominence as a popular Buddhist pilgrimage site after the construction of the Enchey Monastery in 1840. In 1894, the ruling Sikkimese Chogyal, Thutob Namgyal, transferred the capital to Gangtok. In the early 20th century, Gangtok became a major stopover on the trade route between Lhasa in Tibet and cities such as Kolkata (then Calcutta) in British India. After India won its independence from Britain in 1947, Sikkim chose to remain an independent monarchy, with Gangtok as its capital. In 1975, after the integration with the union of India, Gangtok was made Indias 22nd state capital.Like the rest of Sikkim, not much is known about the early history of Gangtok. The earliest records date from the construction of the hermitic Gangtok monastery in 1716.[7] Gangtok remained a small hamlet until the construction of the Enchey Monastery in 1840 made it a pilgrimage center. It became the capital of what was left of Sikkim after an English conquest in the mid-19th century in response to a hostage crisis. After the defeat of the Tibetans by the British, Gangtok became a major stopover in the trade between Tibet and British India at the end of the 19th century. Most of the roads and the telegraph in the area were built during this time.In 1894, Thutob Namgyal, the Sikkimese monarch under British rule, shifted the capital from Tumlong to Gangtok, increasing the citys importance. A new grand palace along with other state buildings was built in the new capital. Following India independence in 1947, Sikkim became a nation-state with Gangtok as its capital. Sikkim came under the suzerainty of India, with the condition that it would retain its independence, by the treaty signed between the Chogyal and the then Indian Prime Minister Jawaharlal Nehru.[9] This pact gave the Indians control of external affairs on behalf of Sikkimese. Trade between India and Tibet continued to flourish through the Nathula and Jelepla passes, offshoots of the ancient Silk Road near Gangtok. These border passes were sealed after the Sino-Indian War in 1962, which deprived Gangtok of its trading business.[10] The Nathula pass was finally opened for limited trade in 2006, fuelling hopes of economic boomIn 1975, after years of political uncertainty and struggle, including riots, the monarchy was abrogated and Sikkim became India twenty-second state, with Gangtok as its capital after a referendum. Gangtok has witnessed annual landslides, resulting in loss of life and damage to property. The largest disaster occurred in June 1997, when 38 were killed and hundreds of buildings were destroyed'\n",
    "data_doc = nlp(data)\n",
    "list_of_tokens = [token.text for token in data_doc if not token.is_stop and not token.is_punct]\n",
    "token_frequency=Counter(list_of_tokens)\n",
    "print(token_frequency.most_common(6))"
   ]
  },
  {
   "cell_type": "code",
   "execution_count": 51,
   "metadata": {},
   "outputs": [
    {
     "name": "stdout",
     "output_type": "stream",
     "text": [
      "My         ---- PRON\n",
      "sister     ---- NOUN\n",
      "was        ---- AUX\n",
      "screaming  ---- VERB\n",
      "out        ---- ADV\n",
      "loud       ---- ADJ\n",
      "as         ---- ADP\n",
      "usual      ---- ADJ\n",
      ".          ---- PUNCT\n",
      "I          ---- PRON\n",
      "kept       ---- VERB\n",
      "ignoring   ---- VERB\n",
      "her        ---- PRON\n"
     ]
    }
   ],
   "source": [
    "# Part of speech tagging\n",
    "# grammar classification\n",
    "text='My sister was screaming out loud as usual. I kept ignoring her'\n",
    "text_doc=nlp(text)\n",
    "for token in text_doc:\n",
    "    print(token.text.ljust(10), '----', token.pos_)\n",
    "\n",
    "# easy to use spaCy is factor in preference over nltk\n",
    "# 1st person pov of person desribed in sentence - why???"
   ]
  },
  {
   "cell_type": "code",
   "execution_count": 15,
   "metadata": {},
   "outputs": [
    {
     "name": "stdout",
     "output_type": "stream",
     "text": [
      "Nitika\n",
      "was\n",
      "out\n",
      "loud\n",
      "as\n",
      "usual\n",
      "Her\n",
      "roommate\n",
      "her\n"
     ]
    }
   ],
   "source": [
    "# remove token of certain POS categories\n",
    "# Storing the junk POS tags  \n",
    "junk_pos=['X','SCONJ', 'VERB']\n",
    "\n",
    "# Function to check if the token falls in the JUNK POS category.\n",
    "def remove_pos(word):\n",
    "    if word.pos_ in junk_pos:\n",
    "        return True\n",
    "    return False\n",
    "revised_doc=[token for token in doc if remove_pos(token)==False]\n",
    "for x in revised_doc:\n",
    "    print(x.text)"
   ]
  },
  {
   "cell_type": "code",
   "execution_count": 52,
   "metadata": {},
   "outputs": [
    {
     "data": {
      "text/html": [
       "<span class=\"tex2jax_ignore\"><svg xmlns=\"http://www.w3.org/2000/svg\" xmlns:xlink=\"http://www.w3.org/1999/xlink\" xml:lang=\"en\" id=\"fba3f8a9fccf4a5d82d70f7b3e24c3dc-0\" class=\"displacy\" width=\"2150\" height=\"312.0\" direction=\"ltr\" style=\"max-width: none; height: 312.0px; color: #000000; background: #ffffff; font-family: Arial; direction: ltr\">\n",
       "<text class=\"displacy-token\" fill=\"currentColor\" text-anchor=\"middle\" y=\"222.0\">\n",
       "    <tspan class=\"displacy-word\" fill=\"currentColor\" x=\"50\">My</tspan>\n",
       "    <tspan class=\"displacy-tag\" dy=\"2em\" fill=\"currentColor\" x=\"50\">PRON</tspan>\n",
       "</text>\n",
       "\n",
       "<text class=\"displacy-token\" fill=\"currentColor\" text-anchor=\"middle\" y=\"222.0\">\n",
       "    <tspan class=\"displacy-word\" fill=\"currentColor\" x=\"225\">sister</tspan>\n",
       "    <tspan class=\"displacy-tag\" dy=\"2em\" fill=\"currentColor\" x=\"225\">NOUN</tspan>\n",
       "</text>\n",
       "\n",
       "<text class=\"displacy-token\" fill=\"currentColor\" text-anchor=\"middle\" y=\"222.0\">\n",
       "    <tspan class=\"displacy-word\" fill=\"currentColor\" x=\"400\">was</tspan>\n",
       "    <tspan class=\"displacy-tag\" dy=\"2em\" fill=\"currentColor\" x=\"400\">AUX</tspan>\n",
       "</text>\n",
       "\n",
       "<text class=\"displacy-token\" fill=\"currentColor\" text-anchor=\"middle\" y=\"222.0\">\n",
       "    <tspan class=\"displacy-word\" fill=\"currentColor\" x=\"575\">screaming</tspan>\n",
       "    <tspan class=\"displacy-tag\" dy=\"2em\" fill=\"currentColor\" x=\"575\">VERB</tspan>\n",
       "</text>\n",
       "\n",
       "<text class=\"displacy-token\" fill=\"currentColor\" text-anchor=\"middle\" y=\"222.0\">\n",
       "    <tspan class=\"displacy-word\" fill=\"currentColor\" x=\"750\">out</tspan>\n",
       "    <tspan class=\"displacy-tag\" dy=\"2em\" fill=\"currentColor\" x=\"750\">ADV</tspan>\n",
       "</text>\n",
       "\n",
       "<text class=\"displacy-token\" fill=\"currentColor\" text-anchor=\"middle\" y=\"222.0\">\n",
       "    <tspan class=\"displacy-word\" fill=\"currentColor\" x=\"925\">loud</tspan>\n",
       "    <tspan class=\"displacy-tag\" dy=\"2em\" fill=\"currentColor\" x=\"925\">ADJ</tspan>\n",
       "</text>\n",
       "\n",
       "<text class=\"displacy-token\" fill=\"currentColor\" text-anchor=\"middle\" y=\"222.0\">\n",
       "    <tspan class=\"displacy-word\" fill=\"currentColor\" x=\"1100\">as</tspan>\n",
       "    <tspan class=\"displacy-tag\" dy=\"2em\" fill=\"currentColor\" x=\"1100\">ADP</tspan>\n",
       "</text>\n",
       "\n",
       "<text class=\"displacy-token\" fill=\"currentColor\" text-anchor=\"middle\" y=\"222.0\">\n",
       "    <tspan class=\"displacy-word\" fill=\"currentColor\" x=\"1275\">usual.</tspan>\n",
       "    <tspan class=\"displacy-tag\" dy=\"2em\" fill=\"currentColor\" x=\"1275\">ADJ</tspan>\n",
       "</text>\n",
       "\n",
       "<text class=\"displacy-token\" fill=\"currentColor\" text-anchor=\"middle\" y=\"222.0\">\n",
       "    <tspan class=\"displacy-word\" fill=\"currentColor\" x=\"1450\">I</tspan>\n",
       "    <tspan class=\"displacy-tag\" dy=\"2em\" fill=\"currentColor\" x=\"1450\">PRON</tspan>\n",
       "</text>\n",
       "\n",
       "<text class=\"displacy-token\" fill=\"currentColor\" text-anchor=\"middle\" y=\"222.0\">\n",
       "    <tspan class=\"displacy-word\" fill=\"currentColor\" x=\"1625\">kept</tspan>\n",
       "    <tspan class=\"displacy-tag\" dy=\"2em\" fill=\"currentColor\" x=\"1625\">VERB</tspan>\n",
       "</text>\n",
       "\n",
       "<text class=\"displacy-token\" fill=\"currentColor\" text-anchor=\"middle\" y=\"222.0\">\n",
       "    <tspan class=\"displacy-word\" fill=\"currentColor\" x=\"1800\">ignoring</tspan>\n",
       "    <tspan class=\"displacy-tag\" dy=\"2em\" fill=\"currentColor\" x=\"1800\">VERB</tspan>\n",
       "</text>\n",
       "\n",
       "<text class=\"displacy-token\" fill=\"currentColor\" text-anchor=\"middle\" y=\"222.0\">\n",
       "    <tspan class=\"displacy-word\" fill=\"currentColor\" x=\"1975\">her</tspan>\n",
       "    <tspan class=\"displacy-tag\" dy=\"2em\" fill=\"currentColor\" x=\"1975\">PRON</tspan>\n",
       "</text>\n",
       "\n",
       "<g class=\"displacy-arrow\">\n",
       "    <path class=\"displacy-arc\" id=\"arrow-fba3f8a9fccf4a5d82d70f7b3e24c3dc-0-0\" stroke-width=\"2px\" d=\"M70,177.0 C70,89.5 220.0,89.5 220.0,177.0\" fill=\"none\" stroke=\"currentColor\"/>\n",
       "    <text dy=\"1.25em\" style=\"font-size: 0.8em; letter-spacing: 1px\">\n",
       "        <textPath xlink:href=\"#arrow-fba3f8a9fccf4a5d82d70f7b3e24c3dc-0-0\" class=\"displacy-label\" startOffset=\"50%\" side=\"left\" fill=\"currentColor\" text-anchor=\"middle\">poss</textPath>\n",
       "    </text>\n",
       "    <path class=\"displacy-arrowhead\" d=\"M70,179.0 L62,167.0 78,167.0\" fill=\"currentColor\"/>\n",
       "</g>\n",
       "\n",
       "<g class=\"displacy-arrow\">\n",
       "    <path class=\"displacy-arc\" id=\"arrow-fba3f8a9fccf4a5d82d70f7b3e24c3dc-0-1\" stroke-width=\"2px\" d=\"M245,177.0 C245,2.0 575.0,2.0 575.0,177.0\" fill=\"none\" stroke=\"currentColor\"/>\n",
       "    <text dy=\"1.25em\" style=\"font-size: 0.8em; letter-spacing: 1px\">\n",
       "        <textPath xlink:href=\"#arrow-fba3f8a9fccf4a5d82d70f7b3e24c3dc-0-1\" class=\"displacy-label\" startOffset=\"50%\" side=\"left\" fill=\"currentColor\" text-anchor=\"middle\">nsubj</textPath>\n",
       "    </text>\n",
       "    <path class=\"displacy-arrowhead\" d=\"M245,179.0 L237,167.0 253,167.0\" fill=\"currentColor\"/>\n",
       "</g>\n",
       "\n",
       "<g class=\"displacy-arrow\">\n",
       "    <path class=\"displacy-arc\" id=\"arrow-fba3f8a9fccf4a5d82d70f7b3e24c3dc-0-2\" stroke-width=\"2px\" d=\"M420,177.0 C420,89.5 570.0,89.5 570.0,177.0\" fill=\"none\" stroke=\"currentColor\"/>\n",
       "    <text dy=\"1.25em\" style=\"font-size: 0.8em; letter-spacing: 1px\">\n",
       "        <textPath xlink:href=\"#arrow-fba3f8a9fccf4a5d82d70f7b3e24c3dc-0-2\" class=\"displacy-label\" startOffset=\"50%\" side=\"left\" fill=\"currentColor\" text-anchor=\"middle\">aux</textPath>\n",
       "    </text>\n",
       "    <path class=\"displacy-arrowhead\" d=\"M420,179.0 L412,167.0 428,167.0\" fill=\"currentColor\"/>\n",
       "</g>\n",
       "\n",
       "<g class=\"displacy-arrow\">\n",
       "    <path class=\"displacy-arc\" id=\"arrow-fba3f8a9fccf4a5d82d70f7b3e24c3dc-0-3\" stroke-width=\"2px\" d=\"M770,177.0 C770,89.5 920.0,89.5 920.0,177.0\" fill=\"none\" stroke=\"currentColor\"/>\n",
       "    <text dy=\"1.25em\" style=\"font-size: 0.8em; letter-spacing: 1px\">\n",
       "        <textPath xlink:href=\"#arrow-fba3f8a9fccf4a5d82d70f7b3e24c3dc-0-3\" class=\"displacy-label\" startOffset=\"50%\" side=\"left\" fill=\"currentColor\" text-anchor=\"middle\">advmod</textPath>\n",
       "    </text>\n",
       "    <path class=\"displacy-arrowhead\" d=\"M770,179.0 L762,167.0 778,167.0\" fill=\"currentColor\"/>\n",
       "</g>\n",
       "\n",
       "<g class=\"displacy-arrow\">\n",
       "    <path class=\"displacy-arc\" id=\"arrow-fba3f8a9fccf4a5d82d70f7b3e24c3dc-0-4\" stroke-width=\"2px\" d=\"M595,177.0 C595,2.0 925.0,2.0 925.0,177.0\" fill=\"none\" stroke=\"currentColor\"/>\n",
       "    <text dy=\"1.25em\" style=\"font-size: 0.8em; letter-spacing: 1px\">\n",
       "        <textPath xlink:href=\"#arrow-fba3f8a9fccf4a5d82d70f7b3e24c3dc-0-4\" class=\"displacy-label\" startOffset=\"50%\" side=\"left\" fill=\"currentColor\" text-anchor=\"middle\">advmod</textPath>\n",
       "    </text>\n",
       "    <path class=\"displacy-arrowhead\" d=\"M925.0,179.0 L933.0,167.0 917.0,167.0\" fill=\"currentColor\"/>\n",
       "</g>\n",
       "\n",
       "<g class=\"displacy-arrow\">\n",
       "    <path class=\"displacy-arc\" id=\"arrow-fba3f8a9fccf4a5d82d70f7b3e24c3dc-0-5\" stroke-width=\"2px\" d=\"M945,177.0 C945,89.5 1095.0,89.5 1095.0,177.0\" fill=\"none\" stroke=\"currentColor\"/>\n",
       "    <text dy=\"1.25em\" style=\"font-size: 0.8em; letter-spacing: 1px\">\n",
       "        <textPath xlink:href=\"#arrow-fba3f8a9fccf4a5d82d70f7b3e24c3dc-0-5\" class=\"displacy-label\" startOffset=\"50%\" side=\"left\" fill=\"currentColor\" text-anchor=\"middle\">prep</textPath>\n",
       "    </text>\n",
       "    <path class=\"displacy-arrowhead\" d=\"M1095.0,179.0 L1103.0,167.0 1087.0,167.0\" fill=\"currentColor\"/>\n",
       "</g>\n",
       "\n",
       "<g class=\"displacy-arrow\">\n",
       "    <path class=\"displacy-arc\" id=\"arrow-fba3f8a9fccf4a5d82d70f7b3e24c3dc-0-6\" stroke-width=\"2px\" d=\"M1120,177.0 C1120,89.5 1270.0,89.5 1270.0,177.0\" fill=\"none\" stroke=\"currentColor\"/>\n",
       "    <text dy=\"1.25em\" style=\"font-size: 0.8em; letter-spacing: 1px\">\n",
       "        <textPath xlink:href=\"#arrow-fba3f8a9fccf4a5d82d70f7b3e24c3dc-0-6\" class=\"displacy-label\" startOffset=\"50%\" side=\"left\" fill=\"currentColor\" text-anchor=\"middle\">amod</textPath>\n",
       "    </text>\n",
       "    <path class=\"displacy-arrowhead\" d=\"M1270.0,179.0 L1278.0,167.0 1262.0,167.0\" fill=\"currentColor\"/>\n",
       "</g>\n",
       "\n",
       "<g class=\"displacy-arrow\">\n",
       "    <path class=\"displacy-arc\" id=\"arrow-fba3f8a9fccf4a5d82d70f7b3e24c3dc-0-7\" stroke-width=\"2px\" d=\"M1470,177.0 C1470,89.5 1620.0,89.5 1620.0,177.0\" fill=\"none\" stroke=\"currentColor\"/>\n",
       "    <text dy=\"1.25em\" style=\"font-size: 0.8em; letter-spacing: 1px\">\n",
       "        <textPath xlink:href=\"#arrow-fba3f8a9fccf4a5d82d70f7b3e24c3dc-0-7\" class=\"displacy-label\" startOffset=\"50%\" side=\"left\" fill=\"currentColor\" text-anchor=\"middle\">nsubj</textPath>\n",
       "    </text>\n",
       "    <path class=\"displacy-arrowhead\" d=\"M1470,179.0 L1462,167.0 1478,167.0\" fill=\"currentColor\"/>\n",
       "</g>\n",
       "\n",
       "<g class=\"displacy-arrow\">\n",
       "    <path class=\"displacy-arc\" id=\"arrow-fba3f8a9fccf4a5d82d70f7b3e24c3dc-0-8\" stroke-width=\"2px\" d=\"M1645,177.0 C1645,89.5 1795.0,89.5 1795.0,177.0\" fill=\"none\" stroke=\"currentColor\"/>\n",
       "    <text dy=\"1.25em\" style=\"font-size: 0.8em; letter-spacing: 1px\">\n",
       "        <textPath xlink:href=\"#arrow-fba3f8a9fccf4a5d82d70f7b3e24c3dc-0-8\" class=\"displacy-label\" startOffset=\"50%\" side=\"left\" fill=\"currentColor\" text-anchor=\"middle\">xcomp</textPath>\n",
       "    </text>\n",
       "    <path class=\"displacy-arrowhead\" d=\"M1795.0,179.0 L1803.0,167.0 1787.0,167.0\" fill=\"currentColor\"/>\n",
       "</g>\n",
       "\n",
       "<g class=\"displacy-arrow\">\n",
       "    <path class=\"displacy-arc\" id=\"arrow-fba3f8a9fccf4a5d82d70f7b3e24c3dc-0-9\" stroke-width=\"2px\" d=\"M1820,177.0 C1820,89.5 1970.0,89.5 1970.0,177.0\" fill=\"none\" stroke=\"currentColor\"/>\n",
       "    <text dy=\"1.25em\" style=\"font-size: 0.8em; letter-spacing: 1px\">\n",
       "        <textPath xlink:href=\"#arrow-fba3f8a9fccf4a5d82d70f7b3e24c3dc-0-9\" class=\"displacy-label\" startOffset=\"50%\" side=\"left\" fill=\"currentColor\" text-anchor=\"middle\">dobj</textPath>\n",
       "    </text>\n",
       "    <path class=\"displacy-arrowhead\" d=\"M1970.0,179.0 L1978.0,167.0 1962.0,167.0\" fill=\"currentColor\"/>\n",
       "</g>\n",
       "</svg></span>"
      ],
      "text/plain": [
       "<IPython.core.display.HTML object>"
      ]
     },
     "metadata": {},
     "output_type": "display_data"
    }
   ],
   "source": [
    "from spacy import displacy\n",
    "displacy.render(text_doc, style='dep', jupyter=True)"
   ]
  },
  {
   "cell_type": "code",
   "execution_count": 17,
   "metadata": {},
   "outputs": [
    {
     "name": "stdout",
     "output_type": "stream",
     "text": [
      "Ardra --- nsubj\n",
      "fell --- ROOT\n",
      "into --- prep\n",
      "a --- det\n",
      "well --- pobj\n",
      "and --- cc\n",
      "fractured --- conj\n",
      "her --- poss\n",
      "leg --- dobj\n"
     ]
    }
   ],
   "source": [
    "# Dependency Parsing\n",
    "# Relationship/dependency between different words of a sentence\n",
    "my_text='Ardra fell into a well and fractured her leg'\n",
    "my_doc=nlp(my_text)\n",
    "\n",
    "for token in my_doc:\n",
    "    print(token.text, '---', token.dep_)\n",
    "\n",
    "# fell is ROOT or headword, independent"
   ]
  },
  {
   "cell_type": "code",
   "execution_count": 18,
   "metadata": {},
   "outputs": [
    {
     "data": {
      "text/html": [
       "<span class=\"tex2jax_ignore\"><svg xmlns=\"http://www.w3.org/2000/svg\" xmlns:xlink=\"http://www.w3.org/1999/xlink\" xml:lang=\"en\" id=\"ddf8c922b6d643e1936c970dbcb07928-0\" class=\"displacy\" width=\"1625\" height=\"487.0\" direction=\"ltr\" style=\"max-width: none; height: 487.0px; color: #000000; background: #ffffff; font-family: Arial; direction: ltr\">\n",
       "<text class=\"displacy-token\" fill=\"currentColor\" text-anchor=\"middle\" y=\"397.0\">\n",
       "    <tspan class=\"displacy-word\" fill=\"currentColor\" x=\"50\">Ardra</tspan>\n",
       "    <tspan class=\"displacy-tag\" dy=\"2em\" fill=\"currentColor\" x=\"50\">PROPN</tspan>\n",
       "</text>\n",
       "\n",
       "<text class=\"displacy-token\" fill=\"currentColor\" text-anchor=\"middle\" y=\"397.0\">\n",
       "    <tspan class=\"displacy-word\" fill=\"currentColor\" x=\"225\">fell</tspan>\n",
       "    <tspan class=\"displacy-tag\" dy=\"2em\" fill=\"currentColor\" x=\"225\">VERB</tspan>\n",
       "</text>\n",
       "\n",
       "<text class=\"displacy-token\" fill=\"currentColor\" text-anchor=\"middle\" y=\"397.0\">\n",
       "    <tspan class=\"displacy-word\" fill=\"currentColor\" x=\"400\">into</tspan>\n",
       "    <tspan class=\"displacy-tag\" dy=\"2em\" fill=\"currentColor\" x=\"400\">ADP</tspan>\n",
       "</text>\n",
       "\n",
       "<text class=\"displacy-token\" fill=\"currentColor\" text-anchor=\"middle\" y=\"397.0\">\n",
       "    <tspan class=\"displacy-word\" fill=\"currentColor\" x=\"575\">a</tspan>\n",
       "    <tspan class=\"displacy-tag\" dy=\"2em\" fill=\"currentColor\" x=\"575\">DET</tspan>\n",
       "</text>\n",
       "\n",
       "<text class=\"displacy-token\" fill=\"currentColor\" text-anchor=\"middle\" y=\"397.0\">\n",
       "    <tspan class=\"displacy-word\" fill=\"currentColor\" x=\"750\">well</tspan>\n",
       "    <tspan class=\"displacy-tag\" dy=\"2em\" fill=\"currentColor\" x=\"750\">NOUN</tspan>\n",
       "</text>\n",
       "\n",
       "<text class=\"displacy-token\" fill=\"currentColor\" text-anchor=\"middle\" y=\"397.0\">\n",
       "    <tspan class=\"displacy-word\" fill=\"currentColor\" x=\"925\">and</tspan>\n",
       "    <tspan class=\"displacy-tag\" dy=\"2em\" fill=\"currentColor\" x=\"925\">CCONJ</tspan>\n",
       "</text>\n",
       "\n",
       "<text class=\"displacy-token\" fill=\"currentColor\" text-anchor=\"middle\" y=\"397.0\">\n",
       "    <tspan class=\"displacy-word\" fill=\"currentColor\" x=\"1100\">fractured</tspan>\n",
       "    <tspan class=\"displacy-tag\" dy=\"2em\" fill=\"currentColor\" x=\"1100\">VERB</tspan>\n",
       "</text>\n",
       "\n",
       "<text class=\"displacy-token\" fill=\"currentColor\" text-anchor=\"middle\" y=\"397.0\">\n",
       "    <tspan class=\"displacy-word\" fill=\"currentColor\" x=\"1275\">her</tspan>\n",
       "    <tspan class=\"displacy-tag\" dy=\"2em\" fill=\"currentColor\" x=\"1275\">PRON</tspan>\n",
       "</text>\n",
       "\n",
       "<text class=\"displacy-token\" fill=\"currentColor\" text-anchor=\"middle\" y=\"397.0\">\n",
       "    <tspan class=\"displacy-word\" fill=\"currentColor\" x=\"1450\">leg</tspan>\n",
       "    <tspan class=\"displacy-tag\" dy=\"2em\" fill=\"currentColor\" x=\"1450\">NOUN</tspan>\n",
       "</text>\n",
       "\n",
       "<g class=\"displacy-arrow\">\n",
       "    <path class=\"displacy-arc\" id=\"arrow-ddf8c922b6d643e1936c970dbcb07928-0-0\" stroke-width=\"2px\" d=\"M70,352.0 C70,264.5 210.0,264.5 210.0,352.0\" fill=\"none\" stroke=\"currentColor\"/>\n",
       "    <text dy=\"1.25em\" style=\"font-size: 0.8em; letter-spacing: 1px\">\n",
       "        <textPath xlink:href=\"#arrow-ddf8c922b6d643e1936c970dbcb07928-0-0\" class=\"displacy-label\" startOffset=\"50%\" side=\"left\" fill=\"currentColor\" text-anchor=\"middle\">nsubj</textPath>\n",
       "    </text>\n",
       "    <path class=\"displacy-arrowhead\" d=\"M70,354.0 L62,342.0 78,342.0\" fill=\"currentColor\"/>\n",
       "</g>\n",
       "\n",
       "<g class=\"displacy-arrow\">\n",
       "    <path class=\"displacy-arc\" id=\"arrow-ddf8c922b6d643e1936c970dbcb07928-0-1\" stroke-width=\"2px\" d=\"M245,352.0 C245,264.5 385.0,264.5 385.0,352.0\" fill=\"none\" stroke=\"currentColor\"/>\n",
       "    <text dy=\"1.25em\" style=\"font-size: 0.8em; letter-spacing: 1px\">\n",
       "        <textPath xlink:href=\"#arrow-ddf8c922b6d643e1936c970dbcb07928-0-1\" class=\"displacy-label\" startOffset=\"50%\" side=\"left\" fill=\"currentColor\" text-anchor=\"middle\">prep</textPath>\n",
       "    </text>\n",
       "    <path class=\"displacy-arrowhead\" d=\"M385.0,354.0 L393.0,342.0 377.0,342.0\" fill=\"currentColor\"/>\n",
       "</g>\n",
       "\n",
       "<g class=\"displacy-arrow\">\n",
       "    <path class=\"displacy-arc\" id=\"arrow-ddf8c922b6d643e1936c970dbcb07928-0-2\" stroke-width=\"2px\" d=\"M595,352.0 C595,264.5 735.0,264.5 735.0,352.0\" fill=\"none\" stroke=\"currentColor\"/>\n",
       "    <text dy=\"1.25em\" style=\"font-size: 0.8em; letter-spacing: 1px\">\n",
       "        <textPath xlink:href=\"#arrow-ddf8c922b6d643e1936c970dbcb07928-0-2\" class=\"displacy-label\" startOffset=\"50%\" side=\"left\" fill=\"currentColor\" text-anchor=\"middle\">det</textPath>\n",
       "    </text>\n",
       "    <path class=\"displacy-arrowhead\" d=\"M595,354.0 L587,342.0 603,342.0\" fill=\"currentColor\"/>\n",
       "</g>\n",
       "\n",
       "<g class=\"displacy-arrow\">\n",
       "    <path class=\"displacy-arc\" id=\"arrow-ddf8c922b6d643e1936c970dbcb07928-0-3\" stroke-width=\"2px\" d=\"M420,352.0 C420,177.0 740.0,177.0 740.0,352.0\" fill=\"none\" stroke=\"currentColor\"/>\n",
       "    <text dy=\"1.25em\" style=\"font-size: 0.8em; letter-spacing: 1px\">\n",
       "        <textPath xlink:href=\"#arrow-ddf8c922b6d643e1936c970dbcb07928-0-3\" class=\"displacy-label\" startOffset=\"50%\" side=\"left\" fill=\"currentColor\" text-anchor=\"middle\">pobj</textPath>\n",
       "    </text>\n",
       "    <path class=\"displacy-arrowhead\" d=\"M740.0,354.0 L748.0,342.0 732.0,342.0\" fill=\"currentColor\"/>\n",
       "</g>\n",
       "\n",
       "<g class=\"displacy-arrow\">\n",
       "    <path class=\"displacy-arc\" id=\"arrow-ddf8c922b6d643e1936c970dbcb07928-0-4\" stroke-width=\"2px\" d=\"M245,352.0 C245,89.5 920.0,89.5 920.0,352.0\" fill=\"none\" stroke=\"currentColor\"/>\n",
       "    <text dy=\"1.25em\" style=\"font-size: 0.8em; letter-spacing: 1px\">\n",
       "        <textPath xlink:href=\"#arrow-ddf8c922b6d643e1936c970dbcb07928-0-4\" class=\"displacy-label\" startOffset=\"50%\" side=\"left\" fill=\"currentColor\" text-anchor=\"middle\">cc</textPath>\n",
       "    </text>\n",
       "    <path class=\"displacy-arrowhead\" d=\"M920.0,354.0 L928.0,342.0 912.0,342.0\" fill=\"currentColor\"/>\n",
       "</g>\n",
       "\n",
       "<g class=\"displacy-arrow\">\n",
       "    <path class=\"displacy-arc\" id=\"arrow-ddf8c922b6d643e1936c970dbcb07928-0-5\" stroke-width=\"2px\" d=\"M245,352.0 C245,2.0 1100.0,2.0 1100.0,352.0\" fill=\"none\" stroke=\"currentColor\"/>\n",
       "    <text dy=\"1.25em\" style=\"font-size: 0.8em; letter-spacing: 1px\">\n",
       "        <textPath xlink:href=\"#arrow-ddf8c922b6d643e1936c970dbcb07928-0-5\" class=\"displacy-label\" startOffset=\"50%\" side=\"left\" fill=\"currentColor\" text-anchor=\"middle\">conj</textPath>\n",
       "    </text>\n",
       "    <path class=\"displacy-arrowhead\" d=\"M1100.0,354.0 L1108.0,342.0 1092.0,342.0\" fill=\"currentColor\"/>\n",
       "</g>\n",
       "\n",
       "<g class=\"displacy-arrow\">\n",
       "    <path class=\"displacy-arc\" id=\"arrow-ddf8c922b6d643e1936c970dbcb07928-0-6\" stroke-width=\"2px\" d=\"M1295,352.0 C1295,264.5 1435.0,264.5 1435.0,352.0\" fill=\"none\" stroke=\"currentColor\"/>\n",
       "    <text dy=\"1.25em\" style=\"font-size: 0.8em; letter-spacing: 1px\">\n",
       "        <textPath xlink:href=\"#arrow-ddf8c922b6d643e1936c970dbcb07928-0-6\" class=\"displacy-label\" startOffset=\"50%\" side=\"left\" fill=\"currentColor\" text-anchor=\"middle\">poss</textPath>\n",
       "    </text>\n",
       "    <path class=\"displacy-arrowhead\" d=\"M1295,354.0 L1287,342.0 1303,342.0\" fill=\"currentColor\"/>\n",
       "</g>\n",
       "\n",
       "<g class=\"displacy-arrow\">\n",
       "    <path class=\"displacy-arc\" id=\"arrow-ddf8c922b6d643e1936c970dbcb07928-0-7\" stroke-width=\"2px\" d=\"M1120,352.0 C1120,177.0 1440.0,177.0 1440.0,352.0\" fill=\"none\" stroke=\"currentColor\"/>\n",
       "    <text dy=\"1.25em\" style=\"font-size: 0.8em; letter-spacing: 1px\">\n",
       "        <textPath xlink:href=\"#arrow-ddf8c922b6d643e1936c970dbcb07928-0-7\" class=\"displacy-label\" startOffset=\"50%\" side=\"left\" fill=\"currentColor\" text-anchor=\"middle\">dobj</textPath>\n",
       "    </text>\n",
       "    <path class=\"displacy-arrowhead\" d=\"M1440.0,354.0 L1448.0,342.0 1432.0,342.0\" fill=\"currentColor\"/>\n",
       "</g>\n",
       "</svg></span>"
      ],
      "text/plain": [
       "<IPython.core.display.HTML object>"
      ]
     },
     "metadata": {},
     "output_type": "display_data"
    }
   ],
   "source": [
    "displacy.render(my_doc ,style='dep', jupyter=True)\n",
    "# dependencies"
   ]
  },
  {
   "cell_type": "code",
   "execution_count": 19,
   "metadata": {},
   "outputs": [
    {
     "name": "stdout",
     "output_type": "stream",
     "text": [
      "The --- robot\n",
      "robot --- displayed\n",
      "displayed --- displayed\n",
      "its --- functions\n",
      "functions --- displayed\n",
      "on --- functions\n",
      "the --- screen\n",
      "big --- screen\n",
      "screen --- on\n",
      "  --- screen\n",
      "The --- audience\n",
      "audience --- applauded\n",
      "applauded --- displayed\n"
     ]
    }
   ],
   "source": [
    "# Dependency Parsing\n",
    "# Access head word of every token\n",
    "\n",
    "my_text=\"The robot displayed its functions on the big screen  The audience applauded\"\n",
    "my_doc = nlp(my_text)\n",
    "for token in my_doc:\n",
    "    print(token.text, '---', token.head.text)\n"
   ]
  },
  {
   "cell_type": "code",
   "execution_count": 20,
   "metadata": {},
   "outputs": [
    {
     "name": "stderr",
     "output_type": "stream",
     "text": [
      "[nltk_data] Downloading package averaged_perceptron_tagger to\n",
      "[nltk_data]     /Users/devaggarwal/nltk_data...\n",
      "[nltk_data]   Package averaged_perceptron_tagger is already up-to-\n",
      "[nltk_data]       date!\n"
     ]
    },
    {
     "data": {
      "text/plain": [
       "True"
      ]
     },
     "execution_count": 20,
     "metadata": {},
     "output_type": "execute_result"
    }
   ],
   "source": [
    "# Named Entity Recognition\n",
    "# identifies named entities such as people, locations, organizations\n",
    "from nltk import word_tokenize, pos_tag\n",
    "nltk.download('averaged_perceptron_tagger')"
   ]
  },
  {
   "cell_type": "code",
   "execution_count": 21,
   "metadata": {},
   "outputs": [
    {
     "name": "stdout",
     "output_type": "stream",
     "text": [
      "[('John', 'NNP'), ('and', 'CC'), ('Emily', 'NNP'), ('are', 'VBP'), ('from', 'IN'), ('India', 'NNP'), (',', ','), ('they', 'PRP'), ('work', 'VBP'), ('at', 'IN'), ('Yahoo', 'NNP')]\n"
     ]
    }
   ],
   "source": [
    "sentence = \" John and Emily are from India , they work at Yahoo\"\n",
    "tokens=word_tokenize(sentence)\n",
    "tokens_pos=pos_tag(tokens)\n",
    "print(tokens_pos)"
   ]
  },
  {
   "cell_type": "code",
   "execution_count": 22,
   "metadata": {},
   "outputs": [
    {
     "name": "stderr",
     "output_type": "stream",
     "text": [
      "[nltk_data] Downloading package maxent_ne_chunker to\n",
      "[nltk_data]     /Users/devaggarwal/nltk_data...\n",
      "[nltk_data]   Package maxent_ne_chunker is already up-to-date!\n",
      "[nltk_data] Downloading package words to\n",
      "[nltk_data]     /Users/devaggarwal/nltk_data...\n",
      "[nltk_data]   Package words is already up-to-date!\n"
     ]
    },
    {
     "name": "stdout",
     "output_type": "stream",
     "text": [
      "(S\n",
      "  (PERSON John/NNP)\n",
      "  and/CC\n",
      "  (PERSON Emily/NNP)\n",
      "  are/VBP\n",
      "  from/IN\n",
      "  (GPE India/NNP)\n",
      "  ,/,\n",
      "  they/PRP\n",
      "  work/VBP\n",
      "  at/IN\n",
      "  (ORGANIZATION Yahoo/NNP))\n"
     ]
    }
   ],
   "source": [
    "from nltk import ne_chunk\n",
    "nltk.download('maxent_ne_chunker')\n",
    "nltk.download('words')\n",
    "named_entity=ne_chunk(tokens_pos)\n",
    "print(named_entity)"
   ]
  },
  {
   "cell_type": "code",
   "execution_count": 53,
   "metadata": {},
   "outputs": [
    {
     "name": "stdout",
     "output_type": "stream",
     "text": [
      "London -- GPE\n",
      "English -- LANGUAGE\n"
     ]
    }
   ],
   "source": [
    "# Easier to use spaCy\n",
    "sentence=' The building is located at London. It is the headquaters of Yahoo. John works there. He speaks English'\n",
    "doc = nlp(sentence)\n",
    "for entity in doc.ents: #ents for entities\n",
    "    print(entity.text, '--', entity.label_)"
   ]
  },
  {
   "cell_type": "code",
   "execution_count": 24,
   "metadata": {},
   "outputs": [
    {
     "data": {
      "text/html": [
       "<span class=\"tex2jax_ignore\"><div class=\"entities\" style=\"line-height: 2.5; direction: ltr\"> The building is located at \n",
       "<mark class=\"entity\" style=\"background: #feca74; padding: 0.45em 0.6em; margin: 0 0.25em; line-height: 1; border-radius: 0.35em;\">\n",
       "    London\n",
       "    <span style=\"font-size: 0.8em; font-weight: bold; line-height: 1; border-radius: 0.35em; vertical-align: middle; margin-left: 0.5rem\">GPE</span>\n",
       "</mark>\n",
       ". It is the headquaters of Yahoo. John works there. He speaks \n",
       "<mark class=\"entity\" style=\"background: #ff8197; padding: 0.45em 0.6em; margin: 0 0.25em; line-height: 1; border-radius: 0.35em;\">\n",
       "    English\n",
       "    <span style=\"font-size: 0.8em; font-weight: bold; line-height: 1; border-radius: 0.35em; vertical-align: middle; margin-left: 0.5rem\">LANGUAGE</span>\n",
       "</mark>\n",
       "</div></span>"
      ],
      "text/plain": [
       "<IPython.core.display.HTML object>"
      ]
     },
     "metadata": {},
     "output_type": "display_data"
    }
   ],
   "source": [
    "displacy.render(doc, style='ent', jupyter=True)"
   ]
  },
  {
   "cell_type": "code",
   "execution_count": 25,
   "metadata": {},
   "outputs": [
    {
     "name": "stdout",
     "output_type": "stream",
     "text": [
      "['Kelly', 'Slater', 'Brevard', 'County', 'Save', 'Elon', 'Musk', 'Brad', 'Pitt', 'Will', 'Rogers', 'Starliner', 'Brevard', 'Bill', 'Mick', 'Brevard', 'Viera', 'Adamson', 'Road', 'Robert', 'De', 'Niro', 'Tropical', 'Storm', 'Bermuda', 'Palm', 'Bay', 'Astronaut', 'Rockledge', 'Brevard', 'HS', 'Nelson', 'Moya', 'Brevard', 'Jail', 'Tony', 'Rowell', 'Bellaby', 'Human', 'Harry', 'Anderson', 'Palm', 'Bays', 'Sitting', 'Man', 'Brevard', 'Atlas', 'V', 'Eau', 'Gallie', 'Brevard', 'Bill', 'Cotterell', 'Grandma', 'Bunny', 'Carter', 'Stewart', 'Brevard', 'Cinderella', 'Brevard', 'Dark', 'Arts', 'Jack', 'Marella', 'Flavor', 'Rockledge', 'Ashlyn', 'Harris', 'Palm', 'Bay', 'Kicking', 'Brevard', 'Andy', 'Anderson', 'Brevard', 'Rangel', 'Bennett', 'Judy', 'Bryan', 'Roub', 'Staph', 'Viera', 'Jack', 'Daniels', 'Brevard', 'Dogs', 'Rockledge', 'Viera', 'Holmes', 'Emmy', 'Brevard', 'Cottage', 'Rose', 'Brevard', 'Erin', 'Baird', 'Steve', 'Martin', 'Martin', 'Short', 'Ashley', 'HomeStore', 'Gabriel', 'John', 'Daly', 'Viera', 'Nurse', 'Brevard', 'County', 'Brevard', 'Tamara', 'Carroll', 'Monsantos', 'Roundup', 'Alisa', 'Rendina', 'Bill', 'Nye', 'Buckaroo', 'Ball', 'Rockledge', 'Brevard', 'Michael', 'Galvano', 'Patrick', 'Shores', 'Travis', 'Proctor', 'Michael', 'Bloom', 'Brevard', 'Brevard', 'Viera', 'Elizabeth', 'Warren', 'Bernie', 'Sanders', 'Brevard', 'Harris', 'L3', 'Brevard', 'Buzz', 'Aldrins', 'Stanford', 'Ping', '-', 'pong', 'Harris', 'Carter', 'Stewart', 'Brevard', 'Donald', 'Trumps', 'Allen', 'Taylor', 'Mike', 'Martin', 'Jr', 'Weather', 'Brevard', 'Brevard', 'Pol', 'Potâ€', 'Nuon', 'Chea', 'Kelly', 'Slater', 'Hobgood', 'Eau', 'Gallie', 'Family', 'Starliner', 'Kacey', 'Walker', 'Brevard', 'County', 'How', 'Ron', 'DeSantis', 'Jon', 'Wang', 'Ronsisvalle', 'Medical', 'marijuana', 'Felons', 'Rep', 'Randy', 'Fine']\n"
     ]
    }
   ],
   "source": [
    "news_articles = 'Restaurant inspections: Space Coast establishments fare well with no closures or vermin Despite strong talk Tallahassee has a lot more to do for Indian River Lagoon | Opinion Kelly Slater-coached surfer from Cocoa Beach wins national title in Texas Despite parachute mishap Boeing Starliner pad abort test a success Vote for FLORIDA TODAY Community Credit Union Athlete of the Week for Oct 28-Nov 2 Brevard diners rave about experiences at Flavor on the Space Coast restaurants Heres what you need to know about Tuesdays municipal elections in Brevard County Save the turtles rally planned to oppose Satellite Beach hotel-condominium project Elon Musk wants humans to colonize space Brad Pitt shows thats easier said than done Google honors actor Will Rogers with new Doodle SpaceX targeting faster deployment of Starlink internet-beaming satellites Rockledge Cocoa hold while Merritt Island gains traction in state football polls Boeing launches and lands Starliner capsule for pad abort test in New Mexico Eight of the 10 most dangerous metro areas for pedestrians are in Florida report says Brevard faith leaders demand apology in open letter to Bill Mick How a Delaware researcher discovered a songbird can predict hurricane seasons Open doors change lives: United Way of Brevard kicks off 2019 campaign Florida man pleads guilty to killing sawfish by removing extended nose with power saw One-woman comedy Excuse My French at Viera Studio dives into authors mind Letters and feedback: Sept 19 2019 Viera talk will highlight technology used for dementia patients Adamson Road open after dump truck crash spilled sand and fuel one injured From the mob to mob movies with Robert De Niro: Meet Larry Mazza former hitman Irishman consultant Tropical Storm Jerry getting stronger in Atlantic; Hurricane Humberto nearing Bermuda Palm Bay Halloween party homicide suspect turns self in police say Fall playoffs: Satellite XC boys win region; Titusville swimmers second Sounds of celebration during Puerto Rican Day Parade in Palm Bay Tractor trailer fire extinguished on I-95 in Cocoa lanes open Logan Harvey bowls a 279 to help Astronaut beat Space Coast in battle of undefeated teams Letters and feedback: Sept 18 2019 Accelerated bargaining a bust as teachers union walks out on second day of pay talks Traffic Alert: Puerto Rican Day Parade set for Palm Bay County commissioners debate biosolids at first of two public hearings US 1 widening in Rockledge under study along with sidewalks and bike lanes Letters and feedback: Nov 3 2019 Titusville man indicted on first-degree murder charge Rockledge Cocoa lead 8 Brevard HS football teams into playoffs Space Coast Junior Achievement accepting business hall of fame nominations Why Brevards proposed moratorium on sewage sludge isnt enough |Rangel Brevard high school football standings after Week 4 Starbucks might build new store at old Checkers site in West Melbourne on US 192 Police search for Palm Bay shooting suspect in Orlando area Does your drivers license have a gold star? Well you need one Cocoa man charged with arson in blaze at triplex where 16 children were celebrating a birthday Unit and lot owners may inspect their ledgers upon written request Palm Bay veteran officer Nelson Moya chosen as police chief By the numbers: Your link to every state salary and what high ranking Florida officials make Longtime state county legislative aide Furru honored by County Commission Week 11: Rockledge pulls out BBQ win; EG Palm Bay Astro win rivalry games County commissioners allocate $446 million to repair South Beaches after Hurricane Dorian Tour of Brevard: Holy Trinity Tigers County Commission begins shakeup of its bloated advisory boards while adding term limits Mystery Jesus plaque washes ashore near Melbourne Beach thanks to Hurricane Humberto waves Widow of combat veteran who died after fight at Brevard Jail appeals to governor Health calendar: June 27-July 4 Going surfing this weekend? Check our wave forecast Have you ever seen a turtle release? Heres your chance Darkness turns to day as SpaceX Falcon Heavy launches from Kennedy Space Center Losing hair in strange places? It could be Alopecia areata Golf tip: Pairing and tee times on the PGA Tour NOAA updates projections saying above normal season could see 5-9 hurricanes 2-4 of them major Cape Canaveral Hospital relocation: Loss of a landmark hopeful future for healthcare and land How do I get adult child to move out start own life? The Atlas V rockets jellyfish in the sky Scores: High school football Week 11 in Brevard County Florida gator caught on camera munching on plastic at St Marks National Wildlife Refuge Q&A: New Melbourne head football coach Tony Rowell Does the First Amendment go too far? | Opinion FHSAA says it has a contingency plan if football associations strike but wont reveal it Tropical Depression Ten forms in central Atlantic; Hurricane Humberto continues to strengthen Updates: Watch SpaceX launch its Falcon Heavy rocket from Kennedy Space Center in Florida Letters and feedback: May 9 2019 The Good Stuff: Soccer star makes Wheaties cover cookies in space and more Highly anticipated pad abort test of Boeingâ€™s Starliner spacecraft is Monday morning Health calendar: Sept 19-26 Naked man running through Titusville Walmart parking lot arrested Lacking money and manpower West Melbourne considers swapping school SROs for armed guards Worst best airports in country: 3 Florida airports make Top 5 worst list Colorado STEM school shooting impacted my family: When will we say enough? | Bellaby Human ashes Legos and a sandwich: Strange things we sent into space Massive 2600-acre burn underway near Brevard County line Health Pro: Trip to Philippines validated nurses career decision Harry Anderson Palm Bays Sitting Man exposes gaps in helping the homeless Brevard School Board splits 4-1 in favor of district plan for teacher pay; union vows war Whos No 1? See the Brevard high school football rankings after Week 4 3 people taken into custody after multiple agencies tracked them at high speeds across Central Florida As dawn breaks over Florida ULA Atlas V rocket lights up morning sky Why breast cancer was called Nuns disease Space Coast-based Rocket Crafters partners with Swiss tech giant RUAG Investigation continues for Palm Bay double killing in 2018 Canâ€™t breastfeed? Tips to provide same nutrition to baby Former Florida Tech golfer Iacobelli wins playoff in Michigan for third pro title Baseball bliss every 50 years: Letâ€™s go Mets! Letâ€™s go Nats! 5 tips to make your holiday travel stress-free Updates: ULA launches Atlas V rocket military satellite from Cape Canaveral Andrew Reed bowls 274 in Eau Gallie win over Satellite Space industry propels Brevard economy into optimistic future; highlights from EDC investors meeting Governor DeSantis signs bill geared toward expanding vocational training Outage leaves 12500 customers without power in Melbourne for nearly an hour Weak cold front brings fall weather after unusually warm October on Space Coast 321 Launch: The space news you might have missed Teacher pay: Union opens pay talks with raise demand supplement for veteran teachers Tour of Brevard: Bayside Bears Youth fishing tournament coming Saturday to Melbourne President Trump heres what Hurricane Michael damage still looks like today Letters and feedback: Aug 8 2019 Man leads police on 100 mph chase through Melbourne Palm Bay Puerto Rican parade to take place this weekend in Palm Bay Viera-based USSSA Pride depart from pro softball league Tip of organized theft ring targeting boats motors leads to arrest of 3 men in Melbourne Multiple crashes slow I-95 traffic near Melbourne Is it time to reconsider how free speech should be? | Bill Cotterell SPCA of Brevard takes influx of cats and dogs from Glades County Brevard residents share some of their favorite recent dining experiences Tuesdays brewery running tour stops at Florida Beer Co in Cape Canaveral 89-year-old Tallahassee Grandma Bunny battles 6-foot snake after it eats visiting birds The horrors of Dorian parallel another nearby tragedy of historic proportions EFSCs Carter Stewart named NJCAA Region 8 Pitcher of the Week Titusville teenager charged with murder of grandfather If Trump bans vape flavors Brevard shops say theyll be out of business Cabana: NASAs Artemis is space explorations next giant leap | Opinion Florida continues cutting phone cords BSOs Confessore starting 25th year as music director High school sports results: May 7 Libraries busy with summer reading programs Four hurricanes in six weeks? Remember 2004 the year of hurricanes Letters and feedback: Nov 2 2019 Letters and feedback: May 8 2019 As Brevard kids head back to school here are five things to make lunchtime happy healthy Palm Bay police investigate overnight shooting that left one dead Rent takes the stage at two playhouses Cinderella Brighton Beach Memoirs arrive on Brevard stages this weekend Junes Saharan dust setting up right conditions for red tide but still too soon to tell Wizarding World of Harry Potter: Dark Arts unleashed on Hogwarts Castle at Universal Orlando Health First restructuring: What we know (and what we dont) From Jack in the Box to In-N-Out Burger: 7 restaurant chains missing in Florida SpaceX anomaly: No further action needed on Crew Dragon explosion cleanup Vietnam War mural pits residents vs Florida community Matter settled  unhappily British cruise line Marella to sail from Port Canaveral in 2021 Kids are at risk as religious exemptions to vaccines spike in Florida Brevard County crime rate falls in 2018 reflecting statewide trend according to FDLE report Florida-Georgia FSU-Miami: Why Saturday afternoon is a college football party in Florida Restaurants in Viera Suntree Port Canaveral Palm Bay Melbourne Beach draw Flavor raves Vote for the FLORIDA TODAY Community Credit Union Athlete of the Week for Sept 9-14 Whats happening May 15-21: Concert in Cocoa summer camps fun fair in Melbourne Port Authority Secretary/Treasurer Harvey seeks more public input at evening meetings SpaceX Falcon Heavy rocket launch: Where to watch from Space Coast Treasure Coast Volusia County Tallahassee Here are 10 of Arizonas most photogenic spots Some of them might surprise you Rockledge police search for suspects after armed robbery Kardashian production features Palm Bay homicide involving sisters-in-law FLORIDA TODAY journalist The holidays are almost here; Space Coast cooks are prepping special meals now How to watch tonights SpaceX Falcon Heavy launch from Kennedy Space Center in Florida New state budget spending wish list includes bug studies lionfish contests stronger coastlines Wheaties: Team USA soccer star Ashlyn Harris make cereal cover and it costs $23 a box Letter carriers Stamp Out Hunger food drive is Saturday May 11 Suzy Fleming Leonard: Fourth-graders talk about journalism share favorite restaurants Falcon Heavys night launch may be seen across portion of Sunshine State Police: Palm Bay teacher jerked autistic student from bus faces abuse charge Kicking axe: Urban axe throwing makes its debut in Brevard as trending sport stress reliever Palm Bay official Andy Anderson hired as Mexico Beach city administrator on Florida Panhandle Daddy Duty: Are we celebrating Mothers Day the right way? Father of 6 dies trying to save sons from rip current in Cocoa Beach Its time we address lack of affordable housing on Space Coast | Opinion Orlando Pride soccer player from Brevard diagnosed with breast cancer Space Coast bus system: Lets peck away at this problem County Commission chair says Do lovebugs have a purpose beyond annoying us all twice a year? Hurricane Humberto continues to strengthen swells expected to affect East-Central Florida surf One more launch this week; Things to know about ULA Atlas V launch from Cape Canaveral Free self-defense class for women this Friday in Cocoa Beach The farce behind blaming video games for El Paso Dayton mass shootings | Rangel Teacher pay talks take new shape as school district and union vow to work together First-place USSSA Pride on hot streak; Bennett on ESPNs Top Plays A legacy of giving: When it comes to giving back Judy and Bryan Roub lead by example Staph infection can come from ocean water beach sand; Florida man gets it from sandbar Its Launch Day! Things to know about SpaceX Falcon Heavy launch from Kennedy Space Center Viera 6 more Brevard HS softball teams enter playoffs Enjoy Jack Daniels tastings in Cocoa Village and Melbourne this month Brevard County location comes in at No 7 on list of US cities that get the most sun Letters and feedback: Oct 31 2019 Vietnam veteran receives settlement from Veterans Affairs  after waiting 20 years Brevard restaurants with outdoor seating wage war against lovebugs Aldi adds beer sparkling wine and dog treats to its collection of Advent calendars If millennials choose socialism fine Just dont make this mistake Gardening: Adding a tree to your Florida landscape? Southern redcedar is a great option Big Brevard high school football rivalries vary in postseason implications 6 hurricanes and 12 named storms predicted for remainder of 2019 hurricane season Cocoa man suspected of firing shots with unwitting mother in tow faces multiple charges Dogs on the beach? County Commission rejects proposal to allow dogs on South Brevard beaches Letters and feedback: Sept 15 2019 Despite weather odds SpaceX launches Falcon 9 rocket from Cape Canaveral Cyberstalking of alleged battery victim lands Rockledge man back in jail Winds are coming back again but inshore fishing is excellent for redfish and trout Exclusive: Trump administration sets plans for 2019 hurricane season after wakeup call of recent disasters Melting Pot: Intimacy of a shared meal makes this Viera spot perfect for date night The Chefs Table: Fine meat seafood draw diners to this Suntree favorite Holmes nurse arrested accused of sexual battery on a patient Tour of Brevard: Satellite Scorpions Djons Steak & Lobster House: Discover old-Florida elegance in Melbourne Beach restaurant Judicial Nominating Commission chair resigns claims governors office interfered with independence Medical marijuana firms seek to open more storefronts in Florida Brevard School votes 4-1 to support superintendents plan for teacher raises; audience not happy Tracking Brevards stars: Arena football champ UCF star PBA rookie lead the way Brevard school district miscalculated attrition savings finds $15 million for teacher pay Brevard high school cross country honor roll Oct 31 NASA Kennedy Space Center team wins Emmy for coverage of SpaceX mission Golf tip: Making adjustments to correct your swing Cruise ship rescues and mishaps: 6 times emergency struck on Royal Caribbean Carnival more Updates: SpaceX launches Falcon 9 from Cape Canaveral Air Force Station Secular group challenges In God We Trust motto on Brevard sheriffs patrol vehicles Chemicals in sunscreen seep into your bloodstream after just one day FDA says Cottage Rose mural dispute resolved in Indialantic after owner applies for permit Humberto strengthens into a hurricane as it moves away from Space Coast; NHC watching 2 more Planting herbs to cutting back on water heres what to do in your Brevard yard this month Viera Suntree Little League team heads to Michigan for Junior World Series We must prevent human trafficking through education | Opinion Please dont eat the deer Family spots Florida panther wandering around Estero backyard Man found hanging onto side of kayak in Atlantic Ocean off Patrick Air Force Base SpaceX set to launch Falcon Heavy on mission with 24 payloads â€“\\xa0including human ashes Erin Baird is 2019 Volunteer of the Year finalist in FLORIDA TODAY Volunteer Recognition Awards ZZ Top Steve Martin and Martin Short coming to King Center Needy Brevard students sleep easier on new beds donated from Ashley HomeStore These fitness trends are worth sticking with over time Florida saw fewer infections from Vibrio vulnificus (aka flesh-eating bacteria) in 2018 Health calendar: April 25-May 2 Young actresses shine in Matilda at Titusville Playhouse Freshman quarterback Gabriel leads UCF over Stanford in Orlando John Daly is 2019 Volunteer of the Year finalist in FLORIDA TODAY Volunteer Recognition Awards Health Pro: Doctors interest grew out of childhood health issues More strong storms move eastward over Brevard; funnel clouds possible in Viera Nurse at Holmes Regional Medical Center arrested on suspicion of sexual battery Strong isolated showers heat impacting Brevard County Brevard firefighters widow wins $9 million verdict in Dominos Pizza delivery death Housing providers may be prohibited from rejecting renters on basis of arrest record 10-foot great white shark Miss May pings off Satellite Beach Palm Bay man 22 dies in overnight crash on Floridas Turnpike Tamara Carroll is 2019 Volunteer of the Year finalist in FLORIDA TODAY Volunteer Recognition Awards Tropical Storm Humberto not expected to affect Space Coast; NHC watching two more disturbances Theater veteran Blackledge passes away unexpectedly Ten dead issues from the 2019 legislative session Letters and feedback: June 23 2019 Rockledge Cocoa win big as Space Coast takes Holy Trinity in OT Surfers can enjoy chest-high waves most of weekend in Brevard Plan ahead for Aug 14-20: Space Coast Symphony performs Mikado Chef Larry tweaks hours Daylight saving time ends on Nov 3 Here are 7 facts to know about the time change Two new Royal Caribbean ships including second largest in world move to Port Canaveral Fla Sen Debbie Mayfield files bill to define e-cigarettes liquid nicotine as tobacco products Escape the hustle and bustle for a western getaway Missing Palm Bay teen found in South Carolina; mother arrested police say Impossible burger Impossible Cottage Pie make 2019 Epcot Food and Wine Festival menu Got bats? Why you need to get rid of them by Tax Day 2 charged with attempted murder; Titusville police say they pistol-whipped waterboarded force-fed him dog food Bicyclist dies in hit-and-run crash on US 1 near Cocoa Group: St Johns River pollution threatens water supplies Rockledge man charged after hoax to shoot up Merritt Island Walmart Man awarded $80M in lawsuit claiming Monsantos Roundup causes cancer Astronauts Alisa Rendina won FLORIDA TODAY Community Credit Union Athlete of the Week vote Alligators and airboats: How to explore Everglades National Park in one day Longtime educator church mother and humanitarian Johnnie Mae Riley remembered in Palm Bay George Clooney astronauts to attend black-tie event at Kennedy Space Center High school sports results: March 27 Bill Nye visits Cocoa Beach ahead of SpaceX Falcon Heavy launch from Kennedy Space Center Health First to relocate Cape Canaveral Hospital to Merritt Island open new facilities Letters and feedback: Aug 7 2019 Duran to host top area amateur golfers this weekend Buckaroo Ball benefits Harmony Farms Get ready to rumble: Atlas V blasting off early Thursday morning War on lovebugs: Social media reactions tweets memes about pesky bugs cars windshields Master association that contains condominiums may be able to collect capital contribution The new LEGO Movie World opens at LEGOLAND River Rocks: Enjoy fresh seafood and river views at this Rockledge tradition March 27: Panthers Walk It Off 10 takeaways from the presidents campaign kickoff visit to Orlando Cocoa man arrested on manslaughter charges after Sharpes shooting Corrections & Clarifications Accused burglars hit five south Brevard stores before Melbourne officer shot one of them Brevard family to receive Filipino World War II veterans Congressional Gold Medal NASA: Want to go to the moon in five years? We need more money How to REALLY clean lovebugs off your windshield car house Top party schools: Florida Florida State make it to top of Princeton Reviews 2020 list Live scores: High school football Week 4 in Brevard County Restaurant inspections: Happy Kitchen in West Melbourne Divine Grace in Palm Bay closed after inspections School district sticks to $770 raise offer for teachers; special magistrate getting involved Candidate lineup is set for 2019 municipal special district elections in Brevard Death investigation underway after mans body found in Titusville ditch November hurricane forecast: Season not technically over but its over | WeatherTiger Tyndall Air Force Bases future remains uncertain after devastation from Hurricane Michael Whats behind a low performing school? Crummy parents | Opinion Well known Chevrolet dealership has The Right Stuff Lovebugs are back Many hate them Experts say theyre here for good The lax disciplinary policies that caused\\xa0Parkland massacre may have spread to your school Port Canaveral commissioners tackle parking issues: 10 things to know Melbourne woman injured in crash dies from her injuries; police looking for witnesses Senate President Galvano calls for Florida lawmakers to focus on mass shootings Governor DeSantis approves $91 billion budget slashes $133 million in local projects Letters and feedback: March 28 2019 Vote for 321prepscom Community Credit Union Athlete of the Week for April 29-May 4 South Patrick Shores approved for federal cleanup program Island H2O Live! water park in Kissimmee opens: Make the plunge or chill in lazy river Travis Proctor is 2019 Citizen of the Year finalist in FLORIDA TODAY Volunteer Recognition Awards Vietnam War 50th anniversary to be remembered at Cape Canaveral National Cemetery Its launch day! Things to know about SpaceX Falcon 9 launch from Cape Canaveral NASA gave Artemis contractors bonuses despite delays and cost overruns GAO says Michael Bloom is 2019 Citizen of the Year finalist in FLORIDA TODAY Volunteer Recognition Awards Health Pro: Eye doctor honed skills on aircraft carrier Brevard pitchers fare well in state horseshoe event The real reason NASAs all-female spacewalk is not happening Hint: Its not discrimination Port Canaveral aquarium the best use of tourism dollars | Opinion SpaceX Falcon Heavy will carry worlds first green rocket fuel mission School District union at odds on whats actually available for teacher raises | Opinion Nuclear power is too costly and too risky Jarvis Wash is 2019 Citizen of the Year finalist in FLORIDA TODAY Volunteer Recognition Awards SpaceX Dragon installed at ISS after launch from Cape Canaveral Rare phenomenon: Hail damage from unusual thunderstorm has Brevard residents talking Signs you live on the Space Coast Titusville couple charged with neglect after infant found malnourished Health coaches a personal way to help you meet goals New Viera elementary school to break ground in fall fast-tracked to open August 2020 Phase out nuclear power? Elizabeth Warren and Bernie Sanders locked in absurd arms race Strange days: Space Coast gets freak hail flaming meteor mysterious rumble red tide over 6 months Four women arrested on prostitution charges in ongoing Melbourne enforcement detail Whose name is on deed - partner or spouse? It matters a lot Florida should steer clear of drug importation from other countries | Opinion Melbourne police investigate Palm Bay Road shooting Brevard bowlers head to state tournament off district wins Florida Historical Societys May 16-18 conference: Countdown to History: Ice Age to the Space Age Turning the Toxic Tide: Florida must address the problem of human waste Contributions pour in to group seeking to ban possession sale of assault weapons in Florida Why Disney World sweets treats desserts are SO worthy of Instagram Satellite Beach girl 10 leads charge for organ donation Poliakoff: Community development district offers different advantages and disadvantages to an HOA Florida Tech in Melbourne hosts International Dinner with food from South Latin America From discovering water to snapping selfies: The lasting memories of Mars rover Opportunity Charges dropped against Texas man after comments against Cocoa Beach hotel werent direct specific threat Brevard Federation of Teachers just cant say yes to raise offers | Opinion How Mars Opportunity rover ranks in list of more than 1000 unmanned space missions by NASA since 1958 321 Flavor members rave about Fresh Scratch Bistro Sushi Factory and Beachside Seafood Texas man recovering after shark bite in Florida Buckeye the manatee rescued again by SeaWorld Rain hail pelts north central Brevard County causing widespread damage Regulators approve merger of Harris L3; deal to close June 29 Teachers approve largest pay raise in years but will it keep them in Brevard? Restaurant review: Continental Flambe in Melbourne shows great promise Weak cool front could bring torrential rain damaging winds to Space Coast Officials: Removing Beachline earthen causeways would improve Banana River water quality Buzz Aldrins outfit is everything in photo of last remaining Apollo astronauts Voting Republican only helps if youre rich | Opinion Homelessness: A national problem with a local solution EPA plans to regulate cancer-causing chemicals found in Americas drinking water UCF has chance to wow recruits playoff voters with a win over Stanford Ping-pong-sized hail pounds Space Coast as severe thunderstorms move through area Harris CEO optimistic about merger finances as deal with L3 nears completion March 26: EFSCâ€™s Carter Stewart named NJCAA Region VIII Pitcher of the Week Knife-wielding suspect leads deputies officers on foot chase in Melbourne 4 Brevard winners in girls regional basketball Thursday March 26: Womenâ€™s Golf Finishes Runner-Up at Barry Invite Some seek healing remembrance at arrival of Vietnam War replica wall High school sports results: March 26 Following surge in discipline problems Brevard students ask lawmakers to address vaping in schools Titusville man 21 pronounced dead after trying to make a U-turn on South Street Donald Trumps criminal justice reform shows results | Opinion Florida cold case solved 22 years later after Google Earth satellite image shows missing mans car Health calendar: Aug 8-15 Tracking Brevards stars: Harris to World Cup; Dawson in golf hunt; Allen Taylor hitting 300 Satellite Beach hotel condo towers homes slated for 27 acres by Hightower Beach park Letters and feedback: Sept 14 2019 Mike Martin Jr to be named Florida States new baseball coach Golf tip: Hit down on hybrids similar to how you hit an iron Stormy weather moves across Space Coast bringing lightning heavy rain Commission OKs pay raises for 625 county employees to address disparities turnover High school sports results: Feb 14 weVENTURE is 2019 Organization of the Year finalist in FLORIDA TODAY Volunteer Recognition Awards Man taken to hospital after domestic incident in Titusville Brevard school district considers selling $800000 in unused land Weather looks OK for SpaceX Falcon Heavy launch from Kennedy Space Center 321 Flavor: Margarita tops the list of Brevards favorite cocktails UCF experiment and Citronaut fly to space on Blue Origins New Shepard Bridges sex assault: Victimâ€™s family sues nonprofit caregiver over pregnancy Sheriff Ivey and Brevard emergency officials send mixed messages during Dorian New proposal on dog cat sales at pet stores is less restrictive than previous one Space Coast Honor Flight is 2019 Organization of the Year finalist in FLORIDA TODAY Volunteer Recognition Awards It goes by so quickly: Brevard teachers back to work as days count down to school County commissioners reject lagoon funding plan saying they want less money for muck projects Yuck! Hypodermic needles stabbing employees inside Brevard recycling plant Hard-line anti-illegal immigration group works to sway sanctuary cities bill Titusville High School principal retires amid accusations of hostile environment Pol Potâ€™s deputy Nuon Chea architect of bloody Khmer Rouge policy dead at 93 in Cambodia NASAs new goal: Land astronauts on the moon by 2024 Going surfing this weekend? Check our forecast Neighbor Up is 2019 Organization of the Year finalist in FLORIDA TODAY Volunteer Recognition Awards Severe storms bring wind lightning and possible hail across Brevard Starbucks in Indialantic West Melbourne may move to larger stores with drive-thru windows SpaceX Falcon Heavy: Why everyone should watch this night launch from Kennedy Space Center Fishing report: Calm seas and good fishing ahead Two World Series commercials feature Brevard celebrities Letters and feedback: May 5 2019 In latest motion US Attorney confirms multiple investigations in Tallahassee Lane 70 softball team wins spring tournament Palm Bay police double down on nightclub safety following four violent episodes Relativity Space signs deal to deliver small satellites to more orbits HBO documentary new surf movie spotlight surf legends Kelly Slater Hobgood twins Plan ahead for April 3-10: Music in Melbourne adult prom in Titusville; art in Eau Gallie Family grieves woman fatally struck by car near Lous Blues bar in Melbourne At Cape Canaveral SpaceX kicks off Star Wars Day with smoke and fire Updates: SpaceX launches Falcon 9 from Cape Canaveral to ISS sticks drone ship landing Letters and feedback: March 27 2019 Florida Tech to host event celebrating Apollo 11 anniversary and future of US space program Boeing on Starliner orbital flight test: We really are close Florida Tech spring football game set for Saturday Feb 14: EFSC womenâ€™s golfer Kacey Walker nominated for 2019 Arnold Palmer Cup Four Panthers Selected to All-SSC Teams Heavy winds and lightning to hit north Brevard County How Ron DeSantis is shaking up the establishment | Opinion High school sports results: May 3 Palm Bay man who asked woman for permission to have illicit sexual encounter with child sentenced Letters and feedback: June 22 2019 Air Force pumped for two launches less than 48 hours apart Heres why NASA scrubbed all-female spacewalk Plan ahead for Nov 6-12: Holiday bazaar in Suntree pet events art openings and food fun Edgewoods Jon Wang shoots one under par for second time this week Burglar steals bolted safe from Melbourne bar in latest smash-and-grab Feb 14: Florida Tech Suffers Last-Second Heartbreaker Against Saint Leo Daddy Duty: My school cheating scandal is an example for my 4-year-old Tropical Storm Humberto forms but isnt expected to affect Space Coast Air Force weather squadron key player in ensuring successful rocket launches Ronsisvalle: Getting through to the disconnected husband How to watch SpaceX launch its Falcon 9 rocket from Cape Canaveral Air Force Station Members of Brevards Bahai Faith community come together to commemorate twin holy days A&Es Tiny House Nation to feature Melbourne tiny home builder Movable Roots Lawmakers grapple with felons voting rights All-female spacewalk canceled due to lack of medium-sized spacesuits Twitter reacts Medical marijuana and 3 other school district policy changes you should know about Felons rights bill heads to Gov DeSantis Lanes open delays persist after Crash on I-95 near Wickham Road Former UCF chair resigns day after Rep Randy Fine proposes UC'\n",
    "news_doc = nlp(news_articles)\n",
    "list_of_people = []\n",
    "for token in news_doc:\n",
    "    if token.ent_type_ == 'PERSON':\n",
    "        list_of_people.append(token.text)\n",
    "print(list_of_people)\n"
   ]
  },
  {
   "cell_type": "code",
   "execution_count": 26,
   "metadata": {},
   "outputs": [
    {
     "data": {
      "text/plain": [
       "'Restaurant inspections : Space Coast establishments fare well with no closures or vermin Despite strong talk UNKNOWN has a lot more to do for Indian River Lagoon | Opinion UNKNOWN - coached surfer from UNKNOWN wins national title in UNKNOWN Despite parachute mishap UNKNOWN pad abort test a success Vote for UNKNOWN for Oct 28 - Nov 2 Brevard diners rave about experiences at UNKNOWN restaurants Heres what you need to know about Tuesdays municipal elections in UNKNOWN the turtles rally planned to oppose UNKNOWN hotel - condominium project UNKNOWN wants humans to colonize space UNKNOWN shows that s easier said than done UNKNOWN honors actor UNKNOWN with new Doodle SpaceX targeting faster deployment of Starlink internet - beaming satellites Rockledge Cocoa hold while Merritt Island gains traction in state football polls UNKNOWN launches and lands UNKNOWN capsule for pad abort test in New Mexico Eight of the 10 most dangerous metro areas for pedestrians are in UNKNOWN report says UNKNOWN faith leaders demand apology in open letter to UNKNOWN How a UNKNOWN researcher discovered a songbird can predict hurricane seasons Open doors change lives : UNKNOWN of UNKNOWN kicks off 2019 campaign UNKNOWN man pleads guilty to killing sawfish by removing extended nose with power saw One - woman comedy Excuse My French at UNKNOWN dives into authors mind UNKNOWN and feedback : Sept 19 2019 UNKNOWN talk will highlight technology used for dementia patients UNKNOWN open after dump truck crash spilled sand and fuel one injured From the mob to mob movies with UNKNOWN : Meet Larry Mazza former hitman Irishman consultant UNKNOWN Jerry getting stronger in UNKNOWN ; Hurricane Humberto nearing UNKNOWN Halloween party homicide suspect turns self in police say Fall playoffs : Satellite XC boys win region ; UNKNOWN swimmers second Sounds of celebration during UNKNOWN in Palm Bay Tractor trailer fire extinguished on I-95 in Cocoa lanes open UNKNOWN bowls a 279 to help UNKNOWN beat Space Coast in battle of undefeated teams UNKNOWN and feedback : Sept 18 2019 Accelerated bargaining a bust as UNKNOWN walks out on second day of pay talks UNKNOWN : Puerto Rican Day Parade set for Palm Bay County commissioners debate biosolids at first of two public hearings UNKNOWN 1 widening in UNKNOWN under study along with sidewalks and bike lanes UNKNOWN and feedback : Nov 3 2019 UNKNOWN man indicted on first - degree murder charge Rockledge Cocoa lead 8 UNKNOWN football teams into playoffs UNKNOWN accepting business hall of fame nominations Why Brevards proposed moratorium on sewage sludge is nt enough |Rangel Brevard high school football standings after Week 4 Starbucks might build new store at old Checkers site in UNKNOWN on UNKNOWN search for Palm Bay shooting suspect in UNKNOWN area Does your drivers license have a gold star ? Well you need one Cocoa man charged with arson in blaze at triplex where 16 children were celebrating a birthday Unit and lot owners may inspect their ledgers upon written request Palm Bay veteran officer UNKNOWN chosen as police chief By the numbers : Your link to every state salary and what high ranking UNKNOWN officials make Longtime state county legislative aide UNKNOWN honored by UNKNOWN : Rockledge pulls out UNKNOWN win ; UNKNOWN win rivalry games UNKNOWN commissioners allocate $446 million to repair South Beaches after Hurricane Dorian Tour of Brevard: Holy Trinity Tigers County Commission begins shakeup of its bloated advisory boards while adding term limits Mystery Jesus plaque washes ashore near UNKNOWN thanks to Hurricane Humberto waves Widow of combat veteran who died after fight at UNKNOWN appeals to governor Health calendar : June 27-July 4 Going surfing this weekend ? Check our wave forecast Have you ever seen a turtle release ? Heres your chance Darkness turns to day as SpaceX UNKNOWN launches from Kennedy Space Center Losing hair in strange places ? It could be Alopecia areata Golf tip : Pairing and tee times on UNKNOWN updates projections saying above normal season could see 5 - 9 hurricanes 2 - 4 of them major UNKNOWN relocation : Loss of a landmark hopeful future for healthcare and land How do I get adult child to move out start own life ? The Atlas V rockets jellyfish in the sky Scores : High school football Week 11 in UNKNOWN gator caught on camera munching on plastic at St Marks National Wildlife Refuge Q&A : New Melbourne head football coach UNKNOWN Does the First Amendment go too far ? | Opinion UNKNOWN says it has a contingency plan if football associations strike but wo nt reveal it Tropical Depression Ten forms in central Atlantic ; Hurricane Humberto continues to strengthen Updates : Watch SpaceX launch its UNKNOWN rocket from Kennedy Space Center in UNKNOWN and feedback : May 9 2019 The Good Stuff : Soccer star makes UNKNOWN cover cookies in space and more Highly anticipated pad abort test of Boeingâ€ ™ s UNKNOWN spacecraft is Monday morning Health calendar : Sept 19 - 26 Naked man running through UNKNOWN parking lot arrested Lacking money and manpower UNKNOWN considers swapping school SROs for armed guards Worst best airports in country : 3 UNKNOWN airports make Top 5 worst list UNKNOWN STEM school shooting impacted my family : When will we say enough ? | UNKNOWN ashes UNKNOWN and a sandwich : Strange things we sent into space Massive 2600-acre burn underway near UNKNOWN line Health Pro : Trip to UNKNOWN validated nurses career decision UNKNOWN exposes gaps in helping the homeless UNKNOWN splits 4 - 1 in favor of district plan for teacher pay ; union vows war Who s No 1 ? See the UNKNOWN high school football rankings after Week 4 3 people taken into custody after multiple agencies tracked them at high speeds across Central Florida As dawn breaks over UNKNOWN ULA Atlas V rocket lights up morning sky Why breast cancer was called Nuns disease Space Coast - based UNKNOWN partners with Swiss tech giant UNKNOWN continues for Palm Bay double killing in 2018 Canâ€ ™ t breastfeed ? Tips to provide same nutrition to baby Former UNKNOWN golfer Iacobelli wins playoff in UNKNOWN for third pro title Baseball bliss every 50 years : Letâ€ ™ s go UNKNOWN ! Letâ€ ™ s go Nats ! 5 tips to make your holiday travel stress - free UNKNOWN : UNKNOWN launches UNKNOWN rocket military satellite from Cape Canaveral Andrew Reed bowls 274 in UNKNOWN win over UNKNOWN industry propels UNKNOWN economy into optimistic future ; highlights from EDC investors meeting Governor DeSantis signs bill geared toward expanding vocational training Outage leaves 12500 customers without power in UNKNOWN for nearly an hour Weak cold front brings fall weather after unusually warm October on Space Coast 321 Launch : The space news you might have missed Teacher pay : Union opens pay talks with raise demand supplement for veteran teachers Tour of Brevard : Bayside Bears Youth fishing tournament coming Saturday to UNKNOWN President Trump heres what Hurricane Michael damage still looks like today UNKNOWN and feedback : Aug 8 2019 Man leads police on 100 mph chase through UNKNOWN Rican parade to take place this weekend in Palm Bay Viera - based UNKNOWN Pride depart from pro softball league Tip of organized theft ring targeting boats motors leads to arrest of 3 men in UNKNOWN crashes slow UNKNOWN traffic near UNKNOWN Is it time to reconsider how free speech should be ? | UNKNOWN SPCA of Brevard takes influx of cats and dogs from Glades County Brevard residents share some of their favorite recent dining experiences Tuesdays brewery running tour stops at UNKNOWN in UNKNOWN 89-year-old UNKNOWN UNKNOWN battles 6-foot snake after it eats visiting birds The horrors of Dorian parallel another nearby tragedy of historic proportions EFSCs UNKNOWN named NJCAA Region 8 Pitcher of the Week UNKNOWN teenager charged with murder of grandfather If UNKNOWN bans vape flavors UNKNOWN shops say they ll be out of business UNKNOWN : NASAs UNKNOWN is space explorations next giant leap | Opinion UNKNOWN continues cutting phone cords BSOs Confessore starting 25th year as music director High school sports results : May 7 Libraries busy with summer reading programs Four hurricanes in six weeks ? Remember 2004 the year of hurricanes Letters and feedback : Nov 2 2019 Letters and feedback : May 8 2019 As UNKNOWN kids head back to school here are five things to make lunchtime happy healthy Palm Bay police investigate overnight shooting that left one dead UNKNOWN takes the stage at two playhouses UNKNOWN UNKNOWN arrive on UNKNOWN stages this weekend Junes Saharan dust setting up right conditions for red tide but still too soon to tell UNKNOWN : UNKNOWN unleashed on Hogwarts Castle at UNKNOWN First restructuring : What we know ( and what we do nt ) From UNKNOWN in the Box to In - N - Out Burger : 7 restaurant chains missing in UNKNOWN SpaceX anomaly : No further action needed on Crew Dragon explosion cleanup Vietnam War mural pits residents vs UNKNOWN community Matter settled   unhappily British cruise line UNKNOWN to sail from Port Canaveral in 2021 Kids are at risk as religious exemptions to vaccines spike in UNKNOWN UNKNOWN crime rate falls in 2018 reflecting statewide trend according to UNKNOWN report UNKNOWN - UNKNOWN FSU - Miami : Why Saturday afternoon is a college football party in UNKNOWN in UNKNOWN Suntree Port Canaveral Palm Bay UNKNOWN draw UNKNOWN raves Vote for the FLORIDA TODAY Community Credit Union Athlete of the Week for Sept 9 - 14 What s happening May 15-21 : Concert in Cocoa summer camps fun fair in UNKNOWN Secretary / Treasurer Harvey seeks more public input at evening meetings SpaceX UNKNOWN rocket launch : Where to watch from Space Coast Treasure Coast Volusia County UNKNOWN Here are 10 of Arizonas most photogenic spots Some of them might surprise you UNKNOWN police search for suspects after armed robbery Kardashian production features Palm Bay homicide involving sisters - in - law UNKNOWN TODAY journalist The holidays are almost here ; Space Coast cooks are prepping special meals now How to watch tonights SpaceX UNKNOWN launch from Kennedy Space Center in UNKNOWN New state budget spending wish list includes bug studies lionfish contests stronger coastlines UNKNOWN : UNKNOWN soccer star UNKNOWN make cereal cover and it costs $ 23 a box Letter carriers Stamp Out Hunger food drive is Saturday May 11 Suzy Fleming Leonard : Fourth - graders talk about journalism share favorite restaurants Falcon Heavys night launch may be seen across portion of UNKNOWN : UNKNOWN teacher jerked autistic student from bus faces abuse charge UNKNOWN axe : Urban axe throwing makes its debut in UNKNOWN as trending sport stress reliever Palm Bay official UNKNOWN hired as UNKNOWN city administrator on UNKNOWN Daddy Duty : Are we celebrating Mothers Day the right way ? Father of 6 dies trying to save sons from rip current in UNKNOWN Its time we address lack of affordable housing on Space Coast | Opinion Orlando Pride soccer player from UNKNOWN diagnosed with breast cancer Space Coast bus system : Lets peck away at this problem UNKNOWN chair says Do lovebugs have a purpose beyond annoying us all twice a year ? Hurricane Humberto continues to strengthen swells expected to affect East-Central Florida surf One more launch this week ; Things to know about ULA Atlas V launch from UNKNOWN self - defense class for women this Friday in UNKNOWN The farce behind blaming video games for UNKNOWN Paso UNKNOWN mass shootings | UNKNOWN Teacher pay talks take new shape as school district and union vow to work together First - place USSSA Pride on hot streak ; UNKNOWN on ESPNs Top Plays A legacy of giving : When it comes to giving back UNKNOWN and UNKNOWN lead by example UNKNOWN infection can come from ocean water beach sand ; UNKNOWN man gets it from sandbar Its Launch Day ! Things to know about SpaceX UNKNOWN launch from Kennedy Space Center UNKNOWN 6 more Brevard HS softball teams enter playoffs Enjoy UNKNOWN tastings in UNKNOWN and UNKNOWN this month UNKNOWN location comes in at No 7 on list of UNKNOWN cities that get the most sun UNKNOWN and feedback : Oct 31 2019 UNKNOWN veteran receives settlement from UNKNOWN   after waiting 20 years UNKNOWN restaurants with outdoor seating wage war against lovebugs UNKNOWN adds beer sparkling wine and dog treats to its collection of Advent calendars If millennials choose socialism fine Just do nt make this mistake Gardening: Adding a tree to your UNKNOWN landscape ? Southern redcedar is a great option Big Brevard high school football rivalries vary in postseason implications 6 hurricanes and 12 named storms predicted for remainder of 2019 hurricane season UNKNOWN man suspected of firing shots with unwitting mother in tow faces multiple charges UNKNOWN on the beach ? UNKNOWN rejects proposal to allow dogs on South Brevard beaches Letters and feedback : Sept 15 2019 Despite weather odds SpaceX launches UNKNOWN 9 rocket from UNKNOWN of alleged battery victim lands UNKNOWN man back in jail Winds are coming back again but inshore fishing is excellent for redfish and trout Exclusive : Trump administration sets plans for 2019 hurricane season after wakeup call of recent disasters Melting Pot : Intimacy of a shared meal makes this UNKNOWN spot perfect for date night The Chefs Table: Fine meat seafood draw diners to this UNKNOWN favorite UNKNOWN nurse arrested accused of sexual battery on a patient UNKNOWN & Lobster UNKNOWN : Discover old - UNKNOWN elegance in UNKNOWN restaurant UNKNOWN chair resigns claims governors office interfered with independence Medical marijuana firms seek to open more storefronts in UNKNOWN votes 4 - 1 to support superintendents plan for teacher raises ; audience not happy Tracking Brevards stars : Arena football champ UNKNOWN star PBA rookie lead the way UNKNOWN district miscalculated attrition savings finds $15 million for teacher pay UNKNOWN country honor roll Oct 31 UNKNOWN UNKNOWN team wins UNKNOWN for coverage of SpaceX mission Golf tip : Making adjustments to correct your swing Cruise ship rescues and mishaps : 6 times emergency struck on UNKNOWN more UNKNOWN : SpaceX launches UNKNOWN from UNKNOWN group challenges In God We Trust motto on UNKNOWN sheriffs patrol vehicles UNKNOWN in sunscreen seep into your bloodstream after just one day UNKNOWN says UNKNOWN mural dispute resolved in UNKNOWN after owner applies for permit UNKNOWN strengthens into a hurricane as it moves away from Space Coast ; UNKNOWN watching 2 more Planting herbs to cutting back on water heres what to do in your UNKNOWN yard this month UNKNOWN team heads to UNKNOWN We must prevent human trafficking through education | Opinion Please do nt eat the deer Family spots UNKNOWN panther wandering around UNKNOWN backyard Man found hanging onto side of kayak in Atlantic Ocean off Patrick Air Force Base SpaceX set to launch UNKNOWN on mission with 24 payloads â€ “ \\xa0 including human ashes UNKNOWN is 2019 Volunteer of the Year finalist in UNKNOWN TODAY Volunteer UNKNOWN ZZ Top UNKNOWN and UNKNOWN coming to King Center Needy Brevard students sleep easier on new beds donated from UNKNOWN These fitness trends are worth sticking with over time UNKNOWN saw fewer infections from UNKNOWN vulnificus ( aka flesh - eating bacteria ) in 2018 Health calendar : April 25-May 2 Young actresses shine in UNKNOWN at UNKNOWN quarterback UNKNOWN leads UNKNOWN over UNKNOWN in UNKNOWN UNKNOWN is 2019 Volunteer of the Year finalist in UNKNOWN TODAY Volunteer Recognition Awards Health Pro : Doctors interest grew out of childhood health issues More strong storms move eastward over UNKNOWN ; funnel clouds possible in UNKNOWN at UNKNOWN arrested on suspicion of sexual battery Strong isolated showers heat impacting UNKNOWN firefighters widow wins $9 million verdict in UNKNOWN delivery death Housing providers may be prohibited from rejecting renters on basis of arrest record 10-foot great white shark Miss May pings off UNKNOWN man 22 dies in overnight crash on Floridas Turnpike UNKNOWN is 2019 Volunteer of the Year finalist in UNKNOWN TODAY Volunteer Recognition Awards Tropical Storm Humberto not expected to affect Space Coast ; UNKNOWN watching two more disturbances Theater veteran Blackledge passes away unexpectedly Ten dead issues from the 2019 legislative session UNKNOWN and feedback : June 23 2019 Rockledge Cocoa win big as Space Coast takes UNKNOWN in OT Surfers can enjoy chest - high waves most of weekend in UNKNOWN ahead for Aug 14-20 : Space Coast Symphony performs Mikado Chef Larry tweaks hours Daylight saving time ends on Nov 3 Here are 7 facts to know about the time change Two new UNKNOWN ships including second largest in world move to Port Canaveral Fla Sen Debbie Mayfield files bill to define e - cigarettes liquid nicotine as tobacco products Escape the hustle and bustle for a western getaway Missing Palm Bay teen found in UNKNOWN ; mother arrested police say Impossible burger Impossible Cottage Pie make 2019 UNKNOWN menu Got bats ? Why you need to get rid of them by Tax Day 2 charged with attempted murder ; UNKNOWN police say they pistol - whipped waterboarded force - fed him dog food Bicyclist dies in hit - and - run crash on UNKNOWN 1 near UNKNOWN : St Johns River pollution threatens water supplies Rockledge man charged after hoax to shoot up UNKNOWN awarded $80M in lawsuit claiming UNKNOWN causes cancer Astronauts UNKNOWN won UNKNOWN vote Alligators and airboats : How to explore Everglades National Park in one day Longtime educator church mother and humanitarian UNKNOWN remembered in Palm Bay George Clooney astronauts to attend black - tie event at Kennedy Space Center High school sports results : March 27 UNKNOWN visits UNKNOWN ahead of SpaceX UNKNOWN launch from Kennedy Space Center Health First to relocate Cape Canaveral Hospital to UNKNOWN open new facilities UNKNOWN and feedback : Aug 7 2019 UNKNOWN to host top area amateur golfers this weekend UNKNOWN benefits UNKNOWN ready to rumble : Atlas V blasting off early Thursday morning War on lovebugs : Social media reactions tweets memes about pesky bugs cars windshields Master association that contains condominiums may be able to collect capital contribution The new UNKNOWN opens at LEGOLAND River Rocks : Enjoy fresh seafood and river views at this UNKNOWN tradition March 27 : Panthers Walk It Off 10 takeaways from the presidents campaign kickoff visit to Orlando Cocoa man arrested on manslaughter charges after UNKNOWN burglars hit five south UNKNOWN stores before UNKNOWN officer shot one of them UNKNOWN family to receive Filipino World War II veterans UNKNOWN : Want to go to the moon in five years ? We need more money How to UNKNOWN clean lovebugs off your windshield car house Top party schools : UNKNOWN make it to top of UNKNOWN 2020 list Live scores : High school football Week 4 in UNKNOWN inspections : Happy Kitchen in West Melbourne Divine Grace in Palm Bay closed after inspections School district sticks to $ 770 raise offer for teachers ; special magistrate getting involved UNKNOWN lineup is set for 2019 municipal special district elections in UNKNOWN investigation underway after mans body found in UNKNOWN ditch November hurricane forecast : Season not technically over but its over | WeatherTiger Tyndall Air Force Bases future remains uncertain after devastation from Hurricane UNKNOWN What s behind a low performing school ? Crummy parents | Opinion Well known UNKNOWN dealership has The Right Stuff Lovebugs are back Many hate them Experts say they re here for good The lax disciplinary policies that caused \\xa0 Parkland massacre may have spread to your school Port Canaveral commissioners tackle parking issues : 10 things to know UNKNOWN woman injured in crash dies from her injuries ; police looking for witnesses UNKNOWN President UNKNOWN calls for UNKNOWN lawmakers to focus on mass shootings Governor DeSantis approves $91 billion budget slashes $133 million in local projects UNKNOWN and feedback : March 28 2019 Vote for UNKNOWN for April 29-May 4 South UNKNOWN approved for federal cleanup program UNKNOWN H2O Live ! water park in UNKNOWN opens : Make the plunge or chill in lazy river UNKNOWN is 2019 Citizen of the Year finalist in UNKNOWN TODAY Volunteer UNKNOWN Vietnam War 50th anniversary to be remembered at Cape Canaveral National Cemetery Its launch day ! Things to know about SpaceX UNKNOWN 9 launch from Cape Canaveral UNKNOWN gave Artemis contractors bonuses despite delays and cost overruns UNKNOWN says UNKNOWN is 2019 Citizen of the Year finalist in UNKNOWN TODAY Volunteer Recognition Awards Health Pro : Eye doctor honed skills on aircraft carrier UNKNOWN pitchers fare well in state horseshoe event The real reason NASAs all - female spacewalk is not happening Hint : Its not discrimination Port Canaveral aquarium the best use of tourism dollars | Opinion SpaceX UNKNOWN will carry worlds first green rocket fuel mission School District union at odds on what s actually available for teacher raises | UNKNOWN power is too costly and too risky Jarvis Wash is 2019 Citizen of the Year finalist in UNKNOWN TODAY Volunteer Recognition Awards SpaceX Dragon installed at UNKNOWN after launch from Cape Canaveral Rare phenomenon : Hail damage from unusual thunderstorm has UNKNOWN residents talking Signs you live on the Space Coast Titusville couple charged with neglect after infant found malnourished UNKNOWN coaches a personal way to help you meet goals New UNKNOWN elementary school to break ground in fall fast - tracked to open August 2020 Phase out nuclear power ? UNKNOWN and UNKNOWN locked in absurd arms race Strange days: Space Coast gets freak hail flaming meteor mysterious rumble red tide over 6 months Four women arrested on prostitution charges in ongoing UNKNOWN enforcement detail Whose name is on deed - partner or spouse ? It matters a lot UNKNOWN should steer clear of drug importation from other countries | Opinion Melbourne police investigate Palm Bay Road shooting UNKNOWN bowlers head to state tournament off district wins UNKNOWN May 16-18 conference : Countdown to History : Ice Age to the Space Age Turning the Toxic Tide : UNKNOWN must address the problem of human waste Contributions pour in to group seeking to ban possession sale of assault weapons in UNKNOWN Why UNKNOWN sweets treats desserts are SO worthy of Instagram UNKNOWN girl 10 leads charge for organ donation Poliakoff : Community development district offers different advantages and disadvantages to an UNKNOWN in UNKNOWN hosts UNKNOWN with food from South Latin America From discovering water to snapping selfies : The lasting memories of Mars rover Opportunity Charges dropped against UNKNOWN man after comments against Cocoa Beach hotel were nt direct specific threat UNKNOWN just ca nt say yes to raise offers | Opinion How Mars Opportunity rover ranks in list of more than 1000 unmanned space missions by UNKNOWN since 1958 321 UNKNOWN members rave about Fresh Scratch Bistro Sushi Factory and UNKNOWN UNKNOWN man recovering after shark bite in UNKNOWN Buckeye the manatee rescued again by UNKNOWN hail pelts north central UNKNOWN causing widespread damage Regulators approve merger of UNKNOWN ; deal to close June 29 Teachers approve largest pay raise in years but will it keep them in UNKNOWN ? Restaurant review : UNKNOWN in UNKNOWN shows great promise Weak cool front could bring torrential rain damaging winds to Space Coast Officials : Removing Beachline earthen causeways would improve UNKNOWN water quality UNKNOWN outfit is everything in photo of last remaining UNKNOWN astronauts Voting Republican only helps if you re rich | UNKNOWN : A national problem with a local solution UNKNOWN plans to regulate cancer - causing chemicals found in Americas drinking water UNKNOWN has chance to wow recruits playoff voters with a win over UNKNOWN - sized hail pounds Space Coast as severe thunderstorms move through area UNKNOWN CEO optimistic about merger finances as deal with UNKNOWN nears completion March 26 : EFSCâ€ ™ s UNKNOWN named NJCAA Region VIII Pitcher of the Week Knife - wielding suspect leads deputies officers on foot chase in UNKNOWN 4 Brevard winners in girls regional basketball Thursday March 26 : Womenâ€ ™ s UNKNOWN at Barry Invite Some seek healing remembrance at arrival of Vietnam War replica wall High school sports results : March 26 Following surge in discipline problems UNKNOWN students ask lawmakers to address vaping in schools UNKNOWN man 21 pronounced dead after trying to make a U - turn on South Street UNKNOWN criminal justice reform shows results | Opinion UNKNOWN cold case solved 22 years later after UNKNOWN satellite image shows missing mans car Health calendar : Aug 8 - 15 Tracking Brevards stars : Harris to World Cup ; UNKNOWN in golf hunt ; UNKNOWN hitting 300 UNKNOWN hotel condo towers homes slated for 27 acres by UNKNOWN park Letters and feedback : Sept 14 2019 UNKNOWN to be named UNKNOWN new baseball coach Golf tip : Hit down on hybrids similar to how you hit an iron Stormy weather moves across Space Coast bringing lightning heavy rain Commission OKs pay raises for 625 county employees to address disparities turnover High school sports results : Feb 14 weVENTURE is 2019 Organization of the Year finalist in UNKNOWN TODAY Volunteer Recognition Awards Man taken to hospital after domestic incident in UNKNOWN school district considers selling $ 800000 in unused land UNKNOWN looks OK for SpaceX UNKNOWN launch from Kennedy Space Center 321 Flavor : UNKNOWN tops the list of Brevards favorite cocktails UNKNOWN experiment and Citronaut fly to space on UNKNOWN Shepard Bridges sex assault : Victimâ€ ™ s family sues nonprofit caregiver over pregnancy UNKNOWN and UNKNOWN emergency officials send mixed messages during Dorian New proposal on dog cat sales at pet stores is less restrictive than previous one UNKNOWN is UNKNOWN finalist in UNKNOWN TODAY Volunteer Recognition Awards It goes by so quickly : Brevard teachers back to work as days count down to school County commissioners reject lagoon funding plan saying they want less money for muck projects Yuck ! Hypodermic needles stabbing employees inside UNKNOWN recycling plant Hard - line anti - illegal immigration group works to sway sanctuary cities bill UNKNOWN principal retires amid accusations of hostile environment UNKNOWN ™ s deputy UNKNOWN architect of bloody UNKNOWN policy dead at 93 in UNKNOWN NASAs new goal : Land astronauts on the moon by 2024 Going surfing this weekend ? Check our forecast Neighbor Up is 2019 Organization of the Year finalist in UNKNOWN TODAY Volunteer Recognition Awards Severe storms bring wind lightning and possible hail across UNKNOWN in UNKNOWN West Melbourne may move to larger stores with drive - thru windows SpaceX UNKNOWN : Why everyone should watch this night launch from Kennedy Space Center Fishing report : Calm seas and good fishing ahead Two World Series commercials feature UNKNOWN and feedback : May 5 2019 In latest motion UNKNOWN Attorney confirms multiple investigations in UNKNOWN Lane 70 softball team wins spring tournament Palm Bay police double down on nightclub safety following four violent episodes Relativity Space signs deal to deliver small satellites to more orbits UNKNOWN documentary new surf movie spotlight surf legends UNKNOWN twins Plan ahead for April 3-10 : Music in UNKNOWN adult prom in UNKNOWN ; art in UNKNOWN grieves woman fatally struck by car near UNKNOWN in UNKNOWN At UNKNOWN SpaceX kicks off Star Wars Day with smoke and fire UNKNOWN : SpaceX launches UNKNOWN from Cape Canaveral to ISS sticks drone ship landing UNKNOWN and feedback : March 27 2019 UNKNOWN to host event celebrating Apollo 11 anniversary and future of UNKNOWN space program UNKNOWN on UNKNOWN orbital flight test : We really are close UNKNOWN spring football game set for Saturday Feb 14 : UNKNOWN womenâ€ ™ s golfer UNKNOWN nominated for 2019 Arnold Palmer Cup Four Panthers Selected to All - SSC Teams Heavy winds and lightning to hit north UNKNOWN is shaking up the establishment | Opinion High school sports results : May 3 Palm Bay man who asked woman for permission to have illicit sexual encounter with child sentenced UNKNOWN and feedback : June 22 2019 UNKNOWN pumped for two launches less than 48 hours apart UNKNOWN why UNKNOWN scrubbed all - female spacewalk Plan ahead for Nov 6 - 12 : Holiday bazaar in UNKNOWN pet events art openings and food fun Edgewoods UNKNOWN shoots one under par for second time this week Burglar steals bolted safe from UNKNOWN bar in latest smash - and - grab Feb 14 : UNKNOWN Last - Second Heartbreaker Against Saint Leo Daddy Duty : My school cheating scandal is an example for my 4-year-old Tropical Storm Humberto forms but is nt expected to affect UNKNOWN weather squadron key player in ensuring successful rocket launches UNKNOWN : Getting through to the disconnected husband How to watch SpaceX launch its UNKNOWN 9 rocket from UNKNOWN Members of Brevards Bahai Faith community come together to commemorate twin holy days A&Es UNKNOWN to feature UNKNOWN tiny home builder Movable Roots Lawmakers grapple with felons voting rights All - female spacewalk canceled due to lack of medium - sized spacesuits Twitter reacts UNKNOWN and 3 other school district policy changes you should know about UNKNOWN rights bill heads to UNKNOWN open delays persist after UNKNOWN on I-95 near Wickham Road Former UNKNOWN chair resigns day after UNKNOWN proposes UNKNOWN'"
      ]
     },
     "execution_count": 26,
     "metadata": {},
     "output_type": "execute_result"
    }
   ],
   "source": [
    "# replace every name with UNKNOWN for privacy\n",
    "def remove_details(word):\n",
    "    if word.ent_type_=='PERSON'or word.ent_type_=='ORG'or word.ent_type_=='GPE':\n",
    "        return 'UNKNOWN'\n",
    "    return word.text\n",
    "\n",
    "def update_article(doc):\n",
    "    with doc.retokenize() as retokenizer:\n",
    "        for ent in doc.ents:\n",
    "            retokenizer.merge(ent)\n",
    "    tokens = map(remove_details, doc)\n",
    "    return' '.join(tokens)\n",
    "\n",
    "update_article(news_doc)"
   ]
  },
  {
   "cell_type": "code",
   "execution_count": 27,
   "metadata": {},
   "outputs": [],
   "source": [
    "# Text Summarization\n",
    "# Extractive Text Summarization is the identification of significant phrases/sentences to be included in the summary\n",
    "# selects sentences from orginal text for summary\n",
    "\n",
    "# TextRank Algorithm Steps GENSIM.SUMMARIZATION IS REMOVED\n",
    "# 1. Preprocesses raw data (removes stopwords and punctuation, lemmatization)\n",
    "# 2. Vectorization - creation of word embeddings to represent the sentence\n",
    "# 3. Algorithm calculates similarities - What does this mean? Ask at bottom for comments\n",
    "# 4. Builds graph representation. Each sentence is a node, and the similarities between sentences are edge values\n",
    "# 5. Sentences are ranked according to significance of weights\n",
    "#import gensim\n",
    "#from gensim.summarization import summarize\n"
   ]
  },
  {
   "cell_type": "code",
   "execution_count": 66,
   "metadata": {},
   "outputs": [],
   "source": [
    "# Text Summarization with spacy\n",
    "import spacy\n",
    "article_text='''Natural language processing (NLP) refers to the branch of computer science—and more specifically, the branch of artificial intelligence or AI—concerned with giving computers the ability to understand text and spoken words in much the same way human beings can.\n",
    "\n",
    "NLP combines computational linguistics—rule-based modeling of human language—with statistical, machine learning, and deep learning models. Together, these technologies enable computers to process human language in the form of text or voice data and to ‘understand’ its full meaning, complete with the speaker or writer’s intent and sentiment.\n",
    "\n",
    "NLP drives computer programs that translate text from one language to another, respond to spoken commands, and summarize large volumes of text rapidly—even in real time. There’s a good chance you’ve interacted with NLP in the form of voice-operated GPS systems, digital assistants, speech-to-text dictation software, customer service chatbots, and other consumer conveniences. But NLP also plays a growing role in enterprise solutions that help streamline business operations, increase employee productivity, and simplify mission-critical business processes.'''"
   ]
  },
  {
   "cell_type": "code",
   "execution_count": 67,
   "metadata": {},
   "outputs": [],
   "source": [
    "nlp = spacy.load('en_core_web_sm')\n",
    "doc=nlp(article_text)"
   ]
  },
  {
   "cell_type": "code",
   "execution_count": 68,
   "metadata": {},
   "outputs": [
    {
     "name": "stdout",
     "output_type": "stream",
     "text": [
      "Counter({'NLP': 5, 'text': 5, 'language': 4, 'human': 3, 'branch': 2, 'computer': 2, 'computers': 2, 'understand': 2, 'spoken': 2, 'learning': 2, 'form': 2, 'voice': 2, 'business': 2, 'Natural': 1, 'processing': 1, 'refers': 1, 'science': 1, 'artificial': 1, 'intelligence': 1, 'AI': 1, 'concerned': 1, 'giving': 1, 'ability': 1, 'words': 1, 'way': 1, 'beings': 1, 'combines': 1, 'computational': 1, 'linguistics': 1, 'rule': 1, 'based': 1, 'modeling': 1, 'statistical': 1, 'machine': 1, 'deep': 1, 'models': 1, 'technologies': 1, 'enable': 1, 'process': 1, 'data': 1, 'meaning': 1, 'complete': 1, 'speaker': 1, 'writer': 1, 'intent': 1, 'sentiment': 1, 'drives': 1, 'programs': 1, 'translate': 1, 'respond': 1, 'commands': 1, 'summarize': 1, 'large': 1, 'volumes': 1, 'real': 1, 'time': 1, 'good': 1, 'chance': 1, 'interacted': 1, 'operated': 1, 'GPS': 1, 'systems': 1, 'digital': 1, 'assistants': 1, 'speech': 1, 'dictation': 1, 'software': 1, 'customer': 1, 'service': 1, 'chatbots': 1, 'consumer': 1, 'conveniences': 1, 'plays': 1, 'growing': 1, 'role': 1, 'enterprise': 1, 'solutions': 1, 'streamline': 1, 'operations': 1, 'increase': 1, 'employee': 1, 'productivity': 1, 'simplify': 1, 'mission': 1, 'critical': 1, 'processes': 1})\n"
     ]
    }
   ],
   "source": [
    "# store keywords of text in list\n",
    "# punctuations and stopwords are noise\n",
    "# According to article usually nouns pronouns, and verbs add significant value to the text\n",
    "keywords_list=[]\n",
    "# POS categories that are important\n",
    "desired_pos = ['PROPN', 'ADJ', 'NOUN', 'VERB']\n",
    "from string import punctuation\n",
    "for token in doc:\n",
    "    if(token.text in nlp.Defaults.stop_words or token.text in punctuation):\n",
    "        continue\n",
    "    if(token.pos_ in desired_pos):\n",
    "        keywords_list.append(token.text)\n",
    "from collections import Counter\n",
    "# creating dictionary of keywords + frequency\n",
    "dictionary = Counter(keywords_list)\n",
    "print(dictionary)"
   ]
  },
  {
   "cell_type": "code",
   "execution_count": 69,
   "metadata": {},
   "outputs": [
    {
     "name": "stdout",
     "output_type": "stream",
     "text": [
      "Counter({'NLP': 1.0, 'text': 1.0, 'language': 0.8, 'human': 0.6, 'branch': 0.4, 'computer': 0.4, 'computers': 0.4, 'understand': 0.4, 'spoken': 0.4, 'learning': 0.4, 'form': 0.4, 'voice': 0.4, 'business': 0.4, 'Natural': 0.2, 'processing': 0.2, 'refers': 0.2, 'science': 0.2, 'artificial': 0.2, 'intelligence': 0.2, 'AI': 0.2, 'concerned': 0.2, 'giving': 0.2, 'ability': 0.2, 'words': 0.2, 'way': 0.2, 'beings': 0.2, 'combines': 0.2, 'computational': 0.2, 'linguistics': 0.2, 'rule': 0.2, 'based': 0.2, 'modeling': 0.2, 'statistical': 0.2, 'machine': 0.2, 'deep': 0.2, 'models': 0.2, 'technologies': 0.2, 'enable': 0.2, 'process': 0.2, 'data': 0.2, 'meaning': 0.2, 'complete': 0.2, 'speaker': 0.2, 'writer': 0.2, 'intent': 0.2, 'sentiment': 0.2, 'drives': 0.2, 'programs': 0.2, 'translate': 0.2, 'respond': 0.2, 'commands': 0.2, 'summarize': 0.2, 'large': 0.2, 'volumes': 0.2, 'real': 0.2, 'time': 0.2, 'good': 0.2, 'chance': 0.2, 'interacted': 0.2, 'operated': 0.2, 'GPS': 0.2, 'systems': 0.2, 'digital': 0.2, 'assistants': 0.2, 'speech': 0.2, 'dictation': 0.2, 'software': 0.2, 'customer': 0.2, 'service': 0.2, 'chatbots': 0.2, 'consumer': 0.2, 'conveniences': 0.2, 'plays': 0.2, 'growing': 0.2, 'role': 0.2, 'enterprise': 0.2, 'solutions': 0.2, 'streamline': 0.2, 'operations': 0.2, 'increase': 0.2, 'employee': 0.2, 'productivity': 0.2, 'simplify': 0.2, 'mission': 0.2, 'critical': 0.2, 'processes': 0.2})\n"
     ]
    }
   ],
   "source": [
    "# finding highest frequency which is used to calc a statistic\n",
    "highest_frequency = Counter(keywords_list).most_common(1)[0][1]\n",
    "\n",
    "# normalization formula/process for all keyword frequencies\n",
    "for word in dictionary:\n",
    "    dictionary[word] = (dictionary[word]/highest_frequency)\n",
    "\n",
    "print(dictionary)"
   ]
  },
  {
   "cell_type": "code",
   "execution_count": 70,
   "metadata": {},
   "outputs": [
    {
     "name": "stdout",
     "output_type": "stream",
     "text": [
      "{Natural language processing (NLP) refers to the branch of computer science—and more specifically, the branch of artificial intelligence or AI—concerned with giving computers the ability to understand text and spoken words in much the same way human beings can.\n",
      "\n",
      ": 8.400000000000002, NLP combines computational linguistics—rule-based modeling of human language—with statistical, machine learning, and deep learning models.: 5.200000000000001, Together, these technologies enable computers to process human language in the form of text or voice data and to ‘understand’ its full meaning, complete with the speaker or writer’s intent and sentiment.\n",
      "\n",
      ": 6.000000000000002, NLP drives computer programs that translate text from one language to another, respond to spoken commands, and summarize large volumes of text rapidly—even in real time.: 6.600000000000001, There’s a good chance you’ve interacted with NLP in the form of voice-operated GPS systems, digital assistants, speech-to-text dictation software, customer service chatbots, and other consumer conveniences.: 6.000000000000003, But NLP also plays a growing role in enterprise solutions that help streamline business operations, increase employee productivity, and simplify mission-critical business processes.: 4.600000000000001}\n"
     ]
    }
   ],
   "source": [
    "# assign scores to each sentence\n",
    "score={}\n",
    "\n",
    "# Iterating through each sentence\n",
    "for sentence in doc.sents:\n",
    "    for token in sentence:\n",
    "        # checking if the token is a keyword \n",
    "        if token.text in dictionary.keys():\n",
    "            # If true , add the frequency of keyword to the score dictionary \n",
    "            if sentence in score.keys():\n",
    "                score[sentence]+=dictionary[token.text]\n",
    "            else:\n",
    "                score[sentence]=dictionary[token.text]\n",
    "print(score)"
   ]
  },
  {
   "cell_type": "code",
   "execution_count": 71,
   "metadata": {},
   "outputs": [],
   "source": [
    "#sentences must now be scored in order of signficance\n",
    "sorted_score = sorted(score.items(), key=lambda kv: kv[1], reverse=True)\n"
   ]
  },
  {
   "cell_type": "code",
   "execution_count": 72,
   "metadata": {},
   "outputs": [
    {
     "name": "stdout",
     "output_type": "stream",
     "text": [
      "['Natural language processing (nlp) refers to the branch of computer science—and more specifically, the branch of artificial intelligence or ai—concerned with giving computers the ability to understand text and spoken words in much the same way human beings can.\\n\\n', 'Nlp drives computer programs that translate text from one language to another, respond to spoken commands, and summarize large volumes of text rapidly—even in real time.', 'There’s a good chance you’ve interacted with nlp in the form of voice-operated gps systems, digital assistants, speech-to-text dictation software, customer service chatbots, and other consumer conveniences.', 'Together, these technologies enable computers to process human language in the form of text or voice data and to ‘understand’ its full meaning, complete with the speaker or writer’s intent and sentiment.\\n\\n']\n"
     ]
    }
   ],
   "source": [
    "# Final step - decide number of sentences\n",
    "text_summary = []\n",
    "# decide number of sentences in summary\n",
    "num_of_sentences=4\n",
    "for i in range(0, 4):\n",
    "    text_summary.append(str(sorted_score[i][0]).capitalize())\n",
    "print(text_summary)"
   ]
  },
  {
   "cell_type": "code",
   "execution_count": 29,
   "metadata": {},
   "outputs": [],
   "source": [
    "# In extractive, no change in structure of sentence\n",
    "\n",
    "# Generative/Abstractive Text Summarization\n",
    "# Capture meaning of text and generate entirely new sentences to best represent concepts in the summary\n",
    "import torch\n",
    "from transformers import pipeline"
   ]
  },
  {
   "cell_type": "code",
   "execution_count": 30,
   "metadata": {},
   "outputs": [],
   "source": [
    "# pipeline has perameters that can be set according to circumstance\n",
    "    # task: task=summarization returns a SummarizationPipeline\n",
    "    # model - model to be used by pipeline. Pretrained models can be used\n",
    "    # tokenizer - encoding the data for the model - pretrained tokenizers can be used\n",
    "\n",
    "summarizer = pipeline(task=\"summarization\", model='facebook/bart-large-cnn',tokenizer='facebook/bart-large-cnn') # model and tokenizer in guide needs auth"
   ]
  },
  {
   "cell_type": "code",
   "execution_count": 41,
   "metadata": {},
   "outputs": [
    {
     "name": "stdout",
     "output_type": "stream",
     "text": [
      "[{'summary_text': 'Junk foods taste good thatâ€™s why it is mostly liked by everyone of any age group especially kids and school going children. They generally ask for the junk food daily because they have been trend so by their parents from the childhood. Kids and children eating junk food are more prone to the type-2 diabetes.'}]\n"
     ]
    }
   ],
   "source": [
    "article_text='Junk foods taste good thatâ€™s why it is mostly liked by everyone of any age group especially kids and school going children. They generally ask for the junk food daily because they have been trend so by their parents from the childhood. They never have been discussed by their parents about the harmful effects of junk foods over health. According to the research by scientists, it has been found that junk foods have negative effects on the health in many ways. They are generally fried food found in the market in the packets. They become high in calories, high in cholesterol, low in healthy nutrients, high in sodium mineral, high in sugar, starch, unhealthy fat, lack of protein and lack of dietary fibers. Processed and junk foods are the means of rapid and unhealthy weight gain and negatively impact the whole body throughout the life. It makes able a person to gain excessive weight which is called as obesity. Junk foods tastes good and looks good however do not fulfil the healthy calorie requirement of the body. Some of the foods like french fries, fried foods, pizza, burgers, candy, soft drinks, baked goods, ice cream, cookies, etc are the example of high-sugar and high-fat containing foods. It is found according to the Centres for Disease Control and Prevention that Kids and children eating junk food are more prone to the type-2 diabetes. In type-2 diabetes our body become unable to regulate blood sugar level. Risk of getting this disease is increasing as one become more obese or overweight. It increases the risk of kidney failure. Eating junk food daily lead us to the nutritional deficiencies in the body because it is lack of essential nutrients, vitamins, iron, minerals and dietary fibers. It increases risk of cardiovascular diseases because it is rich in saturated fat, sodium and bad cholesterol. High sodium and bad cholesterol diet increases blood pressure and overloads the heart functioning. One who like junk food develop more risk to put on extra weight and become fatter and unhealthier. Junk foods contain high level carbohydrate which spike blood sugar level and make person more lethargic, sleepy and less active and alert. Reflexes and senses of the people eating this food become dull day by day thus they live more sedentary life. Junk foods are the source of constipation and other disease like diabetes, heart ailments, clogged arteries, heart attack, strokes, etc because of being poor in nutrition. Junk food is the easiest way to gain unhealthy weight. The amount of fats and sugar in the food makes you gain weight rapidly. However, this is not a healthy weight. It is more of fats and cholesterol which will have a harmful impact on your health. Junk food is also one of the main reasons for the increase in obesity nowadays.This food only looks and tastes good, other than that, it has no positive points. The amount of calorie your body requires to stay fit is not fulfilled by this food. For instance, foods like French fries, burgers, candy, and cookies, all have high amounts of sugar and fats. Therefore, this can result in long-term illnesses like diabetes and high blood pressure. This may also result in kidney failure. Above all, you can get various nutritional deficiencies when you donâ€™t consume the essential nutrients, vitamins, minerals and more. You become prone to cardiovascular diseases due to the consumption of bad cholesterol and fat plus sodium. In other words, all this interferes with the functioning of your heart. Furthermore, junk food contains a higher level of carbohydrates. It will instantly spike your blood sugar levels. This will result in lethargy, inactiveness, and sleepiness. A person reflex becomes dull overtime and they lead an inactive life. To make things worse, junk food also clogs your arteries and increases the risk of a heart attack. Therefore, it must be avoided at the first instance to save your life from becoming ruined.The main problem with junk food is that people donâ€™t realize its ill effects now. When the time comes, it is too late. Most importantly, the issue is that it does not impact you instantly. It works on your overtime; you will face the consequences sooner or later. Thus, it is better to stop now.You can avoid junk food by encouraging your children from an early age to eat green vegetables. Their taste buds must be developed as such that they find healthy food tasty. Moreover, try to mix things up. Do not serve the same green vegetable daily in the same style. Incorporate different types of healthy food in their diet following different recipes. This will help them to try foods at home rather than being attracted to junk food.In short, do not deprive them completely of it as that will not help. Children will find one way or the other to have it. Make sure you give them junk food in limited quantities and at healthy periods of time. '\n",
    "\n",
    "our_summary = summarizer(article_text, min_length=5, max_length=100)\n",
    "print(our_summary)"
   ]
  },
  {
   "cell_type": "code",
   "execution_count": 35,
   "metadata": {},
   "outputs": [],
   "source": [
    "# another method of text summarization using Pretrained models available in the transformers library.\n",
    "from transformers import BartTokenizer, BartForConditionalGeneration, BartConfig\n",
    "# Initializing the model & tokenizer using .from_pretrained()\n",
    "model = BartForConditionalGeneration.from_pretrained(\"facebook/bart-large-cnn\")\n",
    "tokenizer = BartTokenizer.from_pretrained(\"facebook/bart-large-cnn\")"
   ]
  },
  {
   "cell_type": "code",
   "execution_count": 39,
   "metadata": {},
   "outputs": [
    {
     "name": "stderr",
     "output_type": "stream",
     "text": [
      "Truncation was not explicitly activated but `max_length` is provided a specific value, please use `truncation=True` to explicitly truncate examples to max length. Defaulting to 'longest_first' truncation strategy. If you encode pairs of sequences (GLUE-style) with the tokenizer you can select this strategy more precisely by providing a specific strategy to `truncation`.\n"
     ]
    },
    {
     "name": "stdout",
     "output_type": "stream",
     "text": [
      "4876 ----> 483\n",
      "Junk foods taste good thatâ€™s why it is mostly liked by everyone of any age group especially kids and school going children. They generally ask for the junk food daily because they have been trend so by their parents from the childhood. According to the research by scientists, it has been found that junk foods have negative effects on the health in many ways. They are generally fried food found in the market in the packets. They become high in calories, high in cholesterol, low\n"
     ]
    }
   ],
   "source": [
    "# convert the input text into input ids using batch_encode_plus method\n",
    "# The encoded ids are passed as input to model.generate() along with a feature max_length which decides the number of words in our summary\n",
    "#  This function returns the summary_ids (the significant ones). You can next decode these ids to text and print the summary\n",
    "\n",
    "#encode the input\n",
    "inputs = tokenizer.batch_encode_plus([article_text], max_length=1024, return_tensors='pt')\n",
    "# # generate the ids that will constitute the summary.\n",
    "summary_ids = model.generate(inputs['input_ids'], max_length=100, early_stopping=False)\n",
    "# iterating through each id in summary\n",
    "for ids in summary_ids:\n",
    "    # decoding\n",
    "    short = tokenizer.decode(ids, skip_special_tokens=True, clean_up_tokenization_spaces=False)\n",
    "    # comparing original length and summary length\n",
    "    print(len(article_text),'---->', len(short))\n",
    "    print(short)\n"
   ]
  },
  {
   "cell_type": "code",
   "execution_count": 53,
   "metadata": {},
   "outputs": [],
   "source": [
    "# Text Generation\n",
    "# Provide a sentence or phrase that an NLP model can develop into a paragraph\n",
    "# For text generation, GPT2 model is preferred\n",
    "import torch\n",
    "from transformers import GPT2Tokenizer\n",
    "from transformers import GPT2DoubleHeadsModel"
   ]
  },
  {
   "cell_type": "code",
   "execution_count": 54,
   "metadata": {},
   "outputs": [
    {
     "name": "stderr",
     "output_type": "stream",
     "text": [
      "Some weights of GPT2DoubleHeadsModel were not initialized from the model checkpoint at gpt2-medium and are newly initialized: ['multiple_choice_head.summary.bias', 'multiple_choice_head.summary.weight']\n",
      "You should probably TRAIN this model on a down-stream task to be able to use it for predictions and inference.\n"
     ]
    }
   ],
   "source": [
    "# initialize\n",
    "tokenizer = GPT2Tokenizer.from_pretrained('gpt2-medium')\n",
    "model=GPT2DoubleHeadsModel.from_pretrained('gpt2-medium')"
   ]
  },
  {
   "cell_type": "code",
   "execution_count": 55,
   "metadata": {},
   "outputs": [
    {
     "data": {
      "text/plain": [
       "[1026, 318, 257, 6016]"
      ]
     },
     "execution_count": 55,
     "metadata": {},
     "output_type": "execute_result"
    }
   ],
   "source": [
    "# Store start of sentence\n",
    "my_text = 'It is a bright'\n",
    "#encode the string into a sequence of ids\n",
    "ids = tokenizer.encode(my_text)\n",
    "ids"
   ]
  },
  {
   "cell_type": "code",
   "execution_count": 56,
   "metadata": {},
   "outputs": [],
   "source": [
    "# get the tensor of input ids\n",
    "# tensor is a container which can house data in N dimensions, \n",
    "# a type of data structure used in linear algebra that can be used for arithmetic operations like matrices and vectors\n",
    "# generalize matrices to more than two dimensions - What is a tensor?\n",
    "my_tensor=torch.tensor([ids])\n"
   ]
  },
  {
   "cell_type": "code",
   "execution_count": 57,
   "metadata": {},
   "outputs": [],
   "source": [
    "# setting model to evaluation mode\n",
    "model.eval()\n",
    "result = model(my_tensor)\n",
    "predictions = result[0] # tensor with all probable ids of next words of the text"
   ]
  },
  {
   "cell_type": "code",
   "execution_count": 58,
   "metadata": {},
   "outputs": [
    {
     "data": {
      "text/plain": [
       "1110"
      ]
     },
     "execution_count": 58,
     "metadata": {},
     "output_type": "execute_result"
    }
   ],
   "source": [
    "# torch.argmax() method returns the indices of the maximum value of all elements in the input tensor\n",
    "# So you pass the predictions tensor as input to torch.argmax and the returned value will give us the ids of next words.\n",
    "predicted_index = torch.argmax(predictions[0, -1, :]).item()\n",
    "predicted_index"
   ]
  },
  {
   "cell_type": "code",
   "execution_count": 59,
   "metadata": {},
   "outputs": [
    {
     "data": {
      "text/plain": [
       "'It is a bright day'"
      ]
     },
     "execution_count": 59,
     "metadata": {},
     "output_type": "execute_result"
    }
   ],
   "source": [
    "predicted_text=tokenizer.decode(ids+[predicted_index])\n",
    "predicted_text\n",
    "\n",
    "# How very amazing, it completes the phrase properly"
   ]
  },
  {
   "cell_type": "code",
   "execution_count": 60,
   "metadata": {},
   "outputs": [
    {
     "name": "stdout",
     "output_type": "stream",
     "text": [
      "It is a sunny day in the city of San Francisco, and the sun is shining. The city is filled with people, and the people are enjoying themselves. The sun\n"
     ]
    }
   ],
   "source": [
    "# generate required number of words by a loop\n",
    "num_words_to_generate = 30\n",
    "# original text\n",
    "text = 'It is a sunny'\n",
    "\n",
    "# looping for each word to be generated\n",
    "for i in range(num_words_to_generate):\n",
    "    # encode the input text\n",
    "    input_ids = tokenizer.encode(text)\n",
    "    #convert into a tensor\n",
    "    input_tensor = torch.tensor([input_ids])\n",
    "    # pass input tensor to model\n",
    "    result=model(input_tensor)\n",
    "    # storing all predicted ids of next word\n",
    "    predictions = result[0]\n",
    "    # Choosing the predicted_index (og maximum value)\n",
    "    predicted_index = torch.argmax(predictions[0, -1, :]).item()\n",
    "    # decoding the predicted index to text and concatenating to original text\n",
    "    text = tokenizer.decode(input_ids + [predicted_index])\n",
    "\n",
    "print(str(text))\n"
   ]
  },
  {
   "cell_type": "code",
   "execution_count": 62,
   "metadata": {},
   "outputs": [
    {
     "name": "stderr",
     "output_type": "stream",
     "text": [
      "No model was supplied, defaulted to distilbert-base-cased-distilled-squad and revision 626af31 (https://huggingface.co/distilbert-base-cased-distilled-squad).\n",
      "Using a pipeline without specifying a model name and revision in production is not recommended.\n"
     ]
    }
   ],
   "source": [
    "# Question-Answering with NLP\n",
    "from transformers import pipeline\n",
    "faq_machine = pipeline(task='question-answering')"
   ]
  },
  {
   "cell_type": "code",
   "execution_count": 63,
   "metadata": {},
   "outputs": [
    {
     "data": {
      "text/plain": [
       "<transformers.pipelines.question_answering.QuestionAnsweringPipeline at 0x7f8fb9039760>"
      ]
     },
     "execution_count": 63,
     "metadata": {},
     "output_type": "execute_result"
    }
   ],
   "source": [
    "faq_machine"
   ]
  },
  {
   "cell_type": "code",
   "execution_count": 85,
   "metadata": {},
   "outputs": [
    {
     "data": {
      "text/plain": [
       "{'score': 0.029459049925208092,\n",
       " 'start': 923,\n",
       " 'end': 981,\n",
       " 'answer': 'customer service chatbots, and other consumer conveniences'}"
      ]
     },
     "execution_count": 85,
     "metadata": {},
     "output_type": "execute_result"
    }
   ],
   "source": [
    "# model has two inputs: question and context\n",
    "# context is the source text the answers of the model are based on\n",
    "about_junkfood= '''Natural language processing (NLP) refers to the branch of computer science—and more specifically, the branch of artificial intelligence or AI—concerned with giving computers the ability to understand text and spoken words in much the same way human beings can.\n",
    "\n",
    "NLP combines computational linguistics—rule-based modeling of human language—with statistical, machine learning, and deep learning models. Together, these technologies enable computers to process human language in the form of text or voice data and to ‘understand’ its full meaning, complete with the speaker or writer’s intent and sentiment.\n",
    "\n",
    "NLP drives computer programs that translate text from one language to another, respond to spoken commands, and summarize large volumes of text rapidly—even in real time. There’s a good chance you’ve interacted with NLP in the form of voice-operated GPS systems, digital assistants, speech-to-text dictation software, customer service chatbots, and other consumer conveniences. But NLP also plays a growing role in enterprise solutions that help streamline business operations, increase employee productivity, and simplify mission-critical business processes.'''\n",
    "faq_machine(question=' what are applications of nlp', context=about_junkfood)\n",
    "# faq_machine returns dictionary which has the answer stored"
   ]
  },
  {
   "cell_type": "code",
   "execution_count": 75,
   "metadata": {},
   "outputs": [
    {
     "data": {
      "text/plain": [
       "{'score': 0.9646331071853638,\n",
       " 'start': 29,\n",
       " 'end': 59,\n",
       " 'answer': 'basic, medium and super deluxe'}"
      ]
     },
     "execution_count": 75,
     "metadata": {},
     "output_type": "execute_result"
    }
   ],
   "source": [
    "# many real life applications, especially for businesses\n",
    "# consumers can have their questions answered by models\n",
    "information=' The packages we provide are basic, medium and super deluxe. The tourist  places include Gangktok,Ooty,Kodaikanal,DShimla,Himachal. The price for all basic packages are between 5000-7000 per person. The price for all basic packages are between 8000-1000 per person. The price for all basic packages are between 12000-20000 per person. Travel will be through train for basic and medium packages.Travel will be through flight for super deluxe package.For local travel, private AC cars shall be provided'\n",
    "\n",
    "answer = faq_machine(question='What packages do you offer?', context = information)\n",
    "answer\n"
   ]
  },
  {
   "cell_type": "code",
   "execution_count": 23,
   "metadata": {},
   "outputs": [
    {
     "data": {
      "text/plain": [
       "'private AC cars shall be provided'"
      ]
     },
     "execution_count": 23,
     "metadata": {},
     "output_type": "execute_result"
    }
   ],
   "source": [
    "answer=faq_machine(question='What about local travel ?',context=information)\n",
    "answer['answer']"
   ]
  },
  {
   "cell_type": "code",
   "execution_count": 25,
   "metadata": {},
   "outputs": [
    {
     "ename": "ModuleNotFoundError",
     "evalue": "No module named 'simpletransformers'",
     "output_type": "error",
     "traceback": [
      "\u001b[0;31m---------------------------------------------------------------------------\u001b[0m",
      "\u001b[0;31mModuleNotFoundError\u001b[0m                       Traceback (most recent call last)",
      "\u001b[0;32m/var/folders/bl/nm33gwcs1xg4szyjqn1k3plm0000gn/T/ipykernel_2901/916909130.py\u001b[0m in \u001b[0;36m<module>\u001b[0;34m\u001b[0m\n\u001b[1;32m      1\u001b[0m \u001b[0;31m# Text classification / sentiment analysis\u001b[0m\u001b[0;34m\u001b[0m\u001b[0;34m\u001b[0m\u001b[0m\n\u001b[1;32m      2\u001b[0m \u001b[0;31m# can be used to classify large quantities of reviews\u001b[0m\u001b[0;34m\u001b[0m\u001b[0;34m\u001b[0m\u001b[0m\n\u001b[0;32m----> 3\u001b[0;31m \u001b[0;32mfrom\u001b[0m \u001b[0msimpletransformers\u001b[0m\u001b[0;34m.\u001b[0m\u001b[0mclassification\u001b[0m \u001b[0;32mimport\u001b[0m \u001b[0mClassificationModel\u001b[0m\u001b[0;34m\u001b[0m\u001b[0;34m\u001b[0m\u001b[0m\n\u001b[0m",
      "\u001b[0;31mModuleNotFoundError\u001b[0m: No module named 'simpletransformers'"
     ]
    }
   ],
   "source": [
    "# Text classification / sentiment analysis\n",
    "# can be used to classify large quantities of reviews\n",
    "from simpletransformers.classification import ClassificationModel\n"
   ]
  },
  {
   "cell_type": "code",
   "execution_count": null,
   "metadata": {},
   "outputs": [],
   "source": []
  },
  {
   "cell_type": "markdown",
   "metadata": {},
   "source": []
  }
 ],
 "metadata": {
  "kernelspec": {
   "display_name": "Python 3.9.7 ('my_env')",
   "language": "python",
   "name": "python3"
  },
  "language_info": {
   "codemirror_mode": {
    "name": "ipython",
    "version": 3
   },
   "file_extension": ".py",
   "mimetype": "text/x-python",
   "name": "python",
   "nbconvert_exporter": "python",
   "pygments_lexer": "ipython3",
   "version": "3.9.7"
  },
  "orig_nbformat": 4,
  "vscode": {
   "interpreter": {
    "hash": "89f7ce0305d306ba19b38a3fc9695c3cbba07c36c3c8b96a74497a6d0d7d4653"
   }
  }
 },
 "nbformat": 4,
 "nbformat_minor": 2
}
