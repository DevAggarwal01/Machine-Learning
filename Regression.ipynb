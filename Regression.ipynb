{
 "cells": [
  {
   "cell_type": "code",
   "execution_count": 22,
   "metadata": {},
   "outputs": [],
   "source": [
    "import pandas as pd\n",
    "import quandl # has a bunch of datasets through quandl.com\n",
    "import math, datetime\n",
    "import numpy as np\n",
    "from sklearn import preprocessing, model_selection, svm\n",
    "from sklearn.linear_model import LinearRegression\n",
    "import matplotlib.pyplot as plt\n",
    "from matplotlib import style\n",
    "import joblib # for saving pickles"
   ]
  },
  {
   "cell_type": "code",
   "execution_count": 40,
   "metadata": {},
   "outputs": [],
   "source": [
    "df = quandl.get('WIKI/GOOGL')"
   ]
  },
  {
   "cell_type": "code",
   "execution_count": 41,
   "metadata": {},
   "outputs": [],
   "source": [
    "df.head()\n",
    "x = df.copy()"
   ]
  },
  {
   "cell_type": "code",
   "execution_count": 42,
   "metadata": {},
   "outputs": [],
   "source": [
    "# Regression - Take in data and find best fit line\n",
    "# y = mx + b, the point is to find m and b\n",
    "# features and labels\n",
    "\n",
    "# Ex. - pattern recognition with stock prices\n",
    "\n",
    "# neural networks good for finding relationships between attributes, but with regression it's best to simplify and eliminate useless features"
   ]
  },
  {
   "cell_type": "code",
   "execution_count": 43,
   "metadata": {},
   "outputs": [],
   "source": [
    "df = x"
   ]
  },
  {
   "cell_type": "code",
   "execution_count": 44,
   "metadata": {},
   "outputs": [
    {
     "name": "stderr",
     "output_type": "stream",
     "text": [
      "/var/folders/bl/nm33gwcs1xg4szyjqn1k3plm0000gn/T/ipykernel_19160/2487019306.py:4: SettingWithCopyWarning: \n",
      "A value is trying to be set on a copy of a slice from a DataFrame.\n",
      "Try using .loc[row_indexer,col_indexer] = value instead\n",
      "\n",
      "See the caveats in the documentation: https://pandas.pydata.org/pandas-docs/stable/user_guide/indexing.html#returning-a-view-versus-a-copy\n",
      "  df['HL_PCT'] = (df['Adj. High']-df['Adj. Low'])/df['Adj. Low'] * 100\n",
      "/var/folders/bl/nm33gwcs1xg4szyjqn1k3plm0000gn/T/ipykernel_19160/2487019306.py:5: SettingWithCopyWarning: \n",
      "A value is trying to be set on a copy of a slice from a DataFrame.\n",
      "Try using .loc[row_indexer,col_indexer] = value instead\n",
      "\n",
      "See the caveats in the documentation: https://pandas.pydata.org/pandas-docs/stable/user_guide/indexing.html#returning-a-view-versus-a-copy\n",
      "  df['PCT_change'] = (df['Adj. Close']-df['Adj. Open'])/df['Adj. Open'] * 100\n"
     ]
    }
   ],
   "source": [
    "df = df[['Adj. Open', 'Adj. High', 'Adj. Low', 'Adj. Close', 'Adj. Volume']] # retaining desired attributes while eliminating all others\n",
    "\n",
    "# creating normalized relationships. the specific formula doesn't matter as long as each feature wanted is involved because the scale is standardized since it is applied to entire dataset\n",
    "df['HL_PCT'] = (df['Adj. High']-df['Adj. Low'])/df['Adj. Low'] * 100\n",
    "df['PCT_change'] = (df['Adj. Close']-df['Adj. Open'])/df['Adj. Open'] * 100\n",
    "\n",
    "# which features impact price? none except adj. close. \n",
    "# must consider importance of each individual feature and adjust accordingly\n",
    "#           price         x            x             x \n",
    "df = df[['Adj. Close', 'HL_PCT', 'PCT_change', 'Adj. Volume']]"
   ]
  },
  {
   "cell_type": "code",
   "execution_count": 45,
   "metadata": {},
   "outputs": [],
   "source": [
    "forecast_col = 'Adj. Close'\n",
    "\n",
    "df.fillna(-99999, inplace=True)"
   ]
  },
  {
   "cell_type": "code",
   "execution_count": 46,
   "metadata": {},
   "outputs": [],
   "source": [
    "forecast_out = int(math.ceil(0.1*len(df)))"
   ]
  },
  {
   "cell_type": "code",
   "execution_count": 47,
   "metadata": {},
   "outputs": [],
   "source": [
    "df['label'] = df[forecast_col].shift(-forecast_out)"
   ]
  },
  {
   "cell_type": "code",
   "execution_count": 48,
   "metadata": {},
   "outputs": [
    {
     "data": {
      "text/html": [
       "<div>\n",
       "<style scoped>\n",
       "    .dataframe tbody tr th:only-of-type {\n",
       "        vertical-align: middle;\n",
       "    }\n",
       "\n",
       "    .dataframe tbody tr th {\n",
       "        vertical-align: top;\n",
       "    }\n",
       "\n",
       "    .dataframe thead th {\n",
       "        text-align: right;\n",
       "    }\n",
       "</style>\n",
       "<table border=\"1\" class=\"dataframe\">\n",
       "  <thead>\n",
       "    <tr style=\"text-align: right;\">\n",
       "      <th></th>\n",
       "      <th>Adj. Close</th>\n",
       "      <th>HL_PCT</th>\n",
       "      <th>PCT_change</th>\n",
       "      <th>Adj. Volume</th>\n",
       "      <th>label</th>\n",
       "    </tr>\n",
       "    <tr>\n",
       "      <th>Date</th>\n",
       "      <th></th>\n",
       "      <th></th>\n",
       "      <th></th>\n",
       "      <th></th>\n",
       "      <th></th>\n",
       "    </tr>\n",
       "  </thead>\n",
       "  <tbody>\n",
       "    <tr>\n",
       "      <th>2004-08-19</th>\n",
       "      <td>50.322842</td>\n",
       "      <td>8.441017</td>\n",
       "      <td>0.324968</td>\n",
       "      <td>44659000.0</td>\n",
       "      <td>214.005615</td>\n",
       "    </tr>\n",
       "    <tr>\n",
       "      <th>2004-08-20</th>\n",
       "      <td>54.322689</td>\n",
       "      <td>8.537313</td>\n",
       "      <td>7.227007</td>\n",
       "      <td>22834300.0</td>\n",
       "      <td>210.725489</td>\n",
       "    </tr>\n",
       "    <tr>\n",
       "      <th>2004-08-23</th>\n",
       "      <td>54.869377</td>\n",
       "      <td>4.062357</td>\n",
       "      <td>-1.227880</td>\n",
       "      <td>18256100.0</td>\n",
       "      <td>208.072299</td>\n",
       "    </tr>\n",
       "    <tr>\n",
       "      <th>2004-08-24</th>\n",
       "      <td>52.597363</td>\n",
       "      <td>7.753210</td>\n",
       "      <td>-5.726357</td>\n",
       "      <td>15247300.0</td>\n",
       "      <td>218.288837</td>\n",
       "    </tr>\n",
       "    <tr>\n",
       "      <th>2004-08-25</th>\n",
       "      <td>53.164113</td>\n",
       "      <td>3.966115</td>\n",
       "      <td>1.183658</td>\n",
       "      <td>9188600.0</td>\n",
       "      <td>223.309335</td>\n",
       "    </tr>\n",
       "  </tbody>\n",
       "</table>\n",
       "</div>"
      ],
      "text/plain": [
       "            Adj. Close    HL_PCT  PCT_change  Adj. Volume       label\n",
       "Date                                                                 \n",
       "2004-08-19   50.322842  8.441017    0.324968   44659000.0  214.005615\n",
       "2004-08-20   54.322689  8.537313    7.227007   22834300.0  210.725489\n",
       "2004-08-23   54.869377  4.062357   -1.227880   18256100.0  208.072299\n",
       "2004-08-24   52.597363  7.753210   -5.726357   15247300.0  218.288837\n",
       "2004-08-25   53.164113  3.966115    1.183658    9188600.0  223.309335"
      ]
     },
     "execution_count": 48,
     "metadata": {},
     "output_type": "execute_result"
    }
   ],
   "source": [
    "df.head()"
   ]
  },
  {
   "cell_type": "code",
   "execution_count": 49,
   "metadata": {},
   "outputs": [
    {
     "name": "stderr",
     "output_type": "stream",
     "text": [
      "/var/folders/bl/nm33gwcs1xg4szyjqn1k3plm0000gn/T/ipykernel_19160/3525989176.py:1: FutureWarning: In a future version of pandas all arguments of DataFrame.drop except for the argument 'labels' will be keyword-only.\n",
      "  X = np.array(df.drop(['label', 'Adj. Close'],1))\n"
     ]
    }
   ],
   "source": [
    "\n",
    "\n",
    "X = np.array(df.drop(['label', 'Adj. Close'],1))\n",
    "X = preprocessing.scale(X)\n",
    "X_lately = X[-forecast_out:]\n",
    "X = X[:-forecast_out:]\n",
    "\n",
    "df.dropna(inplace=True)\n",
    "y = np.array(df['label'])\n",
    "y = np.array(df['label'])"
   ]
  },
  {
   "cell_type": "code",
   "execution_count": 50,
   "metadata": {},
   "outputs": [],
   "source": [
    "X_train, X_test, y_train, y_test = model_selection.train_test_split(X, y, test_size=0.2)"
   ]
  },
  {
   "cell_type": "code",
   "execution_count": 51,
   "metadata": {},
   "outputs": [
    {
     "ename": "FileNotFoundError",
     "evalue": "[Errno 2] No such file or directory: 'linearregreesion.pick'",
     "output_type": "error",
     "traceback": [
      "\u001b[0;31m---------------------------------------------------------------------------\u001b[0m",
      "\u001b[0;31mFileNotFoundError\u001b[0m                         Traceback (most recent call last)",
      "Cell \u001b[0;32mIn[51], line 4\u001b[0m\n\u001b[1;32m      1\u001b[0m \u001b[39m# clf = LinearRegression()\u001b[39;00m\n\u001b[1;32m      2\u001b[0m \u001b[39m# clf.fit(X_train, y_train)\u001b[39;00m\n\u001b[0;32m----> 4\u001b[0m clf \u001b[39m=\u001b[39m joblib\u001b[39m.\u001b[39;49mload(\u001b[39m'\u001b[39;49m\u001b[39mlinearregreesion.pick\u001b[39;49m\u001b[39m'\u001b[39;49m) \u001b[39m# testing out pickling / saving models and loading them\u001b[39;00m\n\u001b[1;32m      6\u001b[0m accuracy \u001b[39m=\u001b[39m clf\u001b[39m.\u001b[39mscore(X_test, y_test)\n\u001b[1;32m      7\u001b[0m \u001b[39mprint\u001b[39m(accuracy)\n",
      "File \u001b[0;32m~/miniconda3/lib/python3.10/site-packages/joblib/numpy_pickle.py:650\u001b[0m, in \u001b[0;36mload\u001b[0;34m(filename, mmap_mode)\u001b[0m\n\u001b[1;32m    648\u001b[0m         obj \u001b[39m=\u001b[39m _unpickle(fobj)\n\u001b[1;32m    649\u001b[0m \u001b[39melse\u001b[39;00m:\n\u001b[0;32m--> 650\u001b[0m     \u001b[39mwith\u001b[39;00m \u001b[39mopen\u001b[39;49m(filename, \u001b[39m'\u001b[39;49m\u001b[39mrb\u001b[39;49m\u001b[39m'\u001b[39;49m) \u001b[39mas\u001b[39;00m f:\n\u001b[1;32m    651\u001b[0m         \u001b[39mwith\u001b[39;00m _read_fileobject(f, filename, mmap_mode) \u001b[39mas\u001b[39;00m fobj:\n\u001b[1;32m    652\u001b[0m             \u001b[39mif\u001b[39;00m \u001b[39misinstance\u001b[39m(fobj, \u001b[39mstr\u001b[39m):\n\u001b[1;32m    653\u001b[0m                 \u001b[39m# if the returned file object is a string, this means we\u001b[39;00m\n\u001b[1;32m    654\u001b[0m                 \u001b[39m# try to load a pickle file generated with an version of\u001b[39;00m\n\u001b[1;32m    655\u001b[0m                 \u001b[39m# Joblib so we load it with joblib compatibility function.\u001b[39;00m\n",
      "\u001b[0;31mFileNotFoundError\u001b[0m: [Errno 2] No such file or directory: 'linearregreesion.pick'"
     ]
    }
   ],
   "source": [
    "# clf = LinearRegression()\n",
    "# clf.fit(X_train, y_train)\n",
    "\n",
    "clf = joblib.load('linearregreesion.pick') # testing out pickling / saving models and loading them\n",
    "\n",
    "accuracy = clf.score(X_test, y_test)\n",
    "print(accuracy)"
   ]
  },
  {
   "cell_type": "code",
   "execution_count": null,
   "metadata": {},
   "outputs": [
    {
     "name": "stdout",
     "output_type": "stream",
     "text": [
      "[ 788.99107913  767.07546078  792.40992882  796.99941548  804.80469004\n",
      "  792.96858963  803.2672522   803.35356398  796.02660544  799.62088847\n",
      "  802.19113581  807.74297521  792.30330843  779.19930153  782.31891625\n",
      "  796.14984252  793.99506524  808.67374099  813.56088652  828.0003198\n",
      "  827.16469888  833.70813441  836.49711514  834.23376294  827.96346328\n",
      "  831.15898552  834.84008667  830.83347601  829.32941432  827.38168592\n",
      "  828.83496166  823.01947211  822.05417856  810.09340177  826.04905768\n",
      "  826.563513    832.3238113   843.09106671  846.41171714  845.63708906\n",
      "  849.2554468   848.72700511  850.80278235  846.89955013  848.81998387\n",
      "  843.51741685  848.04667639  862.62504779  868.96333343  878.08633269\n",
      "  875.74707142  861.14639719  841.02440957  839.0189355   833.42589885\n",
      "  836.76821804  839.47110011  840.89448341  848.50682059  849.09978242\n",
      "  849.84941315  854.53909059  858.89905627  859.84059203  857.15668393\n",
      "  862.28709124  866.37076457  869.33168245  871.28705664  870.35076766\n",
      "  867.84157724  869.57178118  864.56607438  876.34177221  869.45619738\n",
      "  869.11546735  867.0263328   871.02640069  873.80392502  877.69422372\n",
      "  881.41299461  884.82199518  885.99846392  888.23671752  890.41069043\n",
      "  892.46112639  888.08138607  866.46479823  869.4199686   858.50347228\n",
      "  853.21264534  856.6778317   859.36378494  869.31786915  869.61695409\n",
      "  867.98496809  875.98193564  872.73808483  867.56434128  864.32779206\n",
      "  861.58212791  861.65503208  859.17139737  861.41421119  860.09518752\n",
      "  874.23040717  874.13463384  876.523849    880.17207914  879.24500364\n",
      "  898.24756688  908.26649925  909.33829424  911.83031406  943.82827552\n",
      "  952.54882741  957.36444091  968.61040877  975.22547984  970.82147656\n",
      "  979.14440658  977.69589151  976.11482808  976.98360753  976.50364182\n",
      "  980.20005284  986.24954435  960.76367354  970.89203818  975.83801364\n",
      "  985.38572269  991.54964784  999.3025031  1012.21532742 1014.68986849\n",
      " 1018.05282555 1007.09013677 1009.30295634 1017.60726046 1025.22563937\n",
      " 1017.44187014 1023.3401412  1025.82177769  984.36912651  979.14123151\n",
      "  990.56217541  987.42705657  979.62548174  979.02665088  996.25001005\n",
      "  989.59084439  999.86294427  998.21803511 1007.21587129  991.03843479\n",
      "  966.95123597  979.41179872  956.03360921  948.95283978  938.23071136\n",
      "  951.67092879  947.16723077  960.8842446   971.75767365  974.39222927\n",
      "  988.36874566  989.1444522   998.50744105  996.65784259 1007.28724912\n",
      " 1014.32815913 1012.90643206 1015.13870235 1018.57875651  988.41793945\n",
      "  985.43831444  969.34507954  978.39504283  964.42854797  967.35756119\n",
      "  967.27005097  960.78897183  966.86876286  967.01333128  964.84776383\n",
      "  960.75052127  942.80880167  950.33059012  960.05724048  959.20171833\n",
      "  965.03150605  946.92608227  946.93821799  941.2073067   960.37664004\n",
      "  963.3728315   956.62185178  950.80609937  948.78581964  955.43267478\n",
      "  964.26260831  976.01292821  973.02926929  961.21996397  962.37896447\n",
      "  970.41015871  961.91417349  963.67650722  967.30381917  971.61601179\n",
      "  960.67969046  955.53324944  949.91292205  957.3579856   967.95179888\n",
      "  967.81746413  964.12934495  953.87524409  958.1009253   979.02469347\n",
      "  985.83704258  994.80854342  987.53818445  993.32445033  987.97006475\n",
      " 1005.75063912 1014.44244801 1013.79371318 1008.18459917 1026.10553454\n",
      " 1027.09789342 1029.70153571 1030.92850737 1032.9361296  1034.27865226\n",
      " 1023.16623383 1026.94403883 1004.76063878 1009.50332024 1011.99759361\n",
      " 1011.73374549 1051.29372842 1053.91169187 1054.3141378  1064.04044156\n",
      " 1064.22546278 1071.8471774  1064.65359369 1074.55614226 1069.06752357\n",
      " 1066.85827981 1063.39200123 1063.43947326 1058.62844939 1070.32657388\n",
      " 1056.73035105 1057.17426537 1072.50679185 1074.46746981 1079.12550429\n",
      " 1093.54235281 1083.4771217  1056.30854201 1057.3114845  1045.34518977\n",
      " 1031.55426086 1038.22594754 1053.0902827  1066.29340074 1071.34915948\n",
      " 1073.96845646 1069.84348789 1073.64235198 1079.25679156 1093.44994904\n",
      " 1107.04992836 1101.94492167 1095.54786553 1093.39186335 1092.048329\n",
      " 1088.22769133 1082.45837161 1077.97694674 1076.14297272 1094.34600785\n",
      " 1112.92128061 1118.51188297 1133.07475932 1137.387832   1135.63995159\n",
      " 1133.33546666 1135.07266857 1152.48150162 1152.27333093 1161.78663165\n",
      " 1158.50012072 1166.78223527 1186.40590016 1199.77880208 1193.66322872\n",
      " 1205.6824506  1210.2992927  1209.92826065 1200.69533546 1205.53944557\n",
      " 1204.27526196 1139.74927087 1084.23796401 1101.3516995  1074.20480959\n",
      " 1019.68256698 1059.21775824 1075.09218037 1075.80058456 1093.33719613\n",
      " 1112.02511227 1117.31321435 1124.62676219 1134.48641647 1131.49803557\n",
      " 1150.21597753 1166.65964697 1137.97846655 1124.52549033 1088.84432243\n",
      " 1103.58248708 1115.48362555 1123.6001878  1136.42441618 1152.21681479\n",
      " 1182.6863185  1188.42067004 1158.85129831 1171.37037359 1172.13951281\n",
      " 1155.28688424 1119.75032429 1116.58563698 1115.22479803 1071.41562881\n",
      " 1043.7516681  1070.93666432 1019.95776781] 0.97659527450882 343\n"
     ]
    }
   ],
   "source": [
    "forecast_set = clf.predict(X_lately)\n",
    "\n",
    "print(forecast_set, accuracy, forecast_out)"
   ]
  },
  {
   "cell_type": "code",
   "execution_count": 52,
   "metadata": {},
   "outputs": [],
   "source": [
    "df['Forecast'] = np.nan\n",
    "\n",
    "last_date = df.iloc[-1].name\n",
    "last_unix = last_date.timestamp()\n",
    "one_day = 86400 # seconds\n",
    "next_unix = last_unix + one_day\n",
    "\n",
    "for i in forecast_set:\n",
    "    next_date = datetime.datetime.fromtimestamp(next_unix)\n",
    "    next_unix += one_day\n",
    "    df.loc[next_date] = [np.nan for _ in range(len(df.columns)-1)] + [i]"
   ]
  },
  {
   "cell_type": "code",
   "execution_count": 53,
   "metadata": {},
   "outputs": [
    {
     "data": {
      "image/png": "[encoded data removed]",
      "text/plain": [
       "<Figure size 640x480 with 1 Axes>"
      ]
     },
     "metadata": {},
     "output_type": "display_data"
    }
   ],
   "source": [
    "df['Adj. Close'].plot()\n",
    "df['Forecast'].plot()\n",
    "plt.legend(loc=4)\n",
    "plt.xlabel('Date')\n",
    "plt.ylabel('Price')\n",
    "plt.show()"
   ]
  },
  {
   "cell_type": "code",
   "execution_count": 54,
   "metadata": {},
   "outputs": [
    {
     "data": {
      "text/plain": [
       "['linearregreesion.pickle']"
      ]
     },
     "execution_count": 54,
     "metadata": {},
     "output_type": "execute_result"
    }
   ],
   "source": [
    "# Pickling - serialization of any object such as classifier\n",
    "# Saves the training of an algorithm\n",
    "# Helpful when there's a bunch of data involved\n",
    "\n",
    "# to save smth and create file\n",
    "joblib.dump(clf,'linearregreesion.pickle')"
   ]
  },
  {
   "cell_type": "code",
   "execution_count": 55,
   "metadata": {},
   "outputs": [],
   "source": [
    "# to load saved object from a existing file\n",
    "clf = joblib.load('linearregreesion.pickle')"
   ]
  },
  {
   "cell_type": "code",
   "execution_count": null,
   "metadata": {},
   "outputs": [],
   "source": []
  }
 ],
 "metadata": {
  "kernelspec": {
   "display_name": "base",
   "language": "python",
   "name": "python3"
  },
  "language_info": {
   "codemirror_mode": {
    "name": "ipython",
    "version": 3
   },
   "file_extension": ".py",
   "mimetype": "text/x-python",
   "name": "python",
   "nbconvert_exporter": "python",
   "pygments_lexer": "ipython3",
   "version": "3.10.9"
  },
  "orig_nbformat": 4,
  "vscode": {
   "interpreter": {
    "hash": "1b90d9c1bd2daac4c8b1854437fad283dcd369f65c62fc6d014873e2646cc9dd"
   }
  }
 },
 "nbformat": 4,
 "nbformat_minor": 2
}
